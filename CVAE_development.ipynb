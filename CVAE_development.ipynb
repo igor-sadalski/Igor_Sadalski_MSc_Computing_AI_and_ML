{
 "cells": [
  {
   "cell_type": "markdown",
   "metadata": {},
   "source": [
    "# GMM"
   ]
  },
  {
   "cell_type": "code",
   "execution_count": 321,
   "metadata": {},
   "outputs": [
    {
     "data": {
      "text/html": [
       "<div>\n",
       "<style scoped>\n",
       "    .dataframe tbody tr th:only-of-type {\n",
       "        vertical-align: middle;\n",
       "    }\n",
       "\n",
       "    .dataframe tbody tr th {\n",
       "        vertical-align: top;\n",
       "    }\n",
       "\n",
       "    .dataframe thead th {\n",
       "        text-align: right;\n",
       "    }\n",
       "</style>\n",
       "<table border=\"1\" class=\"dataframe\">\n",
       "  <thead>\n",
       "    <tr style=\"text-align: right;\">\n",
       "      <th></th>\n",
       "      <th>Request Creation Date</th>\n",
       "      <th>Request Creation Time</th>\n",
       "      <th>Number of Passengers</th>\n",
       "      <th>Requested Pickup Time</th>\n",
       "      <th>Origin Lat</th>\n",
       "      <th>Origin Lng</th>\n",
       "      <th>Destination Lat</th>\n",
       "      <th>Destination Lng</th>\n",
       "      <th>Origin Node</th>\n",
       "      <th>Destination Node</th>\n",
       "    </tr>\n",
       "  </thead>\n",
       "  <tbody>\n",
       "    <tr>\n",
       "      <th>0</th>\n",
       "      <td>2023-01-03</td>\n",
       "      <td>2023-01-03 19:12:16</td>\n",
       "      <td>1</td>\n",
       "      <td>2023-01-03 19:14:15</td>\n",
       "      <td>42.371232</td>\n",
       "      <td>-71.121891</td>\n",
       "      <td>42.362511</td>\n",
       "      <td>-71.113059</td>\n",
       "      <td>61325617</td>\n",
       "      <td>61317400</td>\n",
       "    </tr>\n",
       "    <tr>\n",
       "      <th>1</th>\n",
       "      <td>2023-01-03</td>\n",
       "      <td>2023-01-03 19:13:37</td>\n",
       "      <td>1</td>\n",
       "      <td>2023-01-03 19:15:36</td>\n",
       "      <td>42.377445</td>\n",
       "      <td>-71.116613</td>\n",
       "      <td>42.370020</td>\n",
       "      <td>-71.110136</td>\n",
       "      <td>61329142</td>\n",
       "      <td>61326730</td>\n",
       "    </tr>\n",
       "    <tr>\n",
       "      <th>2</th>\n",
       "      <td>2023-01-03</td>\n",
       "      <td>2023-01-03 19:18:56</td>\n",
       "      <td>1</td>\n",
       "      <td>2023-01-03 19:20:55</td>\n",
       "      <td>42.371281</td>\n",
       "      <td>-71.122334</td>\n",
       "      <td>42.385452</td>\n",
       "      <td>-71.115491</td>\n",
       "      <td>61325617</td>\n",
       "      <td>61170738</td>\n",
       "    </tr>\n",
       "    <tr>\n",
       "      <th>3</th>\n",
       "      <td>2023-01-03</td>\n",
       "      <td>2023-01-03 19:24:59</td>\n",
       "      <td>1</td>\n",
       "      <td>2023-01-03 19:26:57</td>\n",
       "      <td>42.375568</td>\n",
       "      <td>-71.128022</td>\n",
       "      <td>42.381676</td>\n",
       "      <td>-71.114599</td>\n",
       "      <td>61324786</td>\n",
       "      <td>2562486744</td>\n",
       "    </tr>\n",
       "    <tr>\n",
       "      <th>4</th>\n",
       "      <td>2023-01-03</td>\n",
       "      <td>2023-01-03 19:50:56</td>\n",
       "      <td>1</td>\n",
       "      <td>2023-01-03 19:52:55</td>\n",
       "      <td>42.366306</td>\n",
       "      <td>-71.115005</td>\n",
       "      <td>42.371367</td>\n",
       "      <td>-71.116546</td>\n",
       "      <td>61328439</td>\n",
       "      <td>61325523</td>\n",
       "    </tr>\n",
       "    <tr>\n",
       "      <th>...</th>\n",
       "      <td>...</td>\n",
       "      <td>...</td>\n",
       "      <td>...</td>\n",
       "      <td>...</td>\n",
       "      <td>...</td>\n",
       "      <td>...</td>\n",
       "      <td>...</td>\n",
       "      <td>...</td>\n",
       "      <td>...</td>\n",
       "      <td>...</td>\n",
       "    </tr>\n",
       "    <tr>\n",
       "      <th>33786</th>\n",
       "      <td>2022-12-22</td>\n",
       "      <td>2022-12-22 22:32:00</td>\n",
       "      <td>1</td>\n",
       "      <td>2022-12-22 22:34:00</td>\n",
       "      <td>42.376273</td>\n",
       "      <td>-71.115999</td>\n",
       "      <td>42.368864</td>\n",
       "      <td>-71.115214</td>\n",
       "      <td>61329142</td>\n",
       "      <td>61321522</td>\n",
       "    </tr>\n",
       "    <tr>\n",
       "      <th>33787</th>\n",
       "      <td>2022-12-22</td>\n",
       "      <td>2022-12-22 22:39:00</td>\n",
       "      <td>1</td>\n",
       "      <td>2022-12-22 22:41:00</td>\n",
       "      <td>42.379677</td>\n",
       "      <td>-71.125679</td>\n",
       "      <td>42.386852</td>\n",
       "      <td>-71.130425</td>\n",
       "      <td>61329446</td>\n",
       "      <td>61330709</td>\n",
       "    </tr>\n",
       "    <tr>\n",
       "      <th>33788</th>\n",
       "      <td>2022-12-22</td>\n",
       "      <td>2022-12-22 22:53:00</td>\n",
       "      <td>1</td>\n",
       "      <td>2022-12-22 22:55:00</td>\n",
       "      <td>42.379052</td>\n",
       "      <td>-71.123896</td>\n",
       "      <td>42.383926</td>\n",
       "      <td>-71.112578</td>\n",
       "      <td>61324107</td>\n",
       "      <td>71951245</td>\n",
       "    </tr>\n",
       "    <tr>\n",
       "      <th>33789</th>\n",
       "      <td>2022-12-22</td>\n",
       "      <td>2022-12-22 23:09:00</td>\n",
       "      <td>1</td>\n",
       "      <td>2022-12-22 23:11:00</td>\n",
       "      <td>42.375487</td>\n",
       "      <td>-71.113144</td>\n",
       "      <td>42.376736</td>\n",
       "      <td>-71.104893</td>\n",
       "      <td>61324740</td>\n",
       "      <td>61171170</td>\n",
       "    </tr>\n",
       "    <tr>\n",
       "      <th>33790</th>\n",
       "      <td>2022-12-22</td>\n",
       "      <td>2022-12-22 23:26:00</td>\n",
       "      <td>1</td>\n",
       "      <td>2022-12-22 23:28:00</td>\n",
       "      <td>42.363577</td>\n",
       "      <td>-71.130553</td>\n",
       "      <td>42.367060</td>\n",
       "      <td>-71.115448</td>\n",
       "      <td>61455325</td>\n",
       "      <td>2764945127</td>\n",
       "    </tr>\n",
       "  </tbody>\n",
       "</table>\n",
       "<p>33791 rows × 10 columns</p>\n",
       "</div>"
      ],
      "text/plain": [
       "      Request Creation Date Request Creation Time  Number of Passengers  \\\n",
       "0                2023-01-03   2023-01-03 19:12:16                     1   \n",
       "1                2023-01-03   2023-01-03 19:13:37                     1   \n",
       "2                2023-01-03   2023-01-03 19:18:56                     1   \n",
       "3                2023-01-03   2023-01-03 19:24:59                     1   \n",
       "4                2023-01-03   2023-01-03 19:50:56                     1   \n",
       "...                     ...                   ...                   ...   \n",
       "33786            2022-12-22   2022-12-22 22:32:00                     1   \n",
       "33787            2022-12-22   2022-12-22 22:39:00                     1   \n",
       "33788            2022-12-22   2022-12-22 22:53:00                     1   \n",
       "33789            2022-12-22   2022-12-22 23:09:00                     1   \n",
       "33790            2022-12-22   2022-12-22 23:26:00                     1   \n",
       "\n",
       "      Requested Pickup Time  Origin Lat  Origin Lng  Destination Lat  \\\n",
       "0       2023-01-03 19:14:15   42.371232  -71.121891        42.362511   \n",
       "1       2023-01-03 19:15:36   42.377445  -71.116613        42.370020   \n",
       "2       2023-01-03 19:20:55   42.371281  -71.122334        42.385452   \n",
       "3       2023-01-03 19:26:57   42.375568  -71.128022        42.381676   \n",
       "4       2023-01-03 19:52:55   42.366306  -71.115005        42.371367   \n",
       "...                     ...         ...         ...              ...   \n",
       "33786   2022-12-22 22:34:00   42.376273  -71.115999        42.368864   \n",
       "33787   2022-12-22 22:41:00   42.379677  -71.125679        42.386852   \n",
       "33788   2022-12-22 22:55:00   42.379052  -71.123896        42.383926   \n",
       "33789   2022-12-22 23:11:00   42.375487  -71.113144        42.376736   \n",
       "33790   2022-12-22 23:28:00   42.363577  -71.130553        42.367060   \n",
       "\n",
       "       Destination Lng  Origin Node  Destination Node  \n",
       "0           -71.113059     61325617          61317400  \n",
       "1           -71.110136     61329142          61326730  \n",
       "2           -71.115491     61325617          61170738  \n",
       "3           -71.114599     61324786        2562486744  \n",
       "4           -71.116546     61328439          61325523  \n",
       "...                ...          ...               ...  \n",
       "33786       -71.115214     61329142          61321522  \n",
       "33787       -71.130425     61329446          61330709  \n",
       "33788       -71.112578     61324107          71951245  \n",
       "33789       -71.104893     61324740          61171170  \n",
       "33790       -71.115448     61455325        2764945127  \n",
       "\n",
       "[33791 rows x 10 columns]"
      ]
     },
     "execution_count": 321,
     "metadata": {},
     "output_type": "execute_result"
    }
   ],
   "source": [
    "import pandas as pd\n",
    "import os\n",
    "import osmnx as ox\n",
    "\n",
    "df = pd.read_csv('online_requests.csv')\n",
    "data = df[['Request Creation Date', 'Request Creation Time', 'Number of Passengers',\n",
    "       'Requested Pickup Time', 'Origin Lat', 'Origin Lng','Destination Lat', 'Destination Lng']]\n",
    "G = ox.load_graphml('graph_structure.graphml')\n",
    "origin_nodes = ox.nearest_nodes(G, data[\"Origin Lng\"], data[\"Origin Lat\"])\n",
    "destination_nodes = ox.nearest_nodes(G, data[\"Destination Lng\"], data[\"Destination Lat\"])\n",
    "data[\"Origin Node\"] = origin_nodes\n",
    "data[\"Destination Node\"] = destination_nodes\n",
    "data"
   ]
  },
  {
   "cell_type": "code",
   "execution_count": 322,
   "metadata": {},
   "outputs": [
    {
     "data": {
      "image/png": "[encoded data removed]",
      "text/plain": [
       "<Figure size 800x600 with 1 Axes>"
      ]
     },
     "metadata": {},
     "output_type": "display_data"
    },
    {
     "name": "stdout",
     "output_type": "stream",
     "text": [
      "46\n"
     ]
    }
   ],
   "source": [
    "import numpy as np\n",
    "import matplotlib.pyplot as plt\n",
    "from sklearn.mixture import GaussianMixture\n",
    "\n",
    "# Extract the Origin Lat and Origin Lng columns from the DataFrame\n",
    "X = df[['Origin Lat', 'Origin Lng', 'Destination Lat', 'Destination Lng']].values\n",
    "\n",
    "# Define the range of n_components to try\n",
    "n_components_range = range(1, 50, 5)\n",
    "\n",
    "# Initialize lists to store the BIC and AIC scores\n",
    "bic_scores = []\n",
    "aic_scores = []\n",
    "\n",
    "# Loop over different values of n_components\n",
    "for n_components in n_components_range:\n",
    "    # Fit a Gaussian Mixture Model\n",
    "    gmm = GaussianMixture(n_components=n_components)\n",
    "    gmm.fit(X)\n",
    "\n",
    "    # Store the BIC and AIC scores\n",
    "    bic_scores.append(gmm.bic(X))\n",
    "    aic_scores.append(gmm.aic(X))\n",
    "\n",
    "# Plot the BIC and AIC scores\n",
    "plt.figure(figsize=(8, 6))\n",
    "plt.plot(n_components_range, bic_scores, label='BIC')\n",
    "plt.plot(n_components_range, aic_scores, label='AIC')\n",
    "plt.xlabel('Number of Components')\n",
    "plt.ylabel('Score')\n",
    "plt.legend()\n",
    "plt.title('BIC and AIC Scores vs Number of Components')\n",
    "plt.show()\n",
    "print(n_components_range[np.argmin(bic_scores)])"
   ]
  },
  {
   "cell_type": "code",
   "execution_count": 323,
   "metadata": {},
   "outputs": [],
   "source": [
    "# import matplotlib as mpl\n",
    "# import matplotlib.pyplot as plt\n",
    "# import numpy as np\n",
    "# import osmnx as ox\n",
    "# from scipy import linalg\n",
    "# from sklearn import mixture\n",
    "# import matplotlib.cm as cm\n",
    "# import itertools\n",
    "# #filter this data to only some one specific data/date\n",
    "# # Create a colormap\n",
    "# cmap = cm.viridis  # 'viridis' is just an example, you can use any colormap you like\n",
    "\n",
    "# # Create a list of colors from the colormap\n",
    "# colors = [cmap(i) for i in np.linspace(0, 1, 28)]  # Replace 28 with the number of unique colors you need\n",
    "\n",
    "# def plot_results(X, Y_, means, covariances, index, title, G):\n",
    "#     fig, ax = ox.plot_graph(G, node_color='#111111', bgcolor='w', edge_color='#111111', edge_linewidth=0.5, node_size=3, show=False, close=False)\n",
    "\n",
    "#     for i, (mean, covar, color) in enumerate(zip(means, covariances, colors)):\n",
    "#         v, w = linalg.eigh(covar)\n",
    "#         v = 2.0 * np.sqrt(2.0) * np.sqrt(v)\n",
    "#         u = w[0] / linalg.norm(w[0])\n",
    "\n",
    "#         if not np.any(Y_ == i):\n",
    "#             continue\n",
    "\n",
    "#         ax.scatter(X[Y_ == i, 1], X[Y_ == i, 0], s=1, color=color)\n",
    "\n",
    "#         angle = np.arctan(u[1] / u[0])\n",
    "#         angle = 180.0 * angle / np.pi  # convert to degrees\n",
    "#         ell = mpl.patches.Ellipse(mean[::-1], v[0], v[1], angle=180.0 + angle, color=color)\n",
    "#         ell.set_clip_box(ax.bbox)\n",
    "#         ell.set_alpha(0.5)\n",
    "#         ax.add_patch(ell)\n",
    "\n",
    "#     ax.set_title(title)\n",
    "#     plt.show()\n",
    "\n",
    "# X = df[['Origin Lat', 'Origin Lng']].values\n",
    "# best_n_components = n_components_range[np.argmin(bic_scores)]\n",
    "\n",
    "# gmm = mixture.GaussianMixture(n_components=best_n_components, covariance_type=\"full\").fit(X)\n",
    "# plot_results(X, gmm.predict(X), gmm.means_, gmm.covariances_, 0, \"Gaussian Mixture\", G)"
   ]
  },
  {
   "cell_type": "code",
   "execution_count": 324,
   "metadata": {},
   "outputs": [],
   "source": [
    "# import numpy as np\n",
    "# import osmnx as ox\n",
    "# import matplotlib.pyplot as plt\n",
    "# from sklearn import mixture\n",
    "\n",
    "# # Assuming you have already fitted the GMM and obtained the best number of components\n",
    "# gmm = mixture.GaussianMixture(n_components=best_n_components, covariance_type=\"full\").fit(X)\n",
    "\n",
    "# # Generate new samples from the GMM\n",
    "# num_samples = 5000\n",
    "# X_gmm_generated = gmm.sample(num_samples)[0]\n",
    "\n",
    "# # Plot the generated samples and ground truth points on the map\n",
    "# fig, ax = ox.plot_graph(G, node_color='#111111', bgcolor='w', edge_color='#111111',\n",
    "#                         edge_linewidth=0.5, node_size=3, show=False, close=False)\n",
    "\n",
    "# # Plot ground truth points\n",
    "# indices = np.random.randint(0, len(X), size=num_samples)\n",
    "# samples = X[indices]\n",
    "# ax.scatter(samples[:, 1], samples[:, 0], s=1, c='blue', alpha=0.5, label='Ground Truth')\n",
    "\n",
    "# # Plot generated samples from the GMM\n",
    "# ax.scatter(X_gmm_generated[:, 1], X_gmm_generated[:, 0], s=1, c='red', alpha=0.5, label='GMM Generated')\n",
    "\n",
    "# ax.legend()\n",
    "# plt.show()"
   ]
  },
  {
   "cell_type": "markdown",
   "metadata": {},
   "source": [
    "# CVAE"
   ]
  },
  {
   "cell_type": "code",
   "execution_count": 325,
   "metadata": {},
   "outputs": [
    {
     "data": {
      "text/html": [
       "<div>\n",
       "<style scoped>\n",
       "    .dataframe tbody tr th:only-of-type {\n",
       "        vertical-align: middle;\n",
       "    }\n",
       "\n",
       "    .dataframe tbody tr th {\n",
       "        vertical-align: top;\n",
       "    }\n",
       "\n",
       "    .dataframe thead th {\n",
       "        text-align: right;\n",
       "    }\n",
       "</style>\n",
       "<table border=\"1\" class=\"dataframe\">\n",
       "  <thead>\n",
       "    <tr style=\"text-align: right;\">\n",
       "      <th></th>\n",
       "      <th>Origin Lat</th>\n",
       "      <th>Origin Lng</th>\n",
       "      <th>Destination Lat</th>\n",
       "      <th>Destination Lng</th>\n",
       "      <th>Interval</th>\n",
       "      <th>Work Day</th>\n",
       "      <th>Day of the Week</th>\n",
       "    </tr>\n",
       "  </thead>\n",
       "  <tbody>\n",
       "    <tr>\n",
       "      <th>0</th>\n",
       "      <td>42.382252</td>\n",
       "      <td>-71.124968</td>\n",
       "      <td>42.372819</td>\n",
       "      <td>-71.116707</td>\n",
       "      <td>0</td>\n",
       "      <td>1</td>\n",
       "      <td>5</td>\n",
       "    </tr>\n",
       "    <tr>\n",
       "      <th>1</th>\n",
       "      <td>42.372819</td>\n",
       "      <td>-71.116707</td>\n",
       "      <td>42.381018</td>\n",
       "      <td>-71.124981</td>\n",
       "      <td>0</td>\n",
       "      <td>1</td>\n",
       "      <td>1</td>\n",
       "    </tr>\n",
       "    <tr>\n",
       "      <th>2</th>\n",
       "      <td>42.365541</td>\n",
       "      <td>-71.103972</td>\n",
       "      <td>42.378300</td>\n",
       "      <td>-71.117081</td>\n",
       "      <td>0</td>\n",
       "      <td>1</td>\n",
       "      <td>5</td>\n",
       "    </tr>\n",
       "    <tr>\n",
       "      <th>3</th>\n",
       "      <td>42.372591</td>\n",
       "      <td>-71.119757</td>\n",
       "      <td>42.381808</td>\n",
       "      <td>-71.125538</td>\n",
       "      <td>0</td>\n",
       "      <td>1</td>\n",
       "      <td>5</td>\n",
       "    </tr>\n",
       "    <tr>\n",
       "      <th>4</th>\n",
       "      <td>42.365538</td>\n",
       "      <td>-71.103958</td>\n",
       "      <td>42.378570</td>\n",
       "      <td>-71.117578</td>\n",
       "      <td>0</td>\n",
       "      <td>1</td>\n",
       "      <td>5</td>\n",
       "    </tr>\n",
       "    <tr>\n",
       "      <th>...</th>\n",
       "      <td>...</td>\n",
       "      <td>...</td>\n",
       "      <td>...</td>\n",
       "      <td>...</td>\n",
       "      <td>...</td>\n",
       "      <td>...</td>\n",
       "      <td>...</td>\n",
       "    </tr>\n",
       "    <tr>\n",
       "      <th>32602</th>\n",
       "      <td>42.373383</td>\n",
       "      <td>-71.119986</td>\n",
       "      <td>42.381808</td>\n",
       "      <td>-71.125538</td>\n",
       "      <td>415</td>\n",
       "      <td>0</td>\n",
       "      <td>6</td>\n",
       "    </tr>\n",
       "    <tr>\n",
       "      <th>32603</th>\n",
       "      <td>42.381732</td>\n",
       "      <td>-71.125340</td>\n",
       "      <td>42.368868</td>\n",
       "      <td>-71.115963</td>\n",
       "      <td>415</td>\n",
       "      <td>0</td>\n",
       "      <td>6</td>\n",
       "    </tr>\n",
       "    <tr>\n",
       "      <th>32604</th>\n",
       "      <td>42.375683</td>\n",
       "      <td>-71.114214</td>\n",
       "      <td>42.382334</td>\n",
       "      <td>-71.111538</td>\n",
       "      <td>415</td>\n",
       "      <td>1</td>\n",
       "      <td>2</td>\n",
       "    </tr>\n",
       "    <tr>\n",
       "      <th>32605</th>\n",
       "      <td>42.382806</td>\n",
       "      <td>-71.119122</td>\n",
       "      <td>42.370047</td>\n",
       "      <td>-71.117401</td>\n",
       "      <td>415</td>\n",
       "      <td>1</td>\n",
       "      <td>4</td>\n",
       "    </tr>\n",
       "    <tr>\n",
       "      <th>32606</th>\n",
       "      <td>42.370283</td>\n",
       "      <td>-71.121056</td>\n",
       "      <td>42.368706</td>\n",
       "      <td>-71.115333</td>\n",
       "      <td>415</td>\n",
       "      <td>1</td>\n",
       "      <td>2</td>\n",
       "    </tr>\n",
       "  </tbody>\n",
       "</table>\n",
       "<p>32607 rows × 7 columns</p>\n",
       "</div>"
      ],
      "text/plain": [
       "       Origin Lat  Origin Lng  Destination Lat  Destination Lng  Interval  \\\n",
       "0       42.382252  -71.124968        42.372819       -71.116707         0   \n",
       "1       42.372819  -71.116707        42.381018       -71.124981         0   \n",
       "2       42.365541  -71.103972        42.378300       -71.117081         0   \n",
       "3       42.372591  -71.119757        42.381808       -71.125538         0   \n",
       "4       42.365538  -71.103958        42.378570       -71.117578         0   \n",
       "...           ...         ...              ...              ...       ...   \n",
       "32602   42.373383  -71.119986        42.381808       -71.125538       415   \n",
       "32603   42.381732  -71.125340        42.368868       -71.115963       415   \n",
       "32604   42.375683  -71.114214        42.382334       -71.111538       415   \n",
       "32605   42.382806  -71.119122        42.370047       -71.117401       415   \n",
       "32606   42.370283  -71.121056        42.368706       -71.115333       415   \n",
       "\n",
       "       Work Day  Day of the Week  \n",
       "0             1                5  \n",
       "1             1                1  \n",
       "2             1                5  \n",
       "3             1                5  \n",
       "4             1                5  \n",
       "...         ...              ...  \n",
       "32602         0                6  \n",
       "32603         0                6  \n",
       "32604         1                2  \n",
       "32605         1                4  \n",
       "32606         1                2  \n",
       "\n",
       "[32607 rows x 7 columns]"
      ]
     },
     "execution_count": 325,
     "metadata": {},
     "output_type": "execute_result"
    }
   ],
   "source": [
    "import pandas as pd\n",
    "import datetime\n",
    "from sklearn.model_selection import train_test_split\n",
    "\n",
    "# Read and preprocess the data\n",
    "df = pd.read_csv('online_requests.csv')\n",
    "df = df[['Requested Pickup Time', 'Origin Lat', 'Origin Lng', 'Destination Lat', 'Destination Lng']]\n",
    "df['Requested Pickup Time'] = pd.to_datetime(df['Requested Pickup Time'])\n",
    "df['Time'] = df['Requested Pickup Time'].dt.time\n",
    "df['5 min interval'] = df['Time'].apply(lambda x: (datetime.datetime.combine(datetime.date.today(), x).replace(second=0, microsecond=0, minute=5*(x.minute//5))))\n",
    "df = df[(df['Time'] >= datetime.time(19, 0)) | (df['Time'] < datetime.time(2, 0))]\n",
    "df['Interval'] = df['5 min interval'].dt.strftime('%H:%M')\n",
    "start_time = datetime.datetime.strptime('19:00', '%H:%M')\n",
    "df['Interval'] = df['Interval'].apply(lambda x: (datetime.datetime.strptime(x, '%H:%M') - start_time).seconds // 60)\n",
    "df['Work Day'] = df['Requested Pickup Time'].dt.dayofweek.apply(lambda x: 1 if x < 5 else 0)\n",
    "df['Day of the Week'] = df['Requested Pickup Time'].dt.dayofweek.apply(lambda x: x + 1)\n",
    "df = df.reset_index(drop=True)\n",
    "df.drop(columns=['Time', '5 min interval','Requested Pickup Time'], inplace=True)\n",
    "df = df.sort_values(by='Interval')\n",
    "df = df.reset_index(drop=True)\n",
    "df"
   ]
  },
  {
   "cell_type": "code",
   "execution_count": 326,
   "metadata": {},
   "outputs": [
    {
     "name": "stdout",
     "output_type": "stream",
     "text": [
      "Train set size: 22824\n",
      "Test set size: 4891\n",
      "Validation set size: 4892\n"
     ]
    }
   ],
   "source": [
    "# Split the data into train, test, and validation sets\n",
    "train_df, temp_df = train_test_split(df, test_size=0.3, random_state=42)\n",
    "test_df, val_df = train_test_split(temp_df, test_size=0.5, random_state=42)\n",
    "\n",
    "# Print the sizes of the splits\n",
    "print(f'Train set size: {len(train_df)}') #0.7\n",
    "print(f'Test set size: {len(test_df)}') #0.15\n",
    "print(f'Validation set size: {len(val_df)}') #0.15"
   ]
  },
  {
   "cell_type": "code",
   "execution_count": 327,
   "metadata": {},
   "outputs": [
    {
     "name": "stdout",
     "output_type": "stream",
     "text": [
      "Requirement already satisfied: torchsummary in ./.venv/lib/python3.12/site-packages (1.5.1)\n"
     ]
    }
   ],
   "source": [
    "!pip install torchsummary"
   ]
  },
  {
   "cell_type": "markdown",
   "metadata": {},
   "source": [
    "## one part CVAE"
   ]
  },
  {
   "cell_type": "code",
   "execution_count": 592,
   "metadata": {},
   "outputs": [
    {
     "name": "stdout",
     "output_type": "stream",
     "text": [
      "using device: cuda\n",
      "----------------------------------------------------------------\n",
      "        Layer (type)               Output Shape         Param #\n",
      "================================================================\n",
      "            Linear-1                   [-1, 64]             512\n",
      "              ReLU-2                   [-1, 64]               0\n",
      "           Dropout-3                   [-1, 64]               0\n",
      "            Linear-4                   [-1, 64]           4,160\n",
      "              ReLU-5                   [-1, 64]               0\n",
      "           Dropout-6                   [-1, 64]               0\n",
      "            Linear-7                    [-1, 4]             260\n",
      "            Linear-8                    [-1, 4]             260\n",
      "            Linear-9                   [-1, 64]             512\n",
      "             ReLU-10                   [-1, 64]               0\n",
      "          Dropout-11                   [-1, 64]               0\n",
      "           Linear-12                   [-1, 64]           4,160\n",
      "             ReLU-13                   [-1, 64]               0\n",
      "          Dropout-14                   [-1, 64]               0\n",
      "           Linear-15                    [-1, 4]             260\n",
      "================================================================\n",
      "Total params: 10,124\n",
      "Trainable params: 10,124\n",
      "Non-trainable params: 0\n",
      "----------------------------------------------------------------\n",
      "Input size (MB): 0.00\n",
      "Forward/backward pass size (MB): 0.01\n",
      "Params size (MB): 0.04\n",
      "Estimated Total Size (MB): 0.04\n",
      "----------------------------------------------------------------\n"
     ]
    }
   ],
   "source": [
    "import torch\n",
    "import torch.nn as nn\n",
    "import torch.optim as optim\n",
    "import torch.nn.functional as F\n",
    "from torch.utils.data import DataLoader, TensorDataset\n",
    "import matplotlib.pyplot as plt\n",
    "from torchsummary import summary\n",
    "\n",
    "# Check if GPU is available\n",
    "device = torch.device(\"cuda\" if torch.cuda.is_available() else \"cpu\")\n",
    "print('using device:', device)  \n",
    "\n",
    "class CVAE(nn.Module):\n",
    "    def __init__(self, input_dim, condition_dim, latent_dim, hidden_dim, dropout_prob=0.1):\n",
    "        super(CVAE, self).__init__()\n",
    "        \n",
    "        self.input_dim = input_dim\n",
    "        self.condition_dim = condition_dim\n",
    "        self.latent_dim = latent_dim\n",
    "        self.hidden_dim = hidden_dim\n",
    "        \n",
    "        # Encoder\n",
    "        self.encoder = nn.Sequential(\n",
    "            nn.Linear(input_dim + condition_dim, hidden_dim), #TODO rewrite this to the CONVOLUTIONAL LAYERS!\n",
    "            nn.ReLU(),\n",
    "            nn.Dropout(dropout_prob),\n",
    "            nn.Linear(hidden_dim, hidden_dim),\n",
    "            nn.ReLU(),\n",
    "            nn.Dropout(dropout_prob),   # Add dropout layer\n",
    "        )\n",
    "        self.fc_mu = nn.Linear(hidden_dim, latent_dim)\n",
    "        self.fc_logvar = nn.Linear(hidden_dim, latent_dim)\n",
    "        \n",
    "        # Decoder\n",
    "        self.decoder = nn.Sequential(\n",
    "            nn.Linear(latent_dim + condition_dim, hidden_dim),\n",
    "            nn.ReLU(),\n",
    "            nn.Dropout(dropout_prob),   # Add dropout layer\n",
    "            nn.Linear(hidden_dim, hidden_dim),\n",
    "            nn.ReLU(),\n",
    "            nn.Dropout(dropout_prob),   # Add dropout layer\n",
    "            nn.Linear(hidden_dim, input_dim),\n",
    "        )\n",
    "        \n",
    "    def encode(self, x, c):\n",
    "        x = torch.cat([x, c], dim=1)\n",
    "        h = self.encoder(x)\n",
    "        return self.fc_mu(h), self.fc_logvar(h)\n",
    "    \n",
    "    def reparameterize(self, mu, logvar):\n",
    "        std = torch.exp(0.5 * logvar)\n",
    "        eps = torch.randn_like(std)\n",
    "        return mu + eps * std\n",
    "    \n",
    "    def decode(self, z, c):\n",
    "        z = torch.cat([z, c], dim=1)\n",
    "        return self.decoder(z)\n",
    "    \n",
    "    def forward(self, x, c):\n",
    "        mu, logvar = self.encode(x, c)\n",
    "        z = self.reparameterize(mu, logvar)\n",
    "        return self.decode(z, c), mu, logvar\n",
    "    \n",
    "\n",
    "# Define the model\n",
    "input_dim = 4  # Example input dimension for MNIST\n",
    "condition_dim = 3   # Example condition dimension\n",
    "latent_dim = 4      # Example latent dimension\n",
    "hidden_dim = 64     # Example hidden dimension\n",
    "\n",
    "joint_model = CVAE(input_dim, condition_dim, latent_dim, hidden_dim).to(device)\n",
    "\n",
    "# Print the model summary\n",
    "summary(joint_model, [(input_dim,), (condition_dim,)])"
   ]
  },
  {
   "cell_type": "code",
   "execution_count": 593,
   "metadata": {},
   "outputs": [
    {
     "name": "stdout",
     "output_type": "stream",
     "text": [
      "Epoch 1, Recon Loss: 3.5688, KL Loss: 0.3108\n",
      "Epoch 2, Recon Loss: 2.6897, KL Loss: 0.9151\n",
      "Epoch 3, Recon Loss: 2.4861, KL Loss: 1.0303\n",
      "Epoch 4, Recon Loss: 2.3578, KL Loss: 1.1437\n",
      "Epoch 5, Recon Loss: 2.2734, KL Loss: 1.1757\n",
      "Epoch 6, Recon Loss: 2.2385, KL Loss: 1.2145\n",
      "Epoch 7, Recon Loss: 2.2031, KL Loss: 1.2210\n",
      "Epoch 8, Recon Loss: 2.1803, KL Loss: 1.2292\n",
      "Epoch 9, Recon Loss: 2.1705, KL Loss: 1.2366\n",
      "Epoch 10, Recon Loss: 2.1432, KL Loss: 1.2513\n",
      "Epoch 11, Recon Loss: 2.1229, KL Loss: 1.2663\n",
      "Epoch 12, Recon Loss: 2.1149, KL Loss: 1.2684\n",
      "Epoch 13, Recon Loss: 2.0792, KL Loss: 1.2884\n",
      "Epoch 14, Recon Loss: 2.0888, KL Loss: 1.2973\n",
      "Epoch 15, Recon Loss: 2.0721, KL Loss: 1.2937\n",
      "Epoch 16, Recon Loss: 2.0725, KL Loss: 1.2988\n",
      "Epoch 17, Recon Loss: 2.0626, KL Loss: 1.3161\n",
      "Epoch 18, Recon Loss: 2.0283, KL Loss: 1.3404\n",
      "Epoch 19, Recon Loss: 2.0474, KL Loss: 1.3389\n",
      "Epoch 20, Recon Loss: 2.0202, KL Loss: 1.3365\n",
      "Epoch 21, Recon Loss: 2.0342, KL Loss: 1.3255\n",
      "Epoch 22, Recon Loss: 2.0135, KL Loss: 1.3489\n",
      "Epoch 23, Recon Loss: 2.0130, KL Loss: 1.3503\n",
      "Epoch 24, Recon Loss: 1.9964, KL Loss: 1.3616\n",
      "Epoch 25, Recon Loss: 1.9969, KL Loss: 1.3537\n",
      "Epoch 26, Recon Loss: 1.9998, KL Loss: 1.3467\n",
      "Epoch 27, Recon Loss: 1.9831, KL Loss: 1.3664\n",
      "Epoch 28, Recon Loss: 1.9748, KL Loss: 1.3611\n",
      "Epoch 29, Recon Loss: 1.9815, KL Loss: 1.3655\n",
      "Epoch 30, Recon Loss: 1.9768, KL Loss: 1.3544\n"
     ]
    },
    {
     "data": {
      "image/png": "[encoded data removed]",
      "text/plain": [
       "<Figure size 1000x500 with 1 Axes>"
      ]
     },
     "metadata": {},
     "output_type": "display_data"
    }
   ],
   "source": [
    "RECOMPUTE = True\n",
    "\n",
    "BATCH_SIZE = 64\n",
    "\n",
    "if RECOMPUTE: \n",
    "    # Prepare your data\n",
    "    def convert_dataframes_to_torches(dataframe):\n",
    "        input_features = ['Origin Lat', 'Origin Lng', 'Destination Lat', 'Destination Lng']\n",
    "        condition_features = ['Interval', 'Work Day', 'Day of the Week']\n",
    "\n",
    "        X = torch.FloatTensor(dataframe[input_features].values)\n",
    "        C = torch.FloatTensor(dataframe[condition_features].values)\n",
    "\n",
    "        X_mean, X_std = X.mean(dim=0), X.std(dim=0)\n",
    "        X = (X - X_mean) / X_std\n",
    "        C_mean, C_std = C.mean(dim=0), C.std(dim=0)\n",
    "        C = (C - C_mean) / C_std\n",
    "\n",
    "        dataset = TensorDataset(X, C)\n",
    "        dataloader = DataLoader(dataset, batch_size=BATCH_SIZE, shuffle=True)\n",
    "        return input_features,condition_features,dataloader, X_mean, X_std, C_mean, C_std\n",
    "\n",
    "    input_features, condition_features, dataloader, X_mean, X_std, C_mean, C_std = convert_dataframes_to_torches(dataframe=train_df)\n",
    "\n",
    "\n",
    "    joint_model = CVAE(input_dim, condition_dim, latent_dim, hidden_dim).to(device)\n",
    "\n",
    "    optimizer = optim.Adam(joint_model.parameters(), lr=1e-3)\n",
    "\n",
    "    num_epochs = 30\n",
    "\n",
    "    recon_losses = []\n",
    "    kl_losses = []\n",
    "    beta = 1\n",
    "\n",
    "    for epoch in range(num_epochs):\n",
    "        epoch_recon_loss = 0\n",
    "        epoch_kl_loss = 0\n",
    "        for batch_idx, (x, c) in enumerate(dataloader):\n",
    "            x, c = x.to(device), c.to(device)\n",
    "            optimizer.zero_grad()\n",
    "            recon_x, mu, logvar = joint_model(x, c)\n",
    "            \n",
    "            # Reconstruction loss\n",
    "            recon_loss = F.mse_loss(recon_x, x, reduction='sum')\n",
    "            \n",
    "            # KL divergence loss\n",
    "            kl_loss = -0.5 * torch.sum(1 + logvar - mu.pow(2) - logvar.exp())\n",
    "            \n",
    "            # Total loss\n",
    "            loss = recon_loss + beta * kl_loss\n",
    "            \n",
    "            loss.backward()\n",
    "            optimizer.step()\n",
    "            \n",
    "            epoch_recon_loss += recon_loss.item()\n",
    "            epoch_kl_loss += kl_loss.item()\n",
    "        \n",
    "        #create a validation step here\n",
    "        # model.eval()\n",
    "        \n",
    "        \n",
    "        recon_losses.append(epoch_recon_loss / len(dataloader.dataset))\n",
    "        kl_losses.append(epoch_kl_loss / len(dataloader.dataset))\n",
    "        print(f'Epoch {epoch+1}, Recon Loss: {recon_losses[-1]:.4f}, KL Loss: {kl_losses[-1]:.4f}')\n",
    "\n",
    "    # Plotting the losses\n",
    "    plt.figure(figsize=(10, 5))\n",
    "    plt.plot(recon_losses, label='Reconstruction Loss')\n",
    "    plt.plot(kl_losses, label='KL Divergence Loss')\n",
    "    plt.xlabel('Epoch')\n",
    "    plt.ylabel('Loss')\n",
    "    plt.legend()\n",
    "    plt.title('Training Losses')\n",
    "    plt.show()\n",
    "\n",
    "    #save weights\n",
    "    torch.save(joint_model.state_dict(), 'learned_model_weights/CVAE_weights.pth')"
   ]
  },
  {
   "cell_type": "markdown",
   "metadata": {},
   "source": [
    "## Two part CVAE"
   ]
  },
  {
   "cell_type": "markdown",
   "metadata": {},
   "source": [
    "### pickukp CVAE"
   ]
  },
  {
   "cell_type": "code",
   "execution_count": 440,
   "metadata": {},
   "outputs": [
    {
     "data": {
      "text/html": [
       "<div>\n",
       "<style scoped>\n",
       "    .dataframe tbody tr th:only-of-type {\n",
       "        vertical-align: middle;\n",
       "    }\n",
       "\n",
       "    .dataframe tbody tr th {\n",
       "        vertical-align: top;\n",
       "    }\n",
       "\n",
       "    .dataframe thead th {\n",
       "        text-align: right;\n",
       "    }\n",
       "</style>\n",
       "<table border=\"1\" class=\"dataframe\">\n",
       "  <thead>\n",
       "    <tr style=\"text-align: right;\">\n",
       "      <th></th>\n",
       "      <th>Origin Lat</th>\n",
       "      <th>Origin Lng</th>\n",
       "      <th>Interval</th>\n",
       "      <th>Work Day</th>\n",
       "      <th>Day of the Week</th>\n",
       "    </tr>\n",
       "  </thead>\n",
       "  <tbody>\n",
       "    <tr>\n",
       "      <th>29271</th>\n",
       "      <td>42.370374</td>\n",
       "      <td>-71.117366</td>\n",
       "      <td>335</td>\n",
       "      <td>0</td>\n",
       "      <td>6</td>\n",
       "    </tr>\n",
       "    <tr>\n",
       "      <th>10166</th>\n",
       "      <td>42.373340</td>\n",
       "      <td>-71.118547</td>\n",
       "      <td>90</td>\n",
       "      <td>1</td>\n",
       "      <td>2</td>\n",
       "    </tr>\n",
       "    <tr>\n",
       "      <th>23106</th>\n",
       "      <td>42.363327</td>\n",
       "      <td>-71.125878</td>\n",
       "      <td>225</td>\n",
       "      <td>1</td>\n",
       "      <td>4</td>\n",
       "    </tr>\n",
       "    <tr>\n",
       "      <th>9530</th>\n",
       "      <td>42.388553</td>\n",
       "      <td>-71.119662</td>\n",
       "      <td>80</td>\n",
       "      <td>1</td>\n",
       "      <td>2</td>\n",
       "    </tr>\n",
       "    <tr>\n",
       "      <th>32332</th>\n",
       "      <td>42.375741</td>\n",
       "      <td>-71.113776</td>\n",
       "      <td>410</td>\n",
       "      <td>1</td>\n",
       "      <td>3</td>\n",
       "    </tr>\n",
       "    <tr>\n",
       "      <th>...</th>\n",
       "      <td>...</td>\n",
       "      <td>...</td>\n",
       "      <td>...</td>\n",
       "      <td>...</td>\n",
       "      <td>...</td>\n",
       "    </tr>\n",
       "    <tr>\n",
       "      <th>29802</th>\n",
       "      <td>42.369417</td>\n",
       "      <td>-71.116073</td>\n",
       "      <td>345</td>\n",
       "      <td>1</td>\n",
       "      <td>3</td>\n",
       "    </tr>\n",
       "    <tr>\n",
       "      <th>5390</th>\n",
       "      <td>42.364635</td>\n",
       "      <td>-71.118982</td>\n",
       "      <td>40</td>\n",
       "      <td>1</td>\n",
       "      <td>3</td>\n",
       "    </tr>\n",
       "    <tr>\n",
       "      <th>860</th>\n",
       "      <td>42.381855</td>\n",
       "      <td>-71.125405</td>\n",
       "      <td>5</td>\n",
       "      <td>1</td>\n",
       "      <td>3</td>\n",
       "    </tr>\n",
       "    <tr>\n",
       "      <th>15795</th>\n",
       "      <td>42.379883</td>\n",
       "      <td>-71.118406</td>\n",
       "      <td>145</td>\n",
       "      <td>0</td>\n",
       "      <td>7</td>\n",
       "    </tr>\n",
       "    <tr>\n",
       "      <th>23654</th>\n",
       "      <td>42.377215</td>\n",
       "      <td>-71.116169</td>\n",
       "      <td>235</td>\n",
       "      <td>1</td>\n",
       "      <td>3</td>\n",
       "    </tr>\n",
       "  </tbody>\n",
       "</table>\n",
       "<p>22824 rows × 5 columns</p>\n",
       "</div>"
      ],
      "text/plain": [
       "       Origin Lat  Origin Lng  Interval  Work Day  Day of the Week\n",
       "29271   42.370374  -71.117366       335         0                6\n",
       "10166   42.373340  -71.118547        90         1                2\n",
       "23106   42.363327  -71.125878       225         1                4\n",
       "9530    42.388553  -71.119662        80         1                2\n",
       "32332   42.375741  -71.113776       410         1                3\n",
       "...           ...         ...       ...       ...              ...\n",
       "29802   42.369417  -71.116073       345         1                3\n",
       "5390    42.364635  -71.118982        40         1                3\n",
       "860     42.381855  -71.125405         5         1                3\n",
       "15795   42.379883  -71.118406       145         0                7\n",
       "23654   42.377215  -71.116169       235         1                3\n",
       "\n",
       "[22824 rows x 5 columns]"
      ]
     },
     "execution_count": 440,
     "metadata": {},
     "output_type": "execute_result"
    }
   ],
   "source": [
    "#make this all as one encompasing class\n",
    "pickup_cvae_df = train_df[['Origin Lat', 'Origin Lng','Interval', 'Work Day', 'Day of the Week']]\n",
    "pickup_cvae_df"
   ]
  },
  {
   "cell_type": "code",
   "execution_count": 441,
   "metadata": {},
   "outputs": [
    {
     "data": {
      "text/plain": [
       "[tensor([[-0.0626,  0.6374],\n",
       "         [ 0.4581,  0.6058],\n",
       "         [ 0.8366, -0.9454],\n",
       "         [-0.4377, -0.3544],\n",
       "         [-1.3386, -0.1323],\n",
       "         [ 1.5851, -0.3375],\n",
       "         [-0.3646,  0.0217],\n",
       "         [-0.2142, -0.4933],\n",
       "         [-0.4474, -0.4344],\n",
       "         [-0.0092, -0.1704],\n",
       "         [ 0.1204,  0.6122],\n",
       "         [-1.2494, -0.8496],\n",
       "         [ 0.1317, -0.5991],\n",
       "         [ 0.3143,  0.6833],\n",
       "         [ 0.4364,  0.6325],\n",
       "         [-1.5884, -1.3023],\n",
       "         [-0.0661, -0.1508],\n",
       "         [-0.3388, -0.6694],\n",
       "         [ 0.8949,  1.5812],\n",
       "         [ 0.3216, -0.6791],\n",
       "         [ 0.4576,  0.6215],\n",
       "         [-0.0207, -0.5720],\n",
       "         [ 1.8875, -0.3322],\n",
       "         [ 0.0122, -0.3562],\n",
       "         [-0.0849, -0.6353],\n",
       "         [-1.5879, -1.8823],\n",
       "         [-0.4862,  0.0195],\n",
       "         [ 1.3659, -0.4017],\n",
       "         [ 0.6606,  0.2068],\n",
       "         [ 0.5860,  0.2495],\n",
       "         [ 0.4761,  0.5757],\n",
       "         [ 0.2972, -0.1434]]),\n",
       " tensor([[-1.4194,  0.5919, -1.5428],\n",
       "         [-1.0184,  0.5919,  0.5416],\n",
       "         [ 0.6749,  0.5919, -1.0217],\n",
       "         [ 2.0117,  0.5919, -1.5428],\n",
       "         [ 1.1205, -1.6894,  1.0628],\n",
       "         [-1.2412,  0.5919,  0.5416],\n",
       "         [ 1.3433,  0.5919, -0.5006],\n",
       "         [-1.3748,  0.5919,  0.0205],\n",
       "         [-0.8847,  0.5919, -0.5006],\n",
       "         [-0.5282, -1.6894,  1.5839],\n",
       "         [-0.6173,  0.5919,  0.5416],\n",
       "         [ 0.3184,  0.5919, -1.5428],\n",
       "         [ 1.4770, -1.6894,  1.0628],\n",
       "         [ 0.9423,  0.5919, -1.0217],\n",
       "         [ 0.0065,  0.5919, -1.0217],\n",
       "         [ 0.4521, -1.6894,  1.0628],\n",
       "         [-1.0629, -1.6894,  1.5839],\n",
       "         [-0.2608,  0.5919, -1.0217],\n",
       "         [-0.6173,  0.5919, -1.5428],\n",
       "         [ 0.1847,  0.5919, -1.5428],\n",
       "         [-0.4391, -1.6894,  1.5839],\n",
       "         [ 0.0956,  0.5919, -0.5006],\n",
       "         [-0.9292,  0.5919, -1.5428],\n",
       "         [-1.0629,  0.5919, -1.5428],\n",
       "         [ 0.4521,  0.5919,  0.0205],\n",
       "         [-0.6173,  0.5919,  0.0205],\n",
       "         [ 0.0511,  0.5919, -1.0217],\n",
       "         [-0.6173,  0.5919,  0.0205],\n",
       "         [-0.0381,  0.5919, -1.0217],\n",
       "         [ 0.1847,  0.5919, -0.5006],\n",
       "         [ 0.6303,  0.5919,  0.0205],\n",
       "         [ 0.0956, -1.6894,  1.0628]])]"
      ]
     },
     "execution_count": 441,
     "metadata": {},
     "output_type": "execute_result"
    }
   ],
   "source": [
    "from sklearn.preprocessing import StandardScaler\n",
    "\n",
    "\n",
    "scaler_pickup_x = StandardScaler()\n",
    "normalized_x = scaler_pickup_x.fit_transform(train_df[['Origin Lat', 'Origin Lng']])\n",
    "\n",
    "scaler_pickup_c = StandardScaler()\n",
    "normalized_c = scaler_pickup_c.fit_transform(train_df[['Interval', 'Work Day', 'Day of the Week']])\n",
    "\n",
    "\n",
    "# Convert normalized data to PyTorch tensors\n",
    "tensor_x = torch.tensor(normalized_x, dtype=torch.float32)\n",
    "tensor_c = torch.tensor(normalized_c, dtype=torch.float32)\n",
    "\n",
    "# Create a TensorDataset\n",
    "dataset = TensorDataset(tensor_x, tensor_c)\n",
    "\n",
    "# Create a DataLoader\n",
    "BATCH_SIZE = 32\n",
    "dataloader = DataLoader(dataset, batch_size=BATCH_SIZE, shuffle=True)\n",
    "\n",
    "next(iter(dataloader))"
   ]
  },
  {
   "cell_type": "code",
   "execution_count": 442,
   "metadata": {},
   "outputs": [
    {
     "name": "stdout",
     "output_type": "stream",
     "text": [
      "using device: cuda\n",
      "----------------------------------------------------------------\n",
      "        Layer (type)               Output Shape         Param #\n",
      "================================================================\n",
      "            Linear-1                  [-1, 400]           2,400\n",
      "              ReLU-2                  [-1, 400]               0\n",
      "           Dropout-3                  [-1, 400]               0\n",
      "            Linear-4                  [-1, 400]         160,400\n",
      "              ReLU-5                  [-1, 400]               0\n",
      "           Dropout-6                  [-1, 400]               0\n",
      "            Linear-7                   [-1, 20]           8,020\n",
      "            Linear-8                   [-1, 20]           8,020\n",
      "            Linear-9                  [-1, 400]           9,600\n",
      "             ReLU-10                  [-1, 400]               0\n",
      "          Dropout-11                  [-1, 400]               0\n",
      "           Linear-12                  [-1, 400]         160,400\n",
      "             ReLU-13                  [-1, 400]               0\n",
      "          Dropout-14                  [-1, 400]               0\n",
      "           Linear-15                    [-1, 2]             802\n",
      "================================================================\n",
      "Total params: 349,642\n",
      "Trainable params: 349,642\n",
      "Non-trainable params: 0\n",
      "----------------------------------------------------------------\n",
      "Input size (MB): 0.00\n",
      "Forward/backward pass size (MB): 0.04\n",
      "Params size (MB): 1.33\n",
      "Estimated Total Size (MB): 1.37\n",
      "----------------------------------------------------------------\n"
     ]
    }
   ],
   "source": [
    "import torch\n",
    "import torch.nn as nn\n",
    "import torch.optim as optim\n",
    "import torch.nn.functional as F\n",
    "from torch.utils.data import DataLoader, TensorDataset\n",
    "import matplotlib.pyplot as plt\n",
    "from torchsummary import summary\n",
    "\n",
    "# Check if GPU is available\n",
    "device = torch.device(\"cuda\" if torch.cuda.is_available() else \"cpu\")\n",
    "print('using device:', device)  \n",
    "\n",
    "class CVAE(nn.Module):\n",
    "    def __init__(self, input_dim, condition_dim, latent_dim, hidden_dim, dropout_prob=0.1):\n",
    "        super(CVAE, self).__init__()\n",
    "        \n",
    "        self.input_dim = input_dim\n",
    "        self.condition_dim = condition_dim\n",
    "        self.latent_dim = latent_dim\n",
    "        self.hidden_dim = hidden_dim\n",
    "        \n",
    "        # Encoder\n",
    "        self.encoder = nn.Sequential(\n",
    "            nn.Linear(input_dim + condition_dim, hidden_dim), #TODO rewrite this to the CONVOLUTIONAL LAYERS!\n",
    "            nn.ReLU(),\n",
    "            nn.Dropout(dropout_prob),\n",
    "            nn.Linear(hidden_dim, hidden_dim),\n",
    "            nn.ReLU(),\n",
    "            nn.Dropout(dropout_prob),   # Add dropout layer\n",
    "        )\n",
    "        self.fc_mu = nn.Linear(hidden_dim, latent_dim)\n",
    "        self.fc_logvar = nn.Linear(hidden_dim, latent_dim)\n",
    "        \n",
    "        # Decoder\n",
    "        self.decoder = nn.Sequential(\n",
    "            nn.Linear(latent_dim + condition_dim, hidden_dim),\n",
    "            nn.ReLU(),\n",
    "            nn.Dropout(dropout_prob),   # Add dropout layer\n",
    "            nn.Linear(hidden_dim, hidden_dim),\n",
    "            nn.ReLU(),\n",
    "            nn.Dropout(dropout_prob),   # Add dropout layer\n",
    "            nn.Linear(hidden_dim, input_dim),\n",
    "        )\n",
    "        \n",
    "    def encode(self, x, c):\n",
    "        x = torch.cat([x, c], dim=1)\n",
    "        h = self.encoder(x)\n",
    "        return self.fc_mu(h), self.fc_logvar(h)\n",
    "    \n",
    "    def reparameterize(self, mu, logvar):\n",
    "        std = torch.exp(0.5 * logvar)\n",
    "        eps = torch.randn_like(std)\n",
    "        return mu + eps * std\n",
    "    \n",
    "    def decode(self, z, c):\n",
    "        z = torch.cat([z, c], dim=1)\n",
    "        return self.decoder(z)\n",
    "    \n",
    "    def forward(self, x, c):\n",
    "        mu, logvar = self.encode(x, c)\n",
    "        z = self.reparameterize(mu, logvar)\n",
    "        return self.decode(z, c), mu, logvar\n",
    "    \n",
    "\n",
    "# Define the model\n",
    "input_dim = 2  # Example input dimension for MNIST\n",
    "condition_dim = 3   # Example condition dimension\n",
    "latent_dim = 20      # Example latent dimension\n",
    "hidden_dim = 400     # Example hidden dimension\n",
    "\n",
    "pickup_cvae = CVAE(input_dim, condition_dim, latent_dim, hidden_dim).to(device)\n",
    "\n",
    "# Print the model summary\n",
    "summary(pickup_cvae, [(input_dim,), (condition_dim,)])"
   ]
  },
  {
   "cell_type": "code",
   "execution_count": 443,
   "metadata": {},
   "outputs": [
    {
     "name": "stdout",
     "output_type": "stream",
     "text": [
      "Epoch 1, Recon Loss: 1.6566, KL Loss: 0.2660\n",
      "Epoch 2, Recon Loss: 1.3837, KL Loss: 0.4515\n",
      "Epoch 3, Recon Loss: 1.3505, KL Loss: 0.4670\n",
      "Epoch 4, Recon Loss: 1.3348, KL Loss: 0.4674\n",
      "Epoch 5, Recon Loss: 1.3000, KL Loss: 0.4900\n",
      "Epoch 6, Recon Loss: 1.2559, KL Loss: 0.5161\n",
      "Epoch 7, Recon Loss: 1.1913, KL Loss: 0.5576\n",
      "Epoch 8, Recon Loss: 1.1387, KL Loss: 0.5851\n",
      "Epoch 9, Recon Loss: 1.0757, KL Loss: 0.6274\n",
      "Epoch 10, Recon Loss: 1.0274, KL Loss: 0.6476\n",
      "Epoch 11, Recon Loss: 1.0154, KL Loss: 0.6558\n",
      "Epoch 12, Recon Loss: 1.0137, KL Loss: 0.6663\n",
      "Epoch 13, Recon Loss: 1.0112, KL Loss: 0.6740\n",
      "Epoch 14, Recon Loss: 0.9938, KL Loss: 0.6756\n",
      "Epoch 15, Recon Loss: 0.9998, KL Loss: 0.6643\n",
      "Epoch 16, Recon Loss: 0.9941, KL Loss: 0.6772\n",
      "Epoch 17, Recon Loss: 0.9850, KL Loss: 0.6775\n",
      "Epoch 18, Recon Loss: 0.9918, KL Loss: 0.6797\n",
      "Epoch 19, Recon Loss: 0.9862, KL Loss: 0.6783\n",
      "Epoch 20, Recon Loss: 0.9838, KL Loss: 0.6853\n",
      "Epoch 21, Recon Loss: 0.9836, KL Loss: 0.6901\n",
      "Epoch 22, Recon Loss: 0.9875, KL Loss: 0.6854\n",
      "Epoch 23, Recon Loss: 0.9791, KL Loss: 0.6927\n",
      "Epoch 24, Recon Loss: 0.9751, KL Loss: 0.6907\n",
      "Epoch 25, Recon Loss: 0.9788, KL Loss: 0.6854\n",
      "Epoch 26, Recon Loss: 0.9695, KL Loss: 0.6869\n",
      "Epoch 27, Recon Loss: 0.9728, KL Loss: 0.6874\n",
      "Epoch 28, Recon Loss: 0.9752, KL Loss: 0.6892\n",
      "Epoch 29, Recon Loss: 0.9708, KL Loss: 0.6899\n",
      "Epoch 30, Recon Loss: 0.9737, KL Loss: 0.6995\n"
     ]
    },
    {
     "data": {
      "image/png": "[encoded data removed]",
      "text/plain": [
       "<Figure size 1000x500 with 1 Axes>"
      ]
     },
     "metadata": {},
     "output_type": "display_data"
    }
   ],
   "source": [
    "RECOMPUTE = True\n",
    "\n",
    "if RECOMPUTE: \n",
    "    \n",
    "    pickup_cvae = CVAE(input_dim, condition_dim, latent_dim, hidden_dim).to(device)\n",
    "\n",
    "    optimizer = optim.Adam(pickup_cvae.parameters(), lr=1e-4)\n",
    "\n",
    "    num_epochs = 30\n",
    "\n",
    "    recon_losses = []\n",
    "    kl_losses = []\n",
    "    beta = 1\n",
    "\n",
    "    for epoch in range(num_epochs):\n",
    "        epoch_recon_loss = 0\n",
    "        epoch_kl_loss = 0\n",
    "        for batch_idx, (x, c) in enumerate(dataloader):\n",
    "            x, c = x.to(device), c.to(device)\n",
    "            optimizer.zero_grad()\n",
    "            recon_x, mu, logvar = pickup_cvae(x, c)\n",
    "            \n",
    "            recon_loss = F.mse_loss(recon_x, x, reduction='sum')\n",
    "            \n",
    "            kl_loss = -0.5 * torch.sum(1 + logvar - mu.pow(2) - logvar.exp())\n",
    "            \n",
    "            loss = recon_loss + beta * kl_loss\n",
    "            \n",
    "            loss.backward()\n",
    "            optimizer.step()\n",
    "            \n",
    "            epoch_recon_loss += recon_loss.item()\n",
    "            epoch_kl_loss += kl_loss.item()\n",
    "        \n",
    "        \n",
    "        recon_losses.append(epoch_recon_loss / len(dataloader.dataset))\n",
    "        kl_losses.append(epoch_kl_loss / len(dataloader.dataset))\n",
    "        print(f'Epoch {epoch+1}, Recon Loss: {recon_losses[-1]:.4f}, KL Loss: {kl_losses[-1]:.4f}')\n",
    "\n",
    "    plt.figure(figsize=(10, 5))\n",
    "    plt.plot(recon_losses, label='Reconstruction Loss')\n",
    "    plt.plot(kl_losses, label='KL Divergence Loss')\n",
    "    plt.xlabel('Epoch')\n",
    "    plt.ylabel('Loss')\n",
    "    plt.legend()\n",
    "    plt.title('Training Losses')\n",
    "    plt.show()\n",
    "\n",
    "    #save weights\n",
    "    torch.save(pickup_cvae.state_dict(), 'learned_model_weights/pickup_CVAE_weights.pth')"
   ]
  },
  {
   "cell_type": "markdown",
   "metadata": {},
   "source": [
    "### dropoff CVAE"
   ]
  },
  {
   "cell_type": "code",
   "execution_count": 444,
   "metadata": {},
   "outputs": [
    {
     "data": {
      "text/html": [
       "<div>\n",
       "<style scoped>\n",
       "    .dataframe tbody tr th:only-of-type {\n",
       "        vertical-align: middle;\n",
       "    }\n",
       "\n",
       "    .dataframe tbody tr th {\n",
       "        vertical-align: top;\n",
       "    }\n",
       "\n",
       "    .dataframe thead th {\n",
       "        text-align: right;\n",
       "    }\n",
       "</style>\n",
       "<table border=\"1\" class=\"dataframe\">\n",
       "  <thead>\n",
       "    <tr style=\"text-align: right;\">\n",
       "      <th></th>\n",
       "      <th>Destination Lat</th>\n",
       "      <th>Destination Lng</th>\n",
       "      <th>Origin Lat</th>\n",
       "      <th>Origin Lng</th>\n",
       "    </tr>\n",
       "  </thead>\n",
       "  <tbody>\n",
       "    <tr>\n",
       "      <th>29271</th>\n",
       "      <td>42.377580</td>\n",
       "      <td>-71.104120</td>\n",
       "      <td>42.370374</td>\n",
       "      <td>-71.117366</td>\n",
       "    </tr>\n",
       "    <tr>\n",
       "      <th>10166</th>\n",
       "      <td>42.378820</td>\n",
       "      <td>-71.104075</td>\n",
       "      <td>42.373340</td>\n",
       "      <td>-71.118547</td>\n",
       "    </tr>\n",
       "    <tr>\n",
       "      <th>23106</th>\n",
       "      <td>42.384594</td>\n",
       "      <td>-71.113526</td>\n",
       "      <td>42.363327</td>\n",
       "      <td>-71.125878</td>\n",
       "    </tr>\n",
       "    <tr>\n",
       "      <th>9530</th>\n",
       "      <td>42.378957</td>\n",
       "      <td>-71.123690</td>\n",
       "      <td>42.388553</td>\n",
       "      <td>-71.119662</td>\n",
       "    </tr>\n",
       "    <tr>\n",
       "      <th>32332</th>\n",
       "      <td>42.364841</td>\n",
       "      <td>-71.111339</td>\n",
       "      <td>42.375741</td>\n",
       "      <td>-71.113776</td>\n",
       "    </tr>\n",
       "    <tr>\n",
       "      <th>...</th>\n",
       "      <td>...</td>\n",
       "      <td>...</td>\n",
       "      <td>...</td>\n",
       "      <td>...</td>\n",
       "    </tr>\n",
       "    <tr>\n",
       "      <th>29802</th>\n",
       "      <td>42.382769</td>\n",
       "      <td>-71.119096</td>\n",
       "      <td>42.369417</td>\n",
       "      <td>-71.116073</td>\n",
       "    </tr>\n",
       "    <tr>\n",
       "      <th>5390</th>\n",
       "      <td>42.372009</td>\n",
       "      <td>-71.120379</td>\n",
       "      <td>42.364635</td>\n",
       "      <td>-71.118982</td>\n",
       "    </tr>\n",
       "    <tr>\n",
       "      <th>860</th>\n",
       "      <td>42.374597</td>\n",
       "      <td>-71.118982</td>\n",
       "      <td>42.381855</td>\n",
       "      <td>-71.125405</td>\n",
       "    </tr>\n",
       "    <tr>\n",
       "      <th>15795</th>\n",
       "      <td>42.377989</td>\n",
       "      <td>-71.104138</td>\n",
       "      <td>42.379883</td>\n",
       "      <td>-71.118406</td>\n",
       "    </tr>\n",
       "    <tr>\n",
       "      <th>23654</th>\n",
       "      <td>42.367076</td>\n",
       "      <td>-71.114644</td>\n",
       "      <td>42.377215</td>\n",
       "      <td>-71.116169</td>\n",
       "    </tr>\n",
       "  </tbody>\n",
       "</table>\n",
       "<p>22824 rows × 4 columns</p>\n",
       "</div>"
      ],
      "text/plain": [
       "       Destination Lat  Destination Lng  Origin Lat  Origin Lng\n",
       "29271        42.377580       -71.104120   42.370374  -71.117366\n",
       "10166        42.378820       -71.104075   42.373340  -71.118547\n",
       "23106        42.384594       -71.113526   42.363327  -71.125878\n",
       "9530         42.378957       -71.123690   42.388553  -71.119662\n",
       "32332        42.364841       -71.111339   42.375741  -71.113776\n",
       "...                ...              ...         ...         ...\n",
       "29802        42.382769       -71.119096   42.369417  -71.116073\n",
       "5390         42.372009       -71.120379   42.364635  -71.118982\n",
       "860          42.374597       -71.118982   42.381855  -71.125405\n",
       "15795        42.377989       -71.104138   42.379883  -71.118406\n",
       "23654        42.367076       -71.114644   42.377215  -71.116169\n",
       "\n",
       "[22824 rows x 4 columns]"
      ]
     },
     "execution_count": 444,
     "metadata": {},
     "output_type": "execute_result"
    }
   ],
   "source": [
    "dropoff_cvae = train_df[['Destination Lat', 'Destination Lng', 'Origin Lat', 'Origin Lng', ]]\n",
    "dropoff_cvae"
   ]
  },
  {
   "cell_type": "code",
   "execution_count": 445,
   "metadata": {},
   "outputs": [
    {
     "data": {
      "text/plain": [
       "[tensor([[-0.1250, -0.3564],\n",
       "         [ 0.1530,  1.4949],\n",
       "         [ 0.6053,  1.4470],\n",
       "         [ 0.6565,  1.4613],\n",
       "         [-0.9529, -0.6596],\n",
       "         [-1.0952, -0.4328],\n",
       "         [-1.1443,  0.1423],\n",
       "         [ 0.6535,  1.4873],\n",
       "         [-1.1443,  0.1423],\n",
       "         [ 1.0747, -1.0140],\n",
       "         [ 1.3969,  0.2443],\n",
       "         [-0.1668, -0.6905],\n",
       "         [-0.5226,  0.8196],\n",
       "         [ 0.8441,  0.9883],\n",
       "         [-1.4584, -1.1582],\n",
       "         [ 1.1711, -1.6642],\n",
       "         [-0.6493,  0.1588],\n",
       "         [ 1.0455, -1.0096],\n",
       "         [-1.2652, -0.3041],\n",
       "         [-1.0593,  0.1849],\n",
       "         [ 0.6067,  0.9613],\n",
       "         [-0.0794,  1.8785],\n",
       "         [ 1.8978, -0.3341],\n",
       "         [ 1.1610, -0.3217],\n",
       "         [-1.0594,  0.1662],\n",
       "         [-0.6900,  0.0459],\n",
       "         [ 1.1225, -0.9956],\n",
       "         [ 1.1033,  0.5791],\n",
       "         [ 0.3957,  0.9948],\n",
       "         [ 0.6743, -1.1021],\n",
       "         [ 1.0861,  0.6050],\n",
       "         [-0.2945,  0.2007]]),\n",
       " tensor([[-1.1573, -0.9021],\n",
       "         [-0.2809, -0.6992],\n",
       "         [-1.2309,  2.1255],\n",
       "         [ 0.5344,  0.2982],\n",
       "         [ 0.4776,  1.1054],\n",
       "         [-0.1625, -0.4537],\n",
       "         [ 0.6931,  0.1815],\n",
       "         [ 0.6764,  0.2115],\n",
       "         [ 0.3683,  0.6814],\n",
       "         [ 0.2932,  0.5182],\n",
       "         [-0.6859,  0.6243],\n",
       "         [-0.9257,  0.6288],\n",
       "         [ 0.7167,  0.1589],\n",
       "         [ 0.2972, -0.1434],\n",
       "         [-0.1116, -0.6326],\n",
       "         [ 1.0924, -0.3445],\n",
       "         [-1.2515, -0.4444],\n",
       "         [-0.4850, -0.6598],\n",
       "         [ 0.0980, -0.2643],\n",
       "         [ 0.7317,  0.2442],\n",
       "         [ 0.1317,  2.4591],\n",
       "         [ 0.4529,  0.0940],\n",
       "         [ 1.4400, -1.2284],\n",
       "         [-0.8494,  0.7244],\n",
       "         [ 1.5294, -1.3326],\n",
       "         [ 1.4461, -1.1636],\n",
       "         [-0.4553, -0.5254],\n",
       "         [-1.2559,  2.1282],\n",
       "         [-0.2563, -0.6011],\n",
       "         [ 0.3680,  0.5359],\n",
       "         [-0.3762, -0.6192],\n",
       "         [ 1.5019, -1.2174]])]"
      ]
     },
     "execution_count": 445,
     "metadata": {},
     "output_type": "execute_result"
    }
   ],
   "source": [
    "from sklearn.preprocessing import StandardScaler\n",
    "\n",
    "scaler_dropoff_x = StandardScaler()\n",
    "normalized_x = scaler_dropoff_x.fit_transform(train_df[['Destination Lat', 'Destination Lng']])\n",
    "\n",
    "scaler_dropoff_c = StandardScaler()\n",
    "normalized_c = scaler_dropoff_c.fit_transform(train_df[['Origin Lat', 'Origin Lng']])\n",
    "\n",
    "tensor_x = torch.tensor(normalized_x, dtype=torch.float32)\n",
    "tensor_c = torch.tensor(normalized_c, dtype=torch.float32)\n",
    "\n",
    "# Create a TensorDataset\n",
    "dataset = TensorDataset(tensor_x, tensor_c)\n",
    "\n",
    "# Create a DataLoader\n",
    "BATCH_SIZE = 32\n",
    "dataloader = DataLoader(dataset, batch_size=BATCH_SIZE, shuffle=True)\n",
    "\n",
    "next(iter(dataloader))"
   ]
  },
  {
   "cell_type": "code",
   "execution_count": 446,
   "metadata": {},
   "outputs": [
    {
     "name": "stdout",
     "output_type": "stream",
     "text": [
      "using device: cuda\n",
      "----------------------------------------------------------------\n",
      "        Layer (type)               Output Shape         Param #\n",
      "================================================================\n",
      "            Linear-1                  [-1, 200]           1,000\n",
      "              ReLU-2                  [-1, 200]               0\n",
      "           Dropout-3                  [-1, 200]               0\n",
      "            Linear-4                  [-1, 200]          40,200\n",
      "              ReLU-5                  [-1, 200]               0\n",
      "           Dropout-6                  [-1, 200]               0\n",
      "            Linear-7                   [-1, 20]           4,020\n",
      "            Linear-8                   [-1, 20]           4,020\n",
      "            Linear-9                  [-1, 200]           4,600\n",
      "             ReLU-10                  [-1, 200]               0\n",
      "          Dropout-11                  [-1, 200]               0\n",
      "           Linear-12                  [-1, 200]          40,200\n",
      "             ReLU-13                  [-1, 200]               0\n",
      "          Dropout-14                  [-1, 200]               0\n",
      "           Linear-15                    [-1, 2]             402\n",
      "================================================================\n",
      "Total params: 94,442\n",
      "Trainable params: 94,442\n",
      "Non-trainable params: 0\n",
      "----------------------------------------------------------------\n",
      "Input size (MB): 0.00\n",
      "Forward/backward pass size (MB): 0.02\n",
      "Params size (MB): 0.36\n",
      "Estimated Total Size (MB): 0.38\n",
      "----------------------------------------------------------------\n"
     ]
    }
   ],
   "source": [
    "import torch\n",
    "import torch.nn as nn\n",
    "import torch.optim as optim\n",
    "import torch.nn.functional as F\n",
    "from torch.utils.data import DataLoader, TensorDataset\n",
    "import matplotlib.pyplot as plt\n",
    "from torchsummary import summary\n",
    "\n",
    "# Check if GPU is available\n",
    "device = torch.device(\"cuda\" if torch.cuda.is_available() else \"cpu\")\n",
    "print('using device:', device)  \n",
    "\n",
    "class CVAE(nn.Module):\n",
    "    def __init__(self, input_dim, condition_dim, latent_dim, hidden_dim, dropout_prob=0.1):\n",
    "        super(CVAE, self).__init__()\n",
    "        \n",
    "        self.input_dim = input_dim\n",
    "        self.condition_dim = condition_dim\n",
    "        self.latent_dim = latent_dim\n",
    "        self.hidden_dim = hidden_dim\n",
    "        \n",
    "        # Encoder\n",
    "        self.encoder = nn.Sequential(\n",
    "            nn.Linear(input_dim + condition_dim, hidden_dim), #TODO rewrite this to the CONVOLUTIONAL LAYERS!\n",
    "            nn.ReLU(),\n",
    "            nn.Dropout(dropout_prob),\n",
    "            nn.Linear(hidden_dim, hidden_dim),\n",
    "            nn.ReLU(),\n",
    "            nn.Dropout(dropout_prob),   # Add dropout layer\n",
    "        )\n",
    "        self.fc_mu = nn.Linear(hidden_dim, latent_dim)\n",
    "        self.fc_logvar = nn.Linear(hidden_dim, latent_dim)\n",
    "        \n",
    "        # Decoder\n",
    "        self.decoder = nn.Sequential(\n",
    "            nn.Linear(latent_dim + condition_dim, hidden_dim),\n",
    "            nn.ReLU(),\n",
    "            nn.Dropout(dropout_prob),   # Add dropout layer\n",
    "            nn.Linear(hidden_dim, hidden_dim),\n",
    "            nn.ReLU(),\n",
    "            nn.Dropout(dropout_prob),   # Add dropout layer\n",
    "            nn.Linear(hidden_dim, input_dim),\n",
    "        )\n",
    "        \n",
    "    def encode(self, x, c):\n",
    "        x = torch.cat([x, c], dim=1)\n",
    "        h = self.encoder(x)\n",
    "        return self.fc_mu(h), self.fc_logvar(h)\n",
    "    \n",
    "    def reparameterize(self, mu, logvar):\n",
    "        std = torch.exp(0.5 * logvar)\n",
    "        eps = torch.randn_like(std)\n",
    "        return mu + eps * std\n",
    "    \n",
    "    def decode(self, z, c):\n",
    "        z = torch.cat([z, c], dim=1)\n",
    "        return self.decoder(z)\n",
    "    \n",
    "    def forward(self, x, c):\n",
    "        mu, logvar = self.encode(x, c)\n",
    "        z = self.reparameterize(mu, logvar)\n",
    "        return self.decode(z, c), mu, logvar\n",
    "    \n",
    "\n",
    "# Define the model\n",
    "input_dim = 2  # Example input dimension for MNIST\n",
    "condition_dim = 2   # Example condition dimension\n",
    "latent_dim = 20      # Example latent dimension\n",
    "hidden_dim = 200     # Example hidden dimension\n",
    "\n",
    "dropoff_cvae = CVAE(input_dim, condition_dim, latent_dim, hidden_dim).to(device)\n",
    "\n",
    "# Print the model summary\n",
    "summary(dropoff_cvae, [(input_dim,), (condition_dim,)])"
   ]
  },
  {
   "cell_type": "code",
   "execution_count": 447,
   "metadata": {},
   "outputs": [
    {
     "name": "stdout",
     "output_type": "stream",
     "text": [
      "Epoch 1, Recon Loss: 1.9092, KL Loss: 0.0796\n",
      "Epoch 2, Recon Loss: 1.5453, KL Loss: 0.3270\n",
      "Epoch 3, Recon Loss: 1.3912, KL Loss: 0.4416\n",
      "Epoch 4, Recon Loss: 1.3519, KL Loss: 0.4582\n",
      "Epoch 5, Recon Loss: 1.3116, KL Loss: 0.4828\n",
      "Epoch 6, Recon Loss: 1.2519, KL Loss: 0.5229\n",
      "Epoch 7, Recon Loss: 1.1572, KL Loss: 0.5766\n",
      "Epoch 8, Recon Loss: 1.0826, KL Loss: 0.6206\n",
      "Epoch 9, Recon Loss: 1.0618, KL Loss: 0.6412\n",
      "Epoch 10, Recon Loss: 1.0352, KL Loss: 0.6487\n",
      "Epoch 11, Recon Loss: 1.0233, KL Loss: 0.6516\n",
      "Epoch 12, Recon Loss: 1.0292, KL Loss: 0.6570\n",
      "Epoch 13, Recon Loss: 1.0204, KL Loss: 0.6589\n",
      "Epoch 14, Recon Loss: 1.0046, KL Loss: 0.6558\n",
      "Epoch 15, Recon Loss: 1.0054, KL Loss: 0.6590\n",
      "Epoch 16, Recon Loss: 0.9977, KL Loss: 0.6641\n",
      "Epoch 17, Recon Loss: 0.9934, KL Loss: 0.6662\n",
      "Epoch 18, Recon Loss: 0.9901, KL Loss: 0.6679\n",
      "Epoch 19, Recon Loss: 0.9805, KL Loss: 0.6718\n",
      "Epoch 20, Recon Loss: 0.9793, KL Loss: 0.6643\n",
      "Epoch 21, Recon Loss: 0.9820, KL Loss: 0.6805\n",
      "Epoch 22, Recon Loss: 0.9712, KL Loss: 0.6779\n",
      "Epoch 23, Recon Loss: 0.9740, KL Loss: 0.6720\n",
      "Epoch 24, Recon Loss: 0.9701, KL Loss: 0.6799\n",
      "Epoch 25, Recon Loss: 0.9624, KL Loss: 0.6754\n",
      "Epoch 26, Recon Loss: 0.9703, KL Loss: 0.6779\n",
      "Epoch 27, Recon Loss: 0.9659, KL Loss: 0.6837\n",
      "Epoch 28, Recon Loss: 0.9558, KL Loss: 0.6847\n",
      "Epoch 29, Recon Loss: 0.9581, KL Loss: 0.6658\n",
      "Epoch 30, Recon Loss: 0.9559, KL Loss: 0.6778\n"
     ]
    },
    {
     "data": {
      "image/png": "[encoded data removed]",
      "text/plain": [
       "<Figure size 1000x500 with 1 Axes>"
      ]
     },
     "metadata": {},
     "output_type": "display_data"
    }
   ],
   "source": [
    "RECOMPUTE = True\n",
    "\n",
    "if RECOMPUTE: \n",
    "    \n",
    "    dropoff_cvae = CVAE(input_dim, condition_dim, latent_dim, hidden_dim).to(device)\n",
    "\n",
    "    optimizer = optim.Adam(dropoff_cvae.parameters(), lr=1e-4)\n",
    "\n",
    "    num_epochs = 30\n",
    "\n",
    "    recon_losses = []\n",
    "    kl_losses = []\n",
    "    beta = 1\n",
    "\n",
    "    for epoch in range(num_epochs):\n",
    "        epoch_recon_loss = 0\n",
    "        epoch_kl_loss = 0\n",
    "        for batch_idx, (x, c) in enumerate(dataloader):\n",
    "            x, c = x.to(device), c.to(device)\n",
    "            optimizer.zero_grad()\n",
    "            recon_x, mu, logvar = dropoff_cvae(x, c)\n",
    "            \n",
    "            recon_loss = F.mse_loss(recon_x, x, reduction='sum')\n",
    "            \n",
    "            kl_loss = -0.5 * torch.sum(1 + logvar - mu.pow(2) - logvar.exp())\n",
    "            \n",
    "            loss = recon_loss + beta * kl_loss\n",
    "            \n",
    "            loss.backward()\n",
    "            optimizer.step()\n",
    "            \n",
    "            epoch_recon_loss += recon_loss.item()\n",
    "            epoch_kl_loss += kl_loss.item()\n",
    "        \n",
    "        \n",
    "        recon_losses.append(epoch_recon_loss / len(dataloader.dataset))\n",
    "        kl_losses.append(epoch_kl_loss / len(dataloader.dataset))\n",
    "        print(f'Epoch {epoch+1}, Recon Loss: {recon_losses[-1]:.4f}, KL Loss: {kl_losses[-1]:.4f}')\n",
    "\n",
    "    plt.figure(figsize=(10, 5))\n",
    "    plt.plot(recon_losses, label='Reconstruction Loss')\n",
    "    plt.plot(kl_losses, label='KL Divergence Loss')\n",
    "    plt.xlabel('Epoch')\n",
    "    plt.ylabel('Loss')\n",
    "    plt.legend()\n",
    "    plt.title('Training Losses')\n",
    "    plt.show()\n",
    "\n",
    "    #save weights\n",
    "    torch.save(pickup_cvae.state_dict(), 'learned_model_weights/pickup_CVAE_weights.pth')"
   ]
  },
  {
   "cell_type": "markdown",
   "metadata": {},
   "source": [
    "### generate method"
   ]
  },
  {
   "cell_type": "code",
   "execution_count": 448,
   "metadata": {},
   "outputs": [
    {
     "data": {
      "text/plain": [
       "array([[ 42.3683  , -71.12099 ,  42.374825, -71.1072  ]], dtype=float32)"
      ]
     },
     "execution_count": 448,
     "metadata": {},
     "output_type": "execute_result"
    }
   ],
   "source": [
    "def generate_new_data_two_part_cvae(input_conditon, num_samples=1):\n",
    "    with torch.no_grad():\n",
    "        \n",
    "        z_pickup = torch.randn(num_samples, pickup_cvae.latent_dim).to(device)\n",
    "        z_dropoff = torch.randn(num_samples, dropoff_cvae.latent_dim).to(device)\n",
    "        \n",
    "        condtion = scaler_pickup_c.transform(input_conditon)\n",
    "        condtion = torch.FloatTensor(input_conditon).to(device).repeat(num_samples, 1)\n",
    "        pickups = pickup_cvae.decode(z_pickup, condtion)\n",
    "        \n",
    "        dropoffs = dropoff_cvae.decode(z_dropoff, pickups)\n",
    "        \n",
    "        pickups = scaler_pickup_x.inverse_transform(pickups.cpu().numpy())\n",
    "        dropoffs = scaler_dropoff_x.inverse_transform(dropoffs.cpu().numpy())      \n",
    "        combined_data = np.concatenate((pickups, dropoffs), axis=1)\n",
    "    \n",
    "    return combined_data\n",
    "\n",
    "condtion = torch.FloatTensor([[0, 1, 5]])\n",
    "\n",
    "generate_new_data_two_part_cvae(condtion, num_samples=1)"
   ]
  },
  {
   "cell_type": "markdown",
   "metadata": {},
   "source": [
    "try CVAE different resultions and different condtional labels\n",
    "compute MSE multiple times to see if this is correct\n",
    "compute MED for the actuall full distirbution\n",
    "compute the resutls for both the pickup and drop off locations\n",
    "add cvae and gmm results in a table\n",
    "make a nice graphic with trained GMM model\n",
    "wandb hpyerparameters search\n",
    "create hyperaparemters search like plotly graph"
   ]
  },
  {
   "cell_type": "markdown",
   "metadata": {},
   "source": [
    "# Data Ploting"
   ]
  },
  {
   "cell_type": "markdown",
   "metadata": {},
   "source": [
    "## spatial comparison"
   ]
  },
  {
   "cell_type": "code",
   "execution_count": 639,
   "metadata": {},
   "outputs": [
    {
     "data": {
      "text/plain": [
       "tensor([[210.,   1.,   4.]])"
      ]
     },
     "execution_count": 639,
     "metadata": {},
     "output_type": "execute_result"
    }
   ],
   "source": []
  },
  {
   "cell_type": "code",
   "execution_count": 662,
   "metadata": {},
   "outputs": [
    {
     "name": "stdout",
     "output_type": "stream",
     "text": [
      "cuda\n",
      "cuda\n",
      "cuda\n"
     ]
    },
    {
     "data": {
      "image/png": "[encoded data removed]",
      "text/plain": [
       "<Figure size 2000x1600 with 20 Axes>"
      ]
     },
     "metadata": {},
     "output_type": "display_data"
    }
   ],
   "source": [
    "import osmnx as ox\n",
    "import numpy as np\n",
    "import matplotlib.pyplot as plt\n",
    "import ot\n",
    "\n",
    "BINS = 50\n",
    "\n",
    "BINS = 50\n",
    "\n",
    "def emd_2d_pot(hist1, hist2, bin_size=1):\n",
    "    hist1 = hist1 / np.sum(hist1)\n",
    "    hist2 = hist2 / np.sum(hist2)\n",
    "    \n",
    "    y, x = np.indices(hist1.shape)\n",
    "    coords = np.column_stack((x.ravel(), y.ravel()))\n",
    "    \n",
    "    M = ot.dist(coords * bin_size, coords * bin_size, metric='euclidean')\n",
    "    \n",
    "    emd = ot.emd2(hist1.ravel(), hist2.ravel(), M)\n",
    "    \n",
    "    return emd\n",
    "\n",
    "\n",
    "def generate_new_data(model, condition, num_samples=1):\n",
    "    with torch.no_grad():\n",
    "        z = torch.randn(num_samples, model.latent_dim).to(device)\n",
    "        c = (condition - C_mean) / C_std  # Normalize condition\n",
    "        c = c.repeat(num_samples, 1).to(device)\n",
    "        generated = model.decode(z, c)\n",
    "        generated = generated * X_std.to(device) + X_mean.to(device)  # Denormalize output\n",
    "    return generated.cpu().numpy()\n",
    "\n",
    "print(device)\n",
    "\n",
    "\n",
    "# [Keep all the existing function definitions: emd_2d_pot, generate_new_data, etc.]\n",
    "\n",
    "print(device)\n",
    "import osmnx as ox\n",
    "import numpy as np\n",
    "import matplotlib.pyplot as plt\n",
    "import ot\n",
    "\n",
    "BINS = 50\n",
    "\n",
    "# [Keep all the existing function definitions: emd_2d_pot, generate_new_data, etc.]\n",
    "\n",
    "print(device)\n",
    "\n",
    "# Adjust figure size to make room for square subplots\n",
    "fig, axes = plt.subplots(4, 5, figsize=(20, 16))\n",
    "\n",
    "\n",
    "hist_df = filtered_df.to_numpy()\n",
    "samples_num = len(hist_df)\n",
    "heatmap_realized, xedges, yedges = np.histogram2d(hist_df[:, 0], hist_df[:, 1], bins=BINS)\n",
    "extent = [xedges[0], xedges[-1], yedges[0], yedges[-1]]\n",
    "    \n",
    "for i in range(4):\n",
    "    sampled_row = df.sample()[['Interval', 'Work Day', 'Day of the Week']]\n",
    "    new_condition = torch.FloatTensor(sampled_row.values)\n",
    "\n",
    "    filtered_df = df[(df['Interval'] == new_condition[0, 0].item()) & \n",
    "                    (df['Work Day'] == new_condition[0, 1].item()) & \n",
    "                    (df['Day of the Week'] == new_condition[0, 2].item())]\n",
    "\n",
    "    hist_df = filtered_df.to_numpy()\n",
    "    samples_num = len(hist_df)\n",
    "    heatmap_realized, xedges, yedges = np.histogram2d(hist_df[:, 0], hist_df[:, 1], bins=BINS)\n",
    "\n",
    "    # Ground Truth\n",
    "    im = axes[i, 0].imshow(heatmap_realized.T, extent=extent, origin='lower', cmap='inferno', aspect='auto')\n",
    "    \n",
    "    # CVAE\n",
    "    data_to_plot = generate_new_data(joint_model, new_condition, num_samples=5000)\n",
    "    heatmap_predicted, _, _ = np.histogram2d(data_to_plot[:, 0], data_to_plot[:, 1], bins=BINS)\n",
    "    axes[i, 1].imshow(heatmap_predicted.T, extent=extent, origin='lower', cmap='inferno', aspect='auto')\n",
    "\n",
    "    # Bootstrapping\n",
    "    bootstrap_sample = df.sample(n=5000, replace=True).to_numpy()\n",
    "    heatmap_predicted, _, _ = np.histogram2d(bootstrap_sample[:, 0], bootstrap_sample[:, 1], bins=BINS)\n",
    "    axes[i, 2].imshow(heatmap_predicted.T, extent=extent, origin='lower', cmap='inferno', aspect='auto')\n",
    "\n",
    "    # GMM\n",
    "    X_gmm_generated = gmm.sample(5000)[0]\n",
    "    heatmap_predicted, _, _ = np.histogram2d(X_gmm_generated[:, 1], X_gmm_generated[:, 0], bins=BINS)\n",
    "    axes[i, 3].imshow(heatmap_predicted.T, extent=extent, origin='lower', cmap='inferno', aspect='auto')\n",
    "\n",
    "    # Two-part CVAE\n",
    "    data_to_plot = generate_new_data_two_part_cvae(new_condition, num_samples=5000)\n",
    "    heatmap_predicted, _, _ = np.histogram2d(data_to_plot[:, 0], data_to_plot[:, 1], bins=BINS)\n",
    "    axes[i, 4].imshow(heatmap_predicted.T, extent=extent, origin='lower', cmap='inferno', aspect='auto')\n",
    "\n",
    "    # Add row title\n",
    "    axes[i, 0].set_ylabel(f'Interval: {new_condition[0,0].item():.0f}\\nWork Day: {new_condition[0,1].item():.0f}\\nDay of Week: {new_condition[0,2].item():.0f}', fontsize=10)\n",
    "\n",
    "# Remove x and y ticks for clarity and set aspect ratio to equal\n",
    "for ax in axes.flatten():\n",
    "    ax.set_xticks([])\n",
    "    ax.set_yticks([])\n",
    "    ax.set_aspect('equal', adjustable='box')\n",
    "\n",
    "# Add column titles\n",
    "column_titles = ['Ground Truth', 'CVAE', 'Bootstrapping', 'GMM', 'Two-part CVAE']\n",
    "for ax, title in zip(axes[0], column_titles):\n",
    "    ax.set_title(title)\n",
    "\n",
    "plt.tight_layout()\n",
    "plt.show()\n",
    "fig.savefig('final_results/heatmaps_of_generative_spatial_distributions_4x5_square.png', bbox_inches='tight', dpi=300)"
   ]
  },
  {
   "cell_type": "code",
   "execution_count": null,
   "metadata": {},
   "outputs": [],
   "source": []
  },
  {
   "cell_type": "markdown",
   "metadata": {},
   "source": [
    "try CVAE different resultions and different condtional labels\n",
    "compute MSE multiple times to see if this is correct\n",
    "compute MED for the actuall full distirbution\n",
    "compute the resutls for both the pickup and drop off locations\n",
    "add cvae and gmm results in a table\n",
    "make a nice graphic with trained GMM model\n",
    "wandb hpyerparameters search\n",
    "create hyperaparemters search like plotly graph"
   ]
  },
  {
   "cell_type": "markdown",
   "metadata": {},
   "source": [
    "## final results"
   ]
  },
  {
   "cell_type": "code",
   "execution_count": 595,
   "metadata": {},
   "outputs": [
    {
     "data": {
      "text/html": [
       "<div>\n",
       "<style scoped>\n",
       "    .dataframe tbody tr th:only-of-type {\n",
       "        vertical-align: middle;\n",
       "    }\n",
       "\n",
       "    .dataframe tbody tr th {\n",
       "        vertical-align: top;\n",
       "    }\n",
       "\n",
       "    .dataframe thead th {\n",
       "        text-align: right;\n",
       "    }\n",
       "</style>\n",
       "<table border=\"1\" class=\"dataframe\">\n",
       "  <thead>\n",
       "    <tr style=\"text-align: right;\">\n",
       "      <th></th>\n",
       "      <th>Origin Lat</th>\n",
       "      <th>Origin Lng</th>\n",
       "      <th>Destination Lat</th>\n",
       "      <th>Destination Lng</th>\n",
       "      <th>Interval</th>\n",
       "      <th>Work Day</th>\n",
       "      <th>Day of the Week</th>\n",
       "    </tr>\n",
       "  </thead>\n",
       "  <tbody>\n",
       "    <tr>\n",
       "      <th>27486</th>\n",
       "      <td>42.382752</td>\n",
       "      <td>-71.119157</td>\n",
       "      <td>42.369926</td>\n",
       "      <td>-71.116813</td>\n",
       "      <td>300</td>\n",
       "      <td>0</td>\n",
       "      <td>6</td>\n",
       "    </tr>\n",
       "    <tr>\n",
       "      <th>19444</th>\n",
       "      <td>42.377507</td>\n",
       "      <td>-71.105603</td>\n",
       "      <td>42.378957</td>\n",
       "      <td>-71.123691</td>\n",
       "      <td>185</td>\n",
       "      <td>1</td>\n",
       "      <td>1</td>\n",
       "    </tr>\n",
       "    <tr>\n",
       "      <th>30858</th>\n",
       "      <td>42.375664</td>\n",
       "      <td>-71.113813</td>\n",
       "      <td>42.364444</td>\n",
       "      <td>-71.112427</td>\n",
       "      <td>365</td>\n",
       "      <td>1</td>\n",
       "      <td>2</td>\n",
       "    </tr>\n",
       "    <tr>\n",
       "      <th>19496</th>\n",
       "      <td>42.371257</td>\n",
       "      <td>-71.118938</td>\n",
       "      <td>42.375761</td>\n",
       "      <td>-71.124127</td>\n",
       "      <td>185</td>\n",
       "      <td>1</td>\n",
       "      <td>3</td>\n",
       "    </tr>\n",
       "    <tr>\n",
       "      <th>5038</th>\n",
       "      <td>42.370579</td>\n",
       "      <td>-71.116303</td>\n",
       "      <td>42.375457</td>\n",
       "      <td>-71.124482</td>\n",
       "      <td>40</td>\n",
       "      <td>0</td>\n",
       "      <td>7</td>\n",
       "    </tr>\n",
       "    <tr>\n",
       "      <th>...</th>\n",
       "      <td>...</td>\n",
       "      <td>...</td>\n",
       "      <td>...</td>\n",
       "      <td>...</td>\n",
       "      <td>...</td>\n",
       "      <td>...</td>\n",
       "      <td>...</td>\n",
       "    </tr>\n",
       "    <tr>\n",
       "      <th>18250</th>\n",
       "      <td>42.370760</td>\n",
       "      <td>-71.113784</td>\n",
       "      <td>42.381987</td>\n",
       "      <td>-71.129606</td>\n",
       "      <td>170</td>\n",
       "      <td>1</td>\n",
       "      <td>4</td>\n",
       "    </tr>\n",
       "    <tr>\n",
       "      <th>15188</th>\n",
       "      <td>42.366714</td>\n",
       "      <td>-71.120285</td>\n",
       "      <td>42.368110</td>\n",
       "      <td>-71.114449</td>\n",
       "      <td>140</td>\n",
       "      <td>1</td>\n",
       "      <td>3</td>\n",
       "    </tr>\n",
       "    <tr>\n",
       "      <th>14740</th>\n",
       "      <td>42.371656</td>\n",
       "      <td>-71.121012</td>\n",
       "      <td>42.365259</td>\n",
       "      <td>-71.107675</td>\n",
       "      <td>135</td>\n",
       "      <td>1</td>\n",
       "      <td>3</td>\n",
       "    </tr>\n",
       "    <tr>\n",
       "      <th>2201</th>\n",
       "      <td>42.374075</td>\n",
       "      <td>-71.113883</td>\n",
       "      <td>42.364738</td>\n",
       "      <td>-71.118950</td>\n",
       "      <td>15</td>\n",
       "      <td>1</td>\n",
       "      <td>4</td>\n",
       "    </tr>\n",
       "    <tr>\n",
       "      <th>27813</th>\n",
       "      <td>42.367016</td>\n",
       "      <td>-71.115437</td>\n",
       "      <td>42.372643</td>\n",
       "      <td>-71.105733</td>\n",
       "      <td>305</td>\n",
       "      <td>0</td>\n",
       "      <td>7</td>\n",
       "    </tr>\n",
       "  </tbody>\n",
       "</table>\n",
       "<p>4891 rows × 7 columns</p>\n",
       "</div>"
      ],
      "text/plain": [
       "       Origin Lat  Origin Lng  Destination Lat  Destination Lng  Interval  \\\n",
       "27486   42.382752  -71.119157        42.369926       -71.116813       300   \n",
       "19444   42.377507  -71.105603        42.378957       -71.123691       185   \n",
       "30858   42.375664  -71.113813        42.364444       -71.112427       365   \n",
       "19496   42.371257  -71.118938        42.375761       -71.124127       185   \n",
       "5038    42.370579  -71.116303        42.375457       -71.124482        40   \n",
       "...           ...         ...              ...              ...       ...   \n",
       "18250   42.370760  -71.113784        42.381987       -71.129606       170   \n",
       "15188   42.366714  -71.120285        42.368110       -71.114449       140   \n",
       "14740   42.371656  -71.121012        42.365259       -71.107675       135   \n",
       "2201    42.374075  -71.113883        42.364738       -71.118950        15   \n",
       "27813   42.367016  -71.115437        42.372643       -71.105733       305   \n",
       "\n",
       "       Work Day  Day of the Week  \n",
       "27486         0                6  \n",
       "19444         1                1  \n",
       "30858         1                2  \n",
       "19496         1                3  \n",
       "5038          0                7  \n",
       "...         ...              ...  \n",
       "18250         1                4  \n",
       "15188         1                3  \n",
       "14740         1                3  \n",
       "2201          1                4  \n",
       "27813         0                7  \n",
       "\n",
       "[4891 rows x 7 columns]"
      ]
     },
     "execution_count": 595,
     "metadata": {},
     "output_type": "execute_result"
    }
   ],
   "source": [
    "test_df"
   ]
  },
  {
   "cell_type": "code",
   "execution_count": 607,
   "metadata": {},
   "outputs": [
    {
     "name": "stderr",
     "output_type": "stream",
     "text": [
      "100%|██████████| 100/100 [01:05<00:00,  1.52it/s]\n"
     ]
    }
   ],
   "source": [
    "from tqdm import tqdm\n",
    "import torch\n",
    "import numpy as np\n",
    "import matplotlib.pyplot as plt\n",
    "import seaborn as sns\n",
    "from collections import defaultdict\n",
    "import itertools\n",
    "import warnings\n",
    "from sklearn.metrics import mean_absolute_error\n",
    "\n",
    "def haversine_distance(coord1, coord2):\n",
    "    \"\"\"\n",
    "    Calculate the Haversine distance between two points on the Earth.\n",
    "    \n",
    "    Parameters:\n",
    "    coord1, coord2: numpy arrays of shape (n, 2) where each row is (latitude, longitude)\n",
    "    \n",
    "    Returns:\n",
    "    distances: numpy array of shape (n,) containing the distances\n",
    "    \"\"\"\n",
    "    # Convert latitude and longitude from degrees to radians\n",
    "    lat1, lon1 = np.radians(coord1[:, 0]), np.radians(coord1[:, 1])\n",
    "    lat2, lon2 = np.radians(coord2[:, 0]), np.radians(coord2[:, 1])\n",
    "    \n",
    "    # Compute differences\n",
    "    dlat = lat2 - lat1\n",
    "    dlon = lon2 - lon1\n",
    "    \n",
    "    # Haversine formula\n",
    "    a = np.sin(dlat / 2.0)**2 + np.cos(lat1) * np.cos(lat2) * np.sin(dlon / 2.0)**2\n",
    "    c = 2 * np.arcsin(np.sqrt(a))\n",
    "    \n",
    "    # Radius of Earth in kilometers (mean radius)\n",
    "    R = 6371000.0\n",
    "    distances = R * c\n",
    "    \n",
    "    return distances\n",
    "\n",
    "warnings.filterwarnings('ignore')\n",
    "\n",
    "# TODO condition on less things\n",
    "new_condition = test_df[['Interval', 'Work Day', 'Day of the Week']]\n",
    "# TODO this should be done on the test dataset!\n",
    "grouped = test_df.groupby(['Interval', 'Work Day', 'Day of the Week']).size().reset_index(name='Count')\n",
    "grouped.to_numpy()\n",
    "\n",
    "# TODO automatically select the smallest graph\n",
    "plot_cvae = []\n",
    "plot_bootstrap = []\n",
    "\n",
    "main_keys = ['spatial', 'temporal']\n",
    "models = ['cvae', 'gmm', 'bootstraping', 'twopart']\n",
    "event_types = ['pickup', 'dropoff']\n",
    "\n",
    "results = defaultdict(lambda: defaultdict(lambda: defaultdict(list)))\n",
    "\n",
    "for main_key, model, event in itertools.product(main_keys, models, event_types):\n",
    "    results[main_key][model][event] = []\n",
    "\n",
    "\n",
    "for condition_and_count in tqdm(grouped.to_numpy()[:100]): #TODO THERE IS A CUTOOF VALUE HERE\n",
    "    new_condition = torch.FloatTensor([condition_and_count[:3]])\n",
    "    samples = condition_and_count[3]\n",
    "    \n",
    "    filtered_df = test_df[(test_df['Interval'] == new_condition[0, 0].item()) & \n",
    "                          (test_df['Work Day'] == new_condition[0, 1].item()) & \n",
    "                          (test_df['Day of the Week'] == new_condition[0, 2].item())]\n",
    "    \n",
    "    hist_df = filtered_df.to_numpy()\n",
    "    heatmap_realized, _, _ = np.histogram2d(hist_df[:, 0], hist_df[:, 1], bins=BINS)\n",
    "\n",
    "\n",
    "    data_to_plot = generate_new_data(joint_model, new_condition, num_samples=samples)\n",
    "    heatmap_predicted, _, _ = np.histogram2d(data_to_plot[:, 0], data_to_plot[:, 1], bins=BINS)\n",
    "    dist = emd_2d_pot(heatmap_predicted, heatmap_realized)\n",
    "    results['spatial']['cvae']['pickup'].append(dist)\n",
    "    \n",
    "    heatmap_predicted, _, _ = np.histogram2d(data_to_plot[:, 2], data_to_plot[:, 3], bins=BINS)\n",
    "    dist = emd_2d_pot(heatmap_predicted, heatmap_realized)\n",
    "    results['spatial']['cvae']['dropoff'].append(dist)\n",
    "    \n",
    "    \n",
    "    results['temporal']['cvae']['pickup'].append(np.mean(haversine_distance(hist_df[:, :2], data_to_plot[:, :2])))\n",
    "    results['temporal']['cvae']['dropoff'].append(np.mean(haversine_distance(hist_df[:, 2:4], data_to_plot[:, 2:4])))\n",
    "    \n",
    "    \n",
    "    data_to_plot = generate_new_data_two_part_cvae(new_condition, num_samples=samples)\n",
    "    heatmap_predicted, _, _ = np.histogram2d(data_to_plot[:, 0], data_to_plot[:, 1], bins=BINS)\n",
    "    dist = emd_2d_pot(heatmap_predicted, heatmap_realized)\n",
    "    results['spatial']['twopart']['pickup'].append(dist)\n",
    "    \n",
    "    heatmap_predicted, _, _ = np.histogram2d(data_to_plot[:, 2], data_to_plot[:, 3], bins=BINS)\n",
    "    dist = emd_2d_pot(heatmap_predicted, heatmap_realized)\n",
    "    results['spatial']['twopart']['dropoff'].append(dist)\n",
    "    results['temporal']['twopart']['pickup'].append(np.mean(haversine_distance(hist_df[:, :2], data_to_plot[:, :2])))\n",
    "    results['temporal']['twopart']['dropoff'].append(np.mean(haversine_distance(hist_df[:, 2:4], data_to_plot[:, 2:4])))\n",
    "    \n",
    "\n",
    "    bootstrap_sample = df.sample(n=samples, replace=True).to_numpy()\n",
    "    heatmap_predicted, _, _ = np.histogram2d(bootstrap_sample[:, 0], bootstrap_sample[:, 1], bins=BINS)\n",
    "    dist = emd_2d_pot(heatmap_predicted, heatmap_realized)\n",
    "    results['spatial']['bootstraping']['pickup'].append(dist)\n",
    "    heatmap_predicted, _, _ = np.histogram2d(bootstrap_sample[:, 2], bootstrap_sample[:, 3], bins=BINS)\n",
    "    dist = emd_2d_pot(heatmap_predicted, heatmap_realized)\n",
    "    results['spatial']['bootstraping']['dropoff'].append(dist)\n",
    "        \n",
    "    results['temporal']['bootstraping']['pickup'].append(np.mean(haversine_distance(hist_df[:, :2], bootstrap_sample[:, :2])))\n",
    "    results['temporal']['bootstraping']['dropoff'].append(np.mean(haversine_distance(hist_df[:, 2:4], bootstrap_sample[:, 2:4])))\n",
    "    \n",
    "    \n",
    "    gmm_generated = gmm.sample(samples)[0]\n",
    "    heatmap_predicted, _, _ = np.histogram2d(gmm_generated[:, 0], gmm_generated[:, 1], bins=BINS)\n",
    "    dist = emd_2d_pot(heatmap_predicted, heatmap_realized)\n",
    "    results['spatial']['gmm']['pickup'].append(dist)\n",
    "    heatmap_predicted, _, _ = np.histogram2d(gmm_generated[:, 2], gmm_generated[:, 3], bins=BINS)\n",
    "    dist = emd_2d_pot(heatmap_predicted, heatmap_realized)\n",
    "    results['spatial']['gmm']['dropoff'].append(dist)\n",
    "    \n",
    "\n",
    "    results['temporal']['gmm']['pickup'].append(np.mean(haversine_distance(hist_df[:, :2], gmm_generated[:, :2])))\n",
    "    results['temporal']['gmm']['dropoff'].append(np.mean(haversine_distance(hist_df[:, 2:4], gmm_generated[:, 2:4])))\n",
    "    \n",
    "    \n",
    "# results_df = pd.DataFrame.from_dict(results, orient='index')\n",
    "# results_df change this to use mea"
   ]
  },
  {
   "cell_type": "code",
   "execution_count": 611,
   "metadata": {},
   "outputs": [
    {
     "data": {
      "text/html": [
       "<div>\n",
       "<style scoped>\n",
       "    .dataframe tbody tr th:only-of-type {\n",
       "        vertical-align: middle;\n",
       "    }\n",
       "\n",
       "    .dataframe tbody tr th {\n",
       "        vertical-align: top;\n",
       "    }\n",
       "\n",
       "    .dataframe thead th {\n",
       "        text-align: right;\n",
       "    }\n",
       "</style>\n",
       "<table border=\"1\" class=\"dataframe\">\n",
       "  <thead>\n",
       "    <tr style=\"text-align: right;\">\n",
       "      <th></th>\n",
       "      <th>0</th>\n",
       "    </tr>\n",
       "  </thead>\n",
       "  <tbody>\n",
       "    <tr>\n",
       "      <th>spatial_cvae_pickup</th>\n",
       "      <td>[18.360235290185564, 10.527558237076667, 6.599...</td>\n",
       "    </tr>\n",
       "    <tr>\n",
       "      <th>spatial_cvae_dropoff</th>\n",
       "      <td>[10.381208451630146, 9.811153648851374, 23.006...</td>\n",
       "    </tr>\n",
       "    <tr>\n",
       "      <th>spatial_gmm_pickup</th>\n",
       "      <td>[12.577437843397902, 8.412958343329239, 13.044...</td>\n",
       "    </tr>\n",
       "    <tr>\n",
       "      <th>spatial_gmm_dropoff</th>\n",
       "      <td>[12.102099690163472, 9.69376651746086, 14.2209...</td>\n",
       "    </tr>\n",
       "    <tr>\n",
       "      <th>spatial_bootstraping_pickup</th>\n",
       "      <td>[10.36927693961706, 8.91909308571319, 14.68378...</td>\n",
       "    </tr>\n",
       "    <tr>\n",
       "      <th>spatial_bootstraping_dropoff</th>\n",
       "      <td>[13.250810818566059, 11.42785462136066, 15.855...</td>\n",
       "    </tr>\n",
       "    <tr>\n",
       "      <th>spatial_twopart_pickup</th>\n",
       "      <td>[9.760282703916694, 10.230533310418071, 12.758...</td>\n",
       "    </tr>\n",
       "    <tr>\n",
       "      <th>spatial_twopart_dropoff</th>\n",
       "      <td>[12.536474268301706, 7.376688435853984, 11.182...</td>\n",
       "    </tr>\n",
       "    <tr>\n",
       "      <th>temporal_cvae_pickup</th>\n",
       "      <td>[1032.8008016392948, 985.871324541558, 898.071...</td>\n",
       "    </tr>\n",
       "    <tr>\n",
       "      <th>temporal_cvae_dropoff</th>\n",
       "      <td>[1126.5403265335603, 1382.1889248188024, 1283....</td>\n",
       "    </tr>\n",
       "    <tr>\n",
       "      <th>temporal_gmm_pickup</th>\n",
       "      <td>[1148.1567601047755, 1047.525824488339, 1208.0...</td>\n",
       "    </tr>\n",
       "    <tr>\n",
       "      <th>temporal_gmm_dropoff</th>\n",
       "      <td>[1246.3734746333232, 1365.3325510053746, 1495....</td>\n",
       "    </tr>\n",
       "    <tr>\n",
       "      <th>temporal_bootstraping_pickup</th>\n",
       "      <td>[1287.164443859614, 1020.0292260331133, 1036.1...</td>\n",
       "    </tr>\n",
       "    <tr>\n",
       "      <th>temporal_bootstraping_dropoff</th>\n",
       "      <td>[1503.4798733832479, 1354.256830797367, 1311.5...</td>\n",
       "    </tr>\n",
       "    <tr>\n",
       "      <th>temporal_twopart_pickup</th>\n",
       "      <td>[1199.036442598275, 1068.7438270431724, 1054.2...</td>\n",
       "    </tr>\n",
       "    <tr>\n",
       "      <th>temporal_twopart_dropoff</th>\n",
       "      <td>[1270.1730982440642, 1386.7530556578831, 1410....</td>\n",
       "    </tr>\n",
       "  </tbody>\n",
       "</table>\n",
       "</div>"
      ],
      "text/plain": [
       "                                                                               0\n",
       "spatial_cvae_pickup            [18.360235290185564, 10.527558237076667, 6.599...\n",
       "spatial_cvae_dropoff           [10.381208451630146, 9.811153648851374, 23.006...\n",
       "spatial_gmm_pickup             [12.577437843397902, 8.412958343329239, 13.044...\n",
       "spatial_gmm_dropoff            [12.102099690163472, 9.69376651746086, 14.2209...\n",
       "spatial_bootstraping_pickup    [10.36927693961706, 8.91909308571319, 14.68378...\n",
       "spatial_bootstraping_dropoff   [13.250810818566059, 11.42785462136066, 15.855...\n",
       "spatial_twopart_pickup         [9.760282703916694, 10.230533310418071, 12.758...\n",
       "spatial_twopart_dropoff        [12.536474268301706, 7.376688435853984, 11.182...\n",
       "temporal_cvae_pickup           [1032.8008016392948, 985.871324541558, 898.071...\n",
       "temporal_cvae_dropoff          [1126.5403265335603, 1382.1889248188024, 1283....\n",
       "temporal_gmm_pickup            [1148.1567601047755, 1047.525824488339, 1208.0...\n",
       "temporal_gmm_dropoff           [1246.3734746333232, 1365.3325510053746, 1495....\n",
       "temporal_bootstraping_pickup   [1287.164443859614, 1020.0292260331133, 1036.1...\n",
       "temporal_bootstraping_dropoff  [1503.4798733832479, 1354.256830797367, 1311.5...\n",
       "temporal_twopart_pickup        [1199.036442598275, 1068.7438270431724, 1054.2...\n",
       "temporal_twopart_dropoff       [1270.1730982440642, 1386.7530556578831, 1410...."
      ]
     },
     "execution_count": 611,
     "metadata": {},
     "output_type": "execute_result"
    }
   ],
   "source": [
    "# Convert defaultdict to a regular dict\n",
    "results_dict = {k: dict(v) for k, v in results.items()}\n",
    "results_dict = {k: {sk: dict(sv) for sk, sv in v.items()} for k, v in results_dict.items()}\n",
    "\n",
    "# Flatten the nested dictionary and create a DataFrame\n",
    "results_df = pd.json_normalize(results_dict, sep='_')\n",
    "\n",
    "# Transpose the DataFrame\n",
    "results_df_transposed = results_df.transpose()\n",
    "\n",
    "# Print the transposed DataFrame to verify\n",
    "results_df_transposed"
   ]
  },
  {
   "cell_type": "markdown",
   "metadata": {},
   "source": [
    "instead of MSE for analysing here add the distance in the meters"
   ]
  },
  {
   "cell_type": "code",
   "execution_count": 665,
   "metadata": {},
   "outputs": [
    {
     "data": {
      "image/png": "[encoded data removed]",
      "text/plain": [
       "<Figure size 1200x600 with 2 Axes>"
      ]
     },
     "metadata": {},
     "output_type": "display_data"
    }
   ],
   "source": [
    "import pandas as pd\n",
    "import seaborn as sns\n",
    "import matplotlib.pyplot as plt\n",
    "\n",
    "# Assuming results_df_transposed is already defined\n",
    "# Filter the DataFrame to include only rows that start with 'spatial' and 'temporal'\n",
    "spatial_df = results_df_transposed.filter(like='spatial', axis=0)\n",
    "temporal_df = results_df_transposed.filter(like='temporal', axis=0)\n",
    "\n",
    "# Convert the filtered DataFrames into formats suitable for plotting\n",
    "spatial_data = spatial_df.apply(pd.Series.explode).reset_index()\n",
    "spatial_data.columns = ['Category', 'Value']\n",
    "temporal_data = temporal_df.apply(pd.Series.explode).reset_index()\n",
    "temporal_data.columns = ['Category', 'Value']\n",
    "\n",
    "# Extract model name and event type\n",
    "spatial_data['Model'] = spatial_data['Category'].apply(lambda x: x.split('_')[1])\n",
    "spatial_data['Event'] = spatial_data['Category'].apply(lambda x: x.split('_')[2])\n",
    "temporal_data['Model'] = temporal_data['Category'].apply(lambda x: x.split('_')[1])\n",
    "temporal_data['Event'] = temporal_data['Category'].apply(lambda x: x.split('_')[2])\n",
    "\n",
    "# Convert Value to numeric\n",
    "spatial_data['Value'] = pd.to_numeric(spatial_data['Value'], errors='coerce')\n",
    "temporal_data['Value'] = pd.to_numeric(temporal_data['Value'], errors='coerce')\n",
    "\n",
    "# Create a 2 by 1 figure\n",
    "fig, axes = plt.subplots(1, 2, figsize=(12, 6))\n",
    "\n",
    "# Create the violin plot for spatial data\n",
    "sns.violinplot(ax=axes[0], x='Model', y='Value', hue='Event', data=spatial_data, split=True)\n",
    "axes[0].set_xlabel('Model')\n",
    "axes[0].set_ylabel('EMD score')\n",
    "axes[0].legend(title='Event', loc='upper left')\n",
    "\n",
    "# Create the violin plot for temporal data\n",
    "sns.violinplot(ax=axes[1], x='Model', y='Value', hue='Event', data=temporal_data, split=True)\n",
    "axes[1].set_xlabel('Model', fontsize=14)\n",
    "axes[1].set_ylabel('Average Distance [m]', fontsize=14)\n",
    "axes[1].legend(title='Event', loc='upper left')\n",
    "\n",
    "plt.tight_layout()\n",
    "plt.show()\n",
    "fig.savefig('final_results/bar_plot_comparison_of_EMD_and_MSE_for_generative_models.png')"
   ]
  },
  {
   "cell_type": "markdown",
   "metadata": {},
   "source": [
    "try CVAE different resultions and different condtional labels\n",
    "compute MSE multiple times to see if this is correct\n",
    "compute MED for the actuall full distirbution\n",
    "compute the resutls for both the pickup and drop off locations\n",
    "add cvae and gmm results in a table\n",
    "make a nice graphic with trained GMM model\n",
    "wandb hpyerparameters search\n",
    "create hyperaparemters search like plotly graph"
   ]
  },
  {
   "cell_type": "code",
   "execution_count": null,
   "metadata": {},
   "outputs": [],
   "source": [
    "# import pandas as pd\n",
    "# import numpy as np\n",
    "# import matplotlib.pyplot as plt\n",
    "# import seaborn as sns\n",
    "\n",
    "# # Convert the 'spatial' and 'temporal' results to DataFrames\n",
    "# df_spatial = pd.DataFrame(results['spatial'])\n",
    "# df_temporal = pd.DataFrame(results['temporal'])\n",
    "\n",
    "# # Define a color palette\n",
    "# palette = sns.color_palette(\"husl\", len(df_spatial.columns))\n",
    "\n",
    "# # Create the box plots side by side\n",
    "# fig, axes = plt.subplots(nrows=1, ncols=2, figsize=(12, 7), dpi=300)\n",
    "\n",
    "# # Box plot for 'spatial' results using seaborn\n",
    "# sns.boxplot(data=df_spatial, ax=axes[0], palette=palette)\n",
    "# axes[0].set_title(f'cvae improvement over boststrapping in EMD: {(1-np.mean(results[\"spatial\"][\"cvae\"])/np.mean(results[\"spatial\"][\"boststrapping\"]))*100:.1f}%')\n",
    "# axes[0].set_xlabel('Methods')\n",
    "# axes[0].set_ylabel('Wasserstein Distance (EMD distance)')\n",
    "# axes[0].tick_params(axis='x', rotation=45)\n",
    "# axes[0].grid(False)  # Remove grid\n",
    "\n",
    "# # Box plot for 'temporal' results using seaborn\n",
    "# sns.boxplot(data=df_temporal, ax=axes[1], palette=palette)\n",
    "# axes[1].set_title(f'cvae improvement over boststrapping MSE: {(1-np.mean(results[\"temporal\"][\"cvae\"])/np.mean(results[\"temporal\"][\"boststrapping\"]))*100:.1f}%')\n",
    "# axes[1].set_xlabel('Methods')\n",
    "# axes[1].set_ylabel('MSE values')\n",
    "# axes[1].tick_params(axis='x', rotation=45)\n",
    "# axes[1].grid(False)  # Remove grid\n",
    "\n",
    "# # Adjust layout\n",
    "# plt.tight_layout()\n",
    "# plt.show()\n",
    "\n",
    "# # Save this graphic\n",
    "# fig.savefig('final_results/bar_plot_comparison_of_EMD_and_MSE_for_generative_models.png')"
   ]
  },
  {
   "cell_type": "markdown",
   "metadata": {},
   "source": [
    "add accuracy results for both pickup and dropoffs here in two MSE and EMD catagories for each method"
   ]
  },
  {
   "cell_type": "code",
   "execution_count": null,
   "metadata": {},
   "outputs": [
    {
     "name": "stdout",
     "output_type": "stream",
     "text": [
      "Requirement already satisfied: plotly in ./.venv/lib/python3.12/site-packages (5.23.0)\n",
      "Requirement already satisfied: tenacity>=6.2.0 in ./.venv/lib/python3.12/site-packages (from plotly) (9.0.0)\n",
      "Requirement already satisfied: packaging in ./.venv/lib/python3.12/site-packages (from plotly) (24.1)\n",
      "Note: you may need to restart the kernel to use updated packages.\n"
     ]
    }
   ],
   "source": [
    "pip install plotly"
   ]
  },
  {
   "cell_type": "markdown",
   "metadata": {},
   "source": [
    "## hyperparameter search"
   ]
  },
  {
   "cell_type": "code",
   "execution_count": 549,
   "metadata": {},
   "outputs": [],
   "source": [
    "import torch.optim.lr_scheduler as lr_scheduler\n",
    "import random\n"
   ]
  },
  {
   "cell_type": "markdown",
   "metadata": {},
   "source": [
    "### one part CVAE"
   ]
  },
  {
   "cell_type": "code",
   "execution_count": 622,
   "metadata": {},
   "outputs": [
    {
     "name": "stderr",
     "output_type": "stream",
     "text": [
      "Experiment:  10%|█         | 2/20 [00:49<07:22, 24.57s/it]\n"
     ]
    },
    {
     "ename": "KeyboardInterrupt",
     "evalue": "",
     "output_type": "error",
     "traceback": [
      "\u001b[0;31m---------------------------------------------------------------------------\u001b[0m",
      "\u001b[0;31mKeyboardInterrupt\u001b[0m                         Traceback (most recent call last)",
      "Cell \u001b[0;32mIn[622], line 121\u001b[0m\n\u001b[1;32m    119\u001b[0m epoch_recon_loss \u001b[38;5;241m=\u001b[39m \u001b[38;5;241m0\u001b[39m\n\u001b[1;32m    120\u001b[0m epoch_kl_loss \u001b[38;5;241m=\u001b[39m \u001b[38;5;241m0\u001b[39m\n\u001b[0;32m--> 121\u001b[0m \u001b[43m\u001b[49m\u001b[38;5;28;43;01mfor\u001b[39;49;00m\u001b[43m \u001b[49m\u001b[43mbatch_idx\u001b[49m\u001b[43m,\u001b[49m\u001b[43m \u001b[49m\u001b[43m(\u001b[49m\u001b[43mx\u001b[49m\u001b[43m,\u001b[49m\u001b[43m \u001b[49m\u001b[43mc\u001b[49m\u001b[43m)\u001b[49m\u001b[43m \u001b[49m\u001b[38;5;129;43;01min\u001b[39;49;00m\u001b[43m \u001b[49m\u001b[38;5;28;43menumerate\u001b[39;49m\u001b[43m(\u001b[49m\u001b[43mdataloader\u001b[49m\u001b[43m)\u001b[49m\u001b[43m:\u001b[49m\n\u001b[1;32m    122\u001b[0m \u001b[43m    \u001b[49m\u001b[43mx\u001b[49m\u001b[43m,\u001b[49m\u001b[43m \u001b[49m\u001b[43mc\u001b[49m\u001b[43m \u001b[49m\u001b[38;5;241;43m=\u001b[39;49m\u001b[43m \u001b[49m\u001b[43mx\u001b[49m\u001b[38;5;241;43m.\u001b[39;49m\u001b[43mto\u001b[49m\u001b[43m(\u001b[49m\u001b[43mdevice\u001b[49m\u001b[43m)\u001b[49m\u001b[43m,\u001b[49m\u001b[43m \u001b[49m\u001b[43mc\u001b[49m\u001b[38;5;241;43m.\u001b[39;49m\u001b[43mto\u001b[49m\u001b[43m(\u001b[49m\u001b[43mdevice\u001b[49m\u001b[43m)\u001b[49m\n\u001b[1;32m    123\u001b[0m \u001b[43m    \u001b[49m\u001b[43moptimizer\u001b[49m\u001b[38;5;241;43m.\u001b[39;49m\u001b[43mzero_grad\u001b[49m\u001b[43m(\u001b[49m\u001b[43m)\u001b[49m\n",
      "File \u001b[0;32m~/Desktop/igor_master_theis/.venv/lib/python3.12/site-packages/torch/utils/data/dataloader.py:630\u001b[0m, in \u001b[0;36m_BaseDataLoaderIter.__next__\u001b[0;34m(self)\u001b[0m\n\u001b[1;32m    627\u001b[0m \u001b[38;5;28;01mif\u001b[39;00m \u001b[38;5;28mself\u001b[39m\u001b[38;5;241m.\u001b[39m_sampler_iter \u001b[38;5;129;01mis\u001b[39;00m \u001b[38;5;28;01mNone\u001b[39;00m:\n\u001b[1;32m    628\u001b[0m     \u001b[38;5;66;03m# TODO(https://github.com/pytorch/pytorch/issues/76750)\u001b[39;00m\n\u001b[1;32m    629\u001b[0m     \u001b[38;5;28mself\u001b[39m\u001b[38;5;241m.\u001b[39m_reset()  \u001b[38;5;66;03m# type: ignore[call-arg]\u001b[39;00m\n\u001b[0;32m--> 630\u001b[0m data \u001b[38;5;241m=\u001b[39m \u001b[38;5;28;43mself\u001b[39;49m\u001b[38;5;241;43m.\u001b[39;49m\u001b[43m_next_data\u001b[49m\u001b[43m(\u001b[49m\u001b[43m)\u001b[49m\n\u001b[1;32m    631\u001b[0m \u001b[38;5;28mself\u001b[39m\u001b[38;5;241m.\u001b[39m_num_yielded \u001b[38;5;241m+\u001b[39m\u001b[38;5;241m=\u001b[39m \u001b[38;5;241m1\u001b[39m\n\u001b[1;32m    632\u001b[0m \u001b[38;5;28;01mif\u001b[39;00m \u001b[38;5;28mself\u001b[39m\u001b[38;5;241m.\u001b[39m_dataset_kind \u001b[38;5;241m==\u001b[39m _DatasetKind\u001b[38;5;241m.\u001b[39mIterable \u001b[38;5;129;01mand\u001b[39;00m \\\n\u001b[1;32m    633\u001b[0m         \u001b[38;5;28mself\u001b[39m\u001b[38;5;241m.\u001b[39m_IterableDataset_len_called \u001b[38;5;129;01mis\u001b[39;00m \u001b[38;5;129;01mnot\u001b[39;00m \u001b[38;5;28;01mNone\u001b[39;00m \u001b[38;5;129;01mand\u001b[39;00m \\\n\u001b[1;32m    634\u001b[0m         \u001b[38;5;28mself\u001b[39m\u001b[38;5;241m.\u001b[39m_num_yielded \u001b[38;5;241m>\u001b[39m \u001b[38;5;28mself\u001b[39m\u001b[38;5;241m.\u001b[39m_IterableDataset_len_called:\n",
      "File \u001b[0;32m~/Desktop/igor_master_theis/.venv/lib/python3.12/site-packages/torch/utils/data/dataloader.py:673\u001b[0m, in \u001b[0;36m_SingleProcessDataLoaderIter._next_data\u001b[0;34m(self)\u001b[0m\n\u001b[1;32m    671\u001b[0m \u001b[38;5;28;01mdef\u001b[39;00m \u001b[38;5;21m_next_data\u001b[39m(\u001b[38;5;28mself\u001b[39m):\n\u001b[1;32m    672\u001b[0m     index \u001b[38;5;241m=\u001b[39m \u001b[38;5;28mself\u001b[39m\u001b[38;5;241m.\u001b[39m_next_index()  \u001b[38;5;66;03m# may raise StopIteration\u001b[39;00m\n\u001b[0;32m--> 673\u001b[0m     data \u001b[38;5;241m=\u001b[39m \u001b[38;5;28;43mself\u001b[39;49m\u001b[38;5;241;43m.\u001b[39;49m\u001b[43m_dataset_fetcher\u001b[49m\u001b[38;5;241;43m.\u001b[39;49m\u001b[43mfetch\u001b[49m\u001b[43m(\u001b[49m\u001b[43mindex\u001b[49m\u001b[43m)\u001b[49m  \u001b[38;5;66;03m# may raise StopIteration\u001b[39;00m\n\u001b[1;32m    674\u001b[0m     \u001b[38;5;28;01mif\u001b[39;00m \u001b[38;5;28mself\u001b[39m\u001b[38;5;241m.\u001b[39m_pin_memory:\n\u001b[1;32m    675\u001b[0m         data \u001b[38;5;241m=\u001b[39m _utils\u001b[38;5;241m.\u001b[39mpin_memory\u001b[38;5;241m.\u001b[39mpin_memory(data, \u001b[38;5;28mself\u001b[39m\u001b[38;5;241m.\u001b[39m_pin_memory_device)\n",
      "File \u001b[0;32m~/Desktop/igor_master_theis/.venv/lib/python3.12/site-packages/torch/utils/data/_utils/fetch.py:52\u001b[0m, in \u001b[0;36m_MapDatasetFetcher.fetch\u001b[0;34m(self, possibly_batched_index)\u001b[0m\n\u001b[1;32m     50\u001b[0m         data \u001b[38;5;241m=\u001b[39m \u001b[38;5;28mself\u001b[39m\u001b[38;5;241m.\u001b[39mdataset\u001b[38;5;241m.\u001b[39m__getitems__(possibly_batched_index)\n\u001b[1;32m     51\u001b[0m     \u001b[38;5;28;01melse\u001b[39;00m:\n\u001b[0;32m---> 52\u001b[0m         data \u001b[38;5;241m=\u001b[39m [\u001b[38;5;28;43mself\u001b[39;49m\u001b[38;5;241;43m.\u001b[39;49m\u001b[43mdataset\u001b[49m\u001b[43m[\u001b[49m\u001b[43midx\u001b[49m\u001b[43m]\u001b[49m \u001b[38;5;28;01mfor\u001b[39;00m idx \u001b[38;5;129;01min\u001b[39;00m possibly_batched_index]\n\u001b[1;32m     53\u001b[0m \u001b[38;5;28;01melse\u001b[39;00m:\n\u001b[1;32m     54\u001b[0m     data \u001b[38;5;241m=\u001b[39m \u001b[38;5;28mself\u001b[39m\u001b[38;5;241m.\u001b[39mdataset[possibly_batched_index]\n",
      "File \u001b[0;32m~/Desktop/igor_master_theis/.venv/lib/python3.12/site-packages/torch/utils/data/dataset.py:211\u001b[0m, in \u001b[0;36mTensorDataset.__getitem__\u001b[0;34m(self, index)\u001b[0m\n\u001b[1;32m    210\u001b[0m \u001b[38;5;28;01mdef\u001b[39;00m \u001b[38;5;21m__getitem__\u001b[39m(\u001b[38;5;28mself\u001b[39m, index):\n\u001b[0;32m--> 211\u001b[0m     \u001b[38;5;28;01mreturn\u001b[39;00m \u001b[38;5;28;43mtuple\u001b[39;49m\u001b[43m(\u001b[49m\u001b[43mtensor\u001b[49m\u001b[43m[\u001b[49m\u001b[43mindex\u001b[49m\u001b[43m]\u001b[49m\u001b[43m \u001b[49m\u001b[38;5;28;43;01mfor\u001b[39;49;00m\u001b[43m \u001b[49m\u001b[43mtensor\u001b[49m\u001b[43m \u001b[49m\u001b[38;5;129;43;01min\u001b[39;49;00m\u001b[43m \u001b[49m\u001b[38;5;28;43mself\u001b[39;49m\u001b[38;5;241;43m.\u001b[39;49m\u001b[43mtensors\u001b[49m\u001b[43m)\u001b[49m\n",
      "File \u001b[0;32m~/Desktop/igor_master_theis/.venv/lib/python3.12/site-packages/torch/utils/data/dataset.py:211\u001b[0m, in \u001b[0;36m<genexpr>\u001b[0;34m(.0)\u001b[0m\n\u001b[1;32m    210\u001b[0m \u001b[38;5;28;01mdef\u001b[39;00m \u001b[38;5;21m__getitem__\u001b[39m(\u001b[38;5;28mself\u001b[39m, index):\n\u001b[0;32m--> 211\u001b[0m     \u001b[38;5;28;01mreturn\u001b[39;00m \u001b[38;5;28mtuple\u001b[39m(tensor[index] \u001b[38;5;28;01mfor\u001b[39;00m tensor \u001b[38;5;129;01min\u001b[39;00m \u001b[38;5;28mself\u001b[39m\u001b[38;5;241m.\u001b[39mtensors)\n",
      "\u001b[0;31mKeyboardInterrupt\u001b[0m: "
     ]
    }
   ],
   "source": [
    "num_epochs = 30\n",
    "N = 20\n",
    "\n",
    "BETA =1\n",
    "WEGIHT_DECAY = 0.01\n",
    "\n",
    "latent_dim = 10      # Example latent dimension\n",
    "hidden_dim = 400     # Example hidden dimension\n",
    "\n",
    "def random_experiments(n):\n",
    "    latent_dims = [2, 4, 10, 20]\n",
    "    hidden_dims = [32, 64, 128, 256]\n",
    "    batch_sizes = [8, 16, 32, 64, 128]\n",
    "    learning_rates = [1e-5, 5e-5, 1e-4, 5e-4, 1e-3, 5e-3]\n",
    "    \n",
    "    for _ in tqdm(range(n), desc='Experiment'):\n",
    "        latent_dim = random.choice(latent_dims)\n",
    "        hidden_dim = random.choice(hidden_dims)\n",
    "        BATCH_SIZE = random.choice(batch_sizes)\n",
    "        LR = random.choice(learning_rates)\n",
    "        yield (latent_dim, hidden_dim, BATCH_SIZE, LR)\n",
    "\n",
    "hyperparameter_results = pd.DataFrame(columns=['latent_dim', \n",
    "                                               'hidden_dim', \n",
    "                                               'BATCH_SIZE', \n",
    "                                               'LR'])\n",
    "\n",
    "for latent_dim, hidden_dim, BATCH_SIZE, LR in random_experiments(N):\n",
    "    # print(f'latent_dim: {latent_dim}, hidden_dim: {hidden_dim}, num_epochs: {num_epochs}, BATCH_SIZE: {BATCH_SIZE}, LR: {LR}, BETA: {BETA}, WEGIHT_DECAY: {WEGIHT_DECAY}')\n",
    "    \n",
    "    class CVAE(nn.Module):\n",
    "        def __init__(self, input_dim, condition_dim, latent_dim, hidden_dim, dropout_prob=0.1):\n",
    "            super(CVAE, self).__init__()\n",
    "            self.input_dim = input_dim\n",
    "            self.condition_dim = condition_dim\n",
    "            self.latent_dim = latent_dim\n",
    "            self.hidden_dim = hidden_dim\n",
    "            self.encoder = nn.Sequential(\n",
    "                nn.Linear(input_dim + condition_dim, hidden_dim), #TODO rewrite this to the CONVOLUTIONAL LAYERS!\n",
    "                nn.ReLU(),\n",
    "                nn.Dropout(dropout_prob),\n",
    "                nn.Linear(hidden_dim, hidden_dim),\n",
    "                nn.ReLU(),\n",
    "                nn.Dropout(dropout_prob),   # Add dropout layer\n",
    "            )\n",
    "            self.fc_mu = nn.Linear(hidden_dim, latent_dim)\n",
    "            self.fc_logvar = nn.Linear(hidden_dim, latent_dim)\n",
    "            \n",
    "            self.decoder = nn.Sequential(\n",
    "                nn.Linear(latent_dim + condition_dim, hidden_dim),\n",
    "                nn.ReLU(),\n",
    "                nn.Dropout(dropout_prob),   # Add dropout layer\n",
    "                nn.Linear(hidden_dim, hidden_dim),\n",
    "                nn.ReLU(),\n",
    "                nn.Dropout(dropout_prob),   # Add dropout layer\n",
    "                nn.Linear(hidden_dim, input_dim),\n",
    "            )\n",
    "            \n",
    "        def encode(self, x, c):\n",
    "            x = torch.cat([x, c], dim=1)\n",
    "            h = self.encoder(x)\n",
    "            return self.fc_mu(h), self.fc_logvar(h)\n",
    "        \n",
    "        def reparameterize(self, mu, logvar):\n",
    "            std = torch.exp(0.5 * logvar)\n",
    "            eps = torch.randn_like(std)\n",
    "            return mu + eps * std\n",
    "        \n",
    "        def decode(self, z, c):\n",
    "            z = torch.cat([z, c], dim=1)\n",
    "            return self.decoder(z)\n",
    "        \n",
    "        def forward(self, x, c):\n",
    "            mu, logvar = self.encode(x, c)\n",
    "            z = self.reparameterize(mu, logvar)\n",
    "            return self.decode(z, c), mu, logvar\n",
    "    \n",
    "    def count_parameters(model):\n",
    "        return sum(p.numel() for p in model.parameters() if p.requires_grad)\n",
    "\n",
    "    input_dim = 4  # Example input dimension for MNIST\n",
    "    condition_dim = 3   # Example condition dimension\n",
    "\n",
    "\n",
    "    def convert_dataframes_to_torches(dataframe):\n",
    "        input_features = ['Origin Lat', 'Origin Lng', 'Destination Lat', 'Destination Lng']\n",
    "        condition_features = ['Interval', 'Work Day', 'Day of the Week']\n",
    "\n",
    "        X = torch.FloatTensor(dataframe[input_features].values)\n",
    "        C = torch.FloatTensor(dataframe[condition_features].values)\n",
    "\n",
    "        X_mean, X_std = X.mean(dim=0), X.std(dim=0)\n",
    "        X = (X - X_mean) / X_std\n",
    "        C_mean, C_std = C.mean(dim=0), C.std(dim=0)\n",
    "        C = (C - C_mean) / C_std\n",
    "\n",
    "        dataset = TensorDataset(X, C)\n",
    "        dataloader = DataLoader(dataset, batch_size=BATCH_SIZE, shuffle=True)\n",
    "        return input_features,condition_features,dataloader, X_mean, X_std, C_mean, C_std\n",
    "\n",
    "    input_features, condition_features, dataloader, X_mean, X_std, C_mean, C_std = convert_dataframes_to_torches(dataframe=train_df)\n",
    "\n",
    "\n",
    "    joint_model = CVAE(input_dim, condition_dim, latent_dim, hidden_dim).to(device)\n",
    "    num_params = count_parameters(joint_model)\n",
    "    # print(f'The model has {num_params} trainable parameters.')\n",
    "\n",
    "    optimizer = optim.AdamW(joint_model.parameters(), lr=LR, weight_decay=WEGIHT_DECAY)\n",
    "\n",
    "    scheduler = lr_scheduler.StepLR(optimizer, step_size=10, gamma=0.1)\n",
    "\n",
    "\n",
    "\n",
    "    recon_losses = []\n",
    "    kl_losses = []\n",
    "    beta = BETA\n",
    "    \n",
    "    for epoch in range(num_epochs):\n",
    "        epoch_recon_loss = 0\n",
    "        epoch_kl_loss = 0\n",
    "        for batch_idx, (x, c) in enumerate(dataloader):\n",
    "            x, c = x.to(device), c.to(device)\n",
    "            optimizer.zero_grad()\n",
    "            recon_x, mu, logvar = joint_model(x, c)\n",
    "            \n",
    "            # Reconstruction loss\n",
    "            recon_loss = F.mse_loss(recon_x, x, reduction='sum')\n",
    "            \n",
    "            # KL divergence loss\n",
    "            kl_loss = -0.5 * torch.sum(1 + logvar - mu.pow(2) - logvar.exp())\n",
    "            \n",
    "            # Total loss\n",
    "            loss = recon_loss + beta * kl_loss\n",
    "            \n",
    "            loss.backward()\n",
    "            optimizer.step()\n",
    "            \n",
    "            epoch_recon_loss += recon_loss.item()\n",
    "            epoch_kl_loss += kl_loss.item()\n",
    "        \n",
    "        scheduler.step()\n",
    "        \n",
    "        \n",
    "        recon_losses.append(epoch_recon_loss / len(dataloader.dataset))\n",
    "        kl_losses.append(epoch_kl_loss / len(dataloader.dataset))\n",
    "        # print(f'Epoch {epoch+1}, Recon Loss: {recon_losses[-1]:.4f}, KL Loss: {kl_losses[-1]:.4f}')\n",
    "\n",
    "\n",
    "\n",
    "    def haversine_distance(coord1, coord2):\n",
    "        \"\"\"\n",
    "        Calculate the Haversine distance between two points on the Earth.\n",
    "        \n",
    "        Parameters:\n",
    "        coord1, coord2: numpy arrays of shape (n, 2) where each row is (latitude, longitude)\n",
    "        \n",
    "        Returns:\n",
    "        distances: numpy array of shape (n,) containing the distances\n",
    "        \"\"\"\n",
    "        # Convert latitude and longitude from degrees to radians\n",
    "        lat1, lon1 = np.radians(coord1[:, 0]), np.radians(coord1[:, 1])\n",
    "        lat2, lon2 = np.radians(coord2[:, 0]), np.radians(coord2[:, 1])\n",
    "        \n",
    "        # Compute differences\n",
    "        dlat = lat2 - lat1\n",
    "        dlon = lon2 - lon1\n",
    "        \n",
    "        # Haversine formula\n",
    "        a = np.sin(dlat / 2.0)**2 + np.cos(lat1) * np.cos(lat2) * np.sin(dlon / 2.0)**2\n",
    "        c = 2 * np.arcsin(np.sqrt(a))\n",
    "        \n",
    "        # Radius of Earth in kilometers (mean radius)\n",
    "        R = 6371000.0\n",
    "        distances = R * c\n",
    "        \n",
    "        return distances\n",
    "\n",
    "    warnings.filterwarnings('ignore')\n",
    "\n",
    "    # TODO condition on less things\n",
    "    new_condition = test_df[['Interval', 'Work Day', 'Day of the Week']]\n",
    "    # TODO this should be done on the test dataset!\n",
    "    grouped = test_df.groupby(['Interval', 'Work Day', 'Day of the Week']).size().reset_index(name='Count')\n",
    "    grouped.to_numpy()\n",
    "\n",
    "    # TODO automatically select the smallest graph\n",
    "    plot_cvae = []\n",
    "    plot_bootstrap = []\n",
    "\n",
    "    main_keys = ['spatial', 'temporal']\n",
    "    models = ['cvae', 'gmm', 'bootstraping', 'twopart']\n",
    "    event_types = ['pickup', 'dropoff']\n",
    "\n",
    "    results = defaultdict(lambda: defaultdict(lambda: defaultdict(list)))\n",
    "\n",
    "    for main_key, model, event in itertools.product(main_keys, models, event_types):\n",
    "        results[main_key][model][event] = []\n",
    "\n",
    "\n",
    "    for condition_and_count in grouped.to_numpy()[:10]: #TODO THERE IS A CUTOOF VALUE HERE\n",
    "        new_condition = torch.FloatTensor([condition_and_count[:3]])\n",
    "        samples = condition_and_count[3]\n",
    "        \n",
    "        filtered_df = test_df[(test_df['Interval'] == new_condition[0, 0].item()) & \n",
    "                            (test_df['Work Day'] == new_condition[0, 1].item()) & \n",
    "                            (test_df['Day of the Week'] == new_condition[0, 2].item())]\n",
    "        \n",
    "        hist_df = filtered_df.to_numpy()\n",
    "        heatmap_realized, _, _ = np.histogram2d(hist_df[:, 0], hist_df[:, 1], bins=BINS)\n",
    "\n",
    "\n",
    "        data_to_plot = generate_new_data(joint_model, new_condition, num_samples=samples)\n",
    "        heatmap_predicted, _, _ = np.histogram2d(data_to_plot[:, 0], data_to_plot[:, 1], bins=BINS)\n",
    "        dist = emd_2d_pot(heatmap_predicted, heatmap_realized)\n",
    "        results['spatial']['cvae']['pickup'].append(dist)\n",
    "        \n",
    "        heatmap_predicted, _, _ = np.histogram2d(data_to_plot[:, 2], data_to_plot[:, 3], bins=BINS)\n",
    "        dist = emd_2d_pot(heatmap_predicted, heatmap_realized)\n",
    "        results['spatial']['cvae']['dropoff'].append(dist)\n",
    "        \n",
    "        \n",
    "        results['temporal']['cvae']['pickup'].append(np.mean(haversine_distance(hist_df[:, :2], data_to_plot[:, :2])))\n",
    "        results['temporal']['cvae']['dropoff'].append(np.mean(haversine_distance(hist_df[:, 2:4], data_to_plot[:, 2:4])))\n",
    "        \n",
    "\n",
    "    new_row = {'latent_dim': latent_dim, \n",
    "            'hidden_dim': hidden_dim, \n",
    "            'BATCH_SIZE': BATCH_SIZE, \n",
    "            'LR': LR,\n",
    "            'parameters': num_params,\n",
    "            'comparison_metric': np.mean(results['temporal']['cvae']['pickup'] ) + np.mean(results['temporal']['cvae']['dropoff']) + np.mean(results['spatial']['cvae']['dropoff'])*100 + np.mean(results['temporal']['cvae']['pickup'])*100,}\n",
    "    \n",
    "    new_row_df = pd.DataFrame([new_row])\n",
    "    hyperparameter_results = pd.concat([hyperparameter_results, new_row_df], ignore_index=True)"
   ]
  },
  {
   "cell_type": "code",
   "execution_count": null,
   "metadata": {},
   "outputs": [],
   "source": [
    "# torch.save(joint_model.state_dict(), 'learned_model_weights/CVAE_weights.pth')"
   ]
  },
  {
   "cell_type": "code",
   "execution_count": null,
   "metadata": {},
   "outputs": [
    {
     "data": {
      "text/html": [
       "<div>\n",
       "<style scoped>\n",
       "    .dataframe tbody tr th:only-of-type {\n",
       "        vertical-align: middle;\n",
       "    }\n",
       "\n",
       "    .dataframe tbody tr th {\n",
       "        vertical-align: top;\n",
       "    }\n",
       "\n",
       "    .dataframe thead th {\n",
       "        text-align: right;\n",
       "    }\n",
       "</style>\n",
       "<table border=\"1\" class=\"dataframe\">\n",
       "  <thead>\n",
       "    <tr style=\"text-align: right;\">\n",
       "      <th></th>\n",
       "      <th>latent_dim</th>\n",
       "      <th>hidden_dim</th>\n",
       "      <th>BATCH_SIZE</th>\n",
       "      <th>LR</th>\n",
       "      <th>parameters</th>\n",
       "      <th>comparison_metric</th>\n",
       "    </tr>\n",
       "  </thead>\n",
       "  <tbody>\n",
       "    <tr>\n",
       "      <th>0</th>\n",
       "      <td>4</td>\n",
       "      <td>32</td>\n",
       "      <td>128</td>\n",
       "      <td>0.00010</td>\n",
       "      <td>3020.0</td>\n",
       "      <td>83796.571298</td>\n",
       "    </tr>\n",
       "    <tr>\n",
       "      <th>1</th>\n",
       "      <td>2</td>\n",
       "      <td>32</td>\n",
       "      <td>32</td>\n",
       "      <td>0.00050</td>\n",
       "      <td>2824.0</td>\n",
       "      <td>83787.739988</td>\n",
       "    </tr>\n",
       "    <tr>\n",
       "      <th>2</th>\n",
       "      <td>4</td>\n",
       "      <td>64</td>\n",
       "      <td>128</td>\n",
       "      <td>0.00001</td>\n",
       "      <td>10124.0</td>\n",
       "      <td>82941.249840</td>\n",
       "    </tr>\n",
       "  </tbody>\n",
       "</table>\n",
       "</div>"
      ],
      "text/plain": [
       "  latent_dim hidden_dim BATCH_SIZE       LR  parameters  comparison_metric\n",
       "0          4         32        128  0.00010      3020.0       83796.571298\n",
       "1          2         32         32  0.00050      2824.0       83787.739988\n",
       "2          4         64        128  0.00001     10124.0       82941.249840"
      ]
     },
     "execution_count": 615,
     "metadata": {},
     "output_type": "execute_result"
    }
   ],
   "source": [
    "hyperparameter_results"
   ]
  },
  {
   "cell_type": "code",
   "execution_count": null,
   "metadata": {},
   "outputs": [
    {
     "ename": "ValueError",
     "evalue": "Mime type rendering requires nbformat>=4.2.0 but it is not installed",
     "output_type": "error",
     "traceback": [
      "\u001b[0;31m---------------------------------------------------------------------------\u001b[0m",
      "\u001b[0;31mValueError\u001b[0m                                Traceback (most recent call last)",
      "File \u001b[0;32m~/Desktop/igor_master_theis/.venv/lib/python3.12/site-packages/IPython/core/formatters.py:925\u001b[0m, in \u001b[0;36mIPythonDisplayFormatter.__call__\u001b[0;34m(self, obj)\u001b[0m\n\u001b[1;32m    923\u001b[0m method \u001b[38;5;241m=\u001b[39m get_real_method(obj, \u001b[38;5;28mself\u001b[39m\u001b[38;5;241m.\u001b[39mprint_method)\n\u001b[1;32m    924\u001b[0m \u001b[38;5;28;01mif\u001b[39;00m method \u001b[38;5;129;01mis\u001b[39;00m \u001b[38;5;129;01mnot\u001b[39;00m \u001b[38;5;28;01mNone\u001b[39;00m:\n\u001b[0;32m--> 925\u001b[0m     \u001b[43mmethod\u001b[49m\u001b[43m(\u001b[49m\u001b[43m)\u001b[49m\n\u001b[1;32m    926\u001b[0m     \u001b[38;5;28;01mreturn\u001b[39;00m \u001b[38;5;28;01mTrue\u001b[39;00m\n",
      "File \u001b[0;32m~/Desktop/igor_master_theis/.venv/lib/python3.12/site-packages/plotly/basedatatypes.py:832\u001b[0m, in \u001b[0;36mBaseFigure._ipython_display_\u001b[0;34m(self)\u001b[0m\n\u001b[1;32m    829\u001b[0m \u001b[38;5;28;01mimport\u001b[39;00m \u001b[38;5;21;01mplotly\u001b[39;00m\u001b[38;5;21;01m.\u001b[39;00m\u001b[38;5;21;01mio\u001b[39;00m \u001b[38;5;28;01mas\u001b[39;00m \u001b[38;5;21;01mpio\u001b[39;00m\n\u001b[1;32m    831\u001b[0m \u001b[38;5;28;01mif\u001b[39;00m pio\u001b[38;5;241m.\u001b[39mrenderers\u001b[38;5;241m.\u001b[39mrender_on_display \u001b[38;5;129;01mand\u001b[39;00m pio\u001b[38;5;241m.\u001b[39mrenderers\u001b[38;5;241m.\u001b[39mdefault:\n\u001b[0;32m--> 832\u001b[0m     \u001b[43mpio\u001b[49m\u001b[38;5;241;43m.\u001b[39;49m\u001b[43mshow\u001b[49m\u001b[43m(\u001b[49m\u001b[38;5;28;43mself\u001b[39;49m\u001b[43m)\u001b[49m\n\u001b[1;32m    833\u001b[0m \u001b[38;5;28;01melse\u001b[39;00m:\n\u001b[1;32m    834\u001b[0m     \u001b[38;5;28mprint\u001b[39m(\u001b[38;5;28mrepr\u001b[39m(\u001b[38;5;28mself\u001b[39m))\n",
      "File \u001b[0;32m~/Desktop/igor_master_theis/.venv/lib/python3.12/site-packages/plotly/io/_renderers.py:394\u001b[0m, in \u001b[0;36mshow\u001b[0;34m(fig, renderer, validate, **kwargs)\u001b[0m\n\u001b[1;32m    389\u001b[0m         \u001b[38;5;28;01mraise\u001b[39;00m \u001b[38;5;167;01mValueError\u001b[39;00m(\n\u001b[1;32m    390\u001b[0m             \u001b[38;5;124m\"\u001b[39m\u001b[38;5;124mMime type rendering requires ipython but it is not installed\u001b[39m\u001b[38;5;124m\"\u001b[39m\n\u001b[1;32m    391\u001b[0m         )\n\u001b[1;32m    393\u001b[0m     \u001b[38;5;28;01mif\u001b[39;00m \u001b[38;5;129;01mnot\u001b[39;00m nbformat \u001b[38;5;129;01mor\u001b[39;00m Version(nbformat\u001b[38;5;241m.\u001b[39m__version__) \u001b[38;5;241m<\u001b[39m Version(\u001b[38;5;124m\"\u001b[39m\u001b[38;5;124m4.2.0\u001b[39m\u001b[38;5;124m\"\u001b[39m):\n\u001b[0;32m--> 394\u001b[0m         \u001b[38;5;28;01mraise\u001b[39;00m \u001b[38;5;167;01mValueError\u001b[39;00m(\n\u001b[1;32m    395\u001b[0m             \u001b[38;5;124m\"\u001b[39m\u001b[38;5;124mMime type rendering requires nbformat>=4.2.0 but it is not installed\u001b[39m\u001b[38;5;124m\"\u001b[39m\n\u001b[1;32m    396\u001b[0m         )\n\u001b[1;32m    398\u001b[0m     ipython_display\u001b[38;5;241m.\u001b[39mdisplay(bundle, raw\u001b[38;5;241m=\u001b[39m\u001b[38;5;28;01mTrue\u001b[39;00m)\n\u001b[1;32m    400\u001b[0m \u001b[38;5;66;03m# external renderers\u001b[39;00m\n",
      "\u001b[0;31mValueError\u001b[0m: Mime type rendering requires nbformat>=4.2.0 but it is not installed"
     ]
    },
    {
     "data": {
      "application/vnd.plotly.v1+json": {
       "config": {
        "plotlyServerURL": "https://plot.ly"
       },
       "data": [
        {
         "dimensions": [
          {
           "label": "latent_dim",
           "range": [
            2,
            4
           ],
           "values": [
            4,
            2,
            4
           ]
          },
          {
           "label": "hidden_dim",
           "range": [
            32,
            64
           ],
           "values": [
            32,
            32,
            64
           ]
          },
          {
           "label": "BATCH_SIZE",
           "range": [
            32,
            128
           ],
           "values": [
            128,
            32,
            128
           ]
          },
          {
           "label": "LR",
           "range": [
            0.00001,
            0.0005
           ],
           "tickformat": ".1e",
           "values": [
            0.0001,
            0.0005,
            0.00001
           ]
          },
          {
           "label": "comparison_metric",
           "range": [
            82941.249840167,
            83796.57129813737
           ],
           "values": [
            83796.57129813737,
            83787.73998786132,
            82941.249840167
           ]
          }
         ],
         "line": {
          "color": [
           83796.57129813737,
           83787.73998786132,
           82941.249840167
          ],
          "colorscale": [
           [
            0,
            "#fde725"
           ],
           [
            0.1111111111111111,
            "#b5de2b"
           ],
           [
            0.2222222222222222,
            "#6ece58"
           ],
           [
            0.3333333333333333,
            "#35b779"
           ],
           [
            0.4444444444444444,
            "#1f9e89"
           ],
           [
            0.5555555555555556,
            "#26828e"
           ],
           [
            0.6666666666666666,
            "#31688e"
           ],
           [
            0.7777777777777778,
            "#3e4989"
           ],
           [
            0.8888888888888888,
            "#482878"
           ],
           [
            1,
            "#440154"
           ]
          ],
          "showscale": true
         },
         "type": "parcoords"
        }
       ],
       "layout": {
        "paper_bgcolor": "white",
        "plot_bgcolor": "white",
        "template": {
         "data": {
          "bar": [
           {
            "error_x": {
             "color": "#2a3f5f"
            },
            "error_y": {
             "color": "#2a3f5f"
            },
            "marker": {
             "line": {
              "color": "#E5ECF6",
              "width": 0.5
             },
             "pattern": {
              "fillmode": "overlay",
              "size": 10,
              "solidity": 0.2
             }
            },
            "type": "bar"
           }
          ],
          "barpolar": [
           {
            "marker": {
             "line": {
              "color": "#E5ECF6",
              "width": 0.5
             },
             "pattern": {
              "fillmode": "overlay",
              "size": 10,
              "solidity": 0.2
             }
            },
            "type": "barpolar"
           }
          ],
          "carpet": [
           {
            "aaxis": {
             "endlinecolor": "#2a3f5f",
             "gridcolor": "white",
             "linecolor": "white",
             "minorgridcolor": "white",
             "startlinecolor": "#2a3f5f"
            },
            "baxis": {
             "endlinecolor": "#2a3f5f",
             "gridcolor": "white",
             "linecolor": "white",
             "minorgridcolor": "white",
             "startlinecolor": "#2a3f5f"
            },
            "type": "carpet"
           }
          ],
          "choropleth": [
           {
            "colorbar": {
             "outlinewidth": 0,
             "ticks": ""
            },
            "type": "choropleth"
           }
          ],
          "contour": [
           {
            "colorbar": {
             "outlinewidth": 0,
             "ticks": ""
            },
            "colorscale": [
             [
              0,
              "#0d0887"
             ],
             [
              0.1111111111111111,
              "#46039f"
             ],
             [
              0.2222222222222222,
              "#7201a8"
             ],
             [
              0.3333333333333333,
              "#9c179e"
             ],
             [
              0.4444444444444444,
              "#bd3786"
             ],
             [
              0.5555555555555556,
              "#d8576b"
             ],
             [
              0.6666666666666666,
              "#ed7953"
             ],
             [
              0.7777777777777778,
              "#fb9f3a"
             ],
             [
              0.8888888888888888,
              "#fdca26"
             ],
             [
              1,
              "#f0f921"
             ]
            ],
            "type": "contour"
           }
          ],
          "contourcarpet": [
           {
            "colorbar": {
             "outlinewidth": 0,
             "ticks": ""
            },
            "type": "contourcarpet"
           }
          ],
          "heatmap": [
           {
            "colorbar": {
             "outlinewidth": 0,
             "ticks": ""
            },
            "colorscale": [
             [
              0,
              "#0d0887"
             ],
             [
              0.1111111111111111,
              "#46039f"
             ],
             [
              0.2222222222222222,
              "#7201a8"
             ],
             [
              0.3333333333333333,
              "#9c179e"
             ],
             [
              0.4444444444444444,
              "#bd3786"
             ],
             [
              0.5555555555555556,
              "#d8576b"
             ],
             [
              0.6666666666666666,
              "#ed7953"
             ],
             [
              0.7777777777777778,
              "#fb9f3a"
             ],
             [
              0.8888888888888888,
              "#fdca26"
             ],
             [
              1,
              "#f0f921"
             ]
            ],
            "type": "heatmap"
           }
          ],
          "heatmapgl": [
           {
            "colorbar": {
             "outlinewidth": 0,
             "ticks": ""
            },
            "colorscale": [
             [
              0,
              "#0d0887"
             ],
             [
              0.1111111111111111,
              "#46039f"
             ],
             [
              0.2222222222222222,
              "#7201a8"
             ],
             [
              0.3333333333333333,
              "#9c179e"
             ],
             [
              0.4444444444444444,
              "#bd3786"
             ],
             [
              0.5555555555555556,
              "#d8576b"
             ],
             [
              0.6666666666666666,
              "#ed7953"
             ],
             [
              0.7777777777777778,
              "#fb9f3a"
             ],
             [
              0.8888888888888888,
              "#fdca26"
             ],
             [
              1,
              "#f0f921"
             ]
            ],
            "type": "heatmapgl"
           }
          ],
          "histogram": [
           {
            "marker": {
             "pattern": {
              "fillmode": "overlay",
              "size": 10,
              "solidity": 0.2
             }
            },
            "type": "histogram"
           }
          ],
          "histogram2d": [
           {
            "colorbar": {
             "outlinewidth": 0,
             "ticks": ""
            },
            "colorscale": [
             [
              0,
              "#0d0887"
             ],
             [
              0.1111111111111111,
              "#46039f"
             ],
             [
              0.2222222222222222,
              "#7201a8"
             ],
             [
              0.3333333333333333,
              "#9c179e"
             ],
             [
              0.4444444444444444,
              "#bd3786"
             ],
             [
              0.5555555555555556,
              "#d8576b"
             ],
             [
              0.6666666666666666,
              "#ed7953"
             ],
             [
              0.7777777777777778,
              "#fb9f3a"
             ],
             [
              0.8888888888888888,
              "#fdca26"
             ],
             [
              1,
              "#f0f921"
             ]
            ],
            "type": "histogram2d"
           }
          ],
          "histogram2dcontour": [
           {
            "colorbar": {
             "outlinewidth": 0,
             "ticks": ""
            },
            "colorscale": [
             [
              0,
              "#0d0887"
             ],
             [
              0.1111111111111111,
              "#46039f"
             ],
             [
              0.2222222222222222,
              "#7201a8"
             ],
             [
              0.3333333333333333,
              "#9c179e"
             ],
             [
              0.4444444444444444,
              "#bd3786"
             ],
             [
              0.5555555555555556,
              "#d8576b"
             ],
             [
              0.6666666666666666,
              "#ed7953"
             ],
             [
              0.7777777777777778,
              "#fb9f3a"
             ],
             [
              0.8888888888888888,
              "#fdca26"
             ],
             [
              1,
              "#f0f921"
             ]
            ],
            "type": "histogram2dcontour"
           }
          ],
          "mesh3d": [
           {
            "colorbar": {
             "outlinewidth": 0,
             "ticks": ""
            },
            "type": "mesh3d"
           }
          ],
          "parcoords": [
           {
            "line": {
             "colorbar": {
              "outlinewidth": 0,
              "ticks": ""
             }
            },
            "type": "parcoords"
           }
          ],
          "pie": [
           {
            "automargin": true,
            "type": "pie"
           }
          ],
          "scatter": [
           {
            "fillpattern": {
             "fillmode": "overlay",
             "size": 10,
             "solidity": 0.2
            },
            "type": "scatter"
           }
          ],
          "scatter3d": [
           {
            "line": {
             "colorbar": {
              "outlinewidth": 0,
              "ticks": ""
             }
            },
            "marker": {
             "colorbar": {
              "outlinewidth": 0,
              "ticks": ""
             }
            },
            "type": "scatter3d"
           }
          ],
          "scattercarpet": [
           {
            "marker": {
             "colorbar": {
              "outlinewidth": 0,
              "ticks": ""
             }
            },
            "type": "scattercarpet"
           }
          ],
          "scattergeo": [
           {
            "marker": {
             "colorbar": {
              "outlinewidth": 0,
              "ticks": ""
             }
            },
            "type": "scattergeo"
           }
          ],
          "scattergl": [
           {
            "marker": {
             "colorbar": {
              "outlinewidth": 0,
              "ticks": ""
             }
            },
            "type": "scattergl"
           }
          ],
          "scattermapbox": [
           {
            "marker": {
             "colorbar": {
              "outlinewidth": 0,
              "ticks": ""
             }
            },
            "type": "scattermapbox"
           }
          ],
          "scatterpolar": [
           {
            "marker": {
             "colorbar": {
              "outlinewidth": 0,
              "ticks": ""
             }
            },
            "type": "scatterpolar"
           }
          ],
          "scatterpolargl": [
           {
            "marker": {
             "colorbar": {
              "outlinewidth": 0,
              "ticks": ""
             }
            },
            "type": "scatterpolargl"
           }
          ],
          "scatterternary": [
           {
            "marker": {
             "colorbar": {
              "outlinewidth": 0,
              "ticks": ""
             }
            },
            "type": "scatterternary"
           }
          ],
          "surface": [
           {
            "colorbar": {
             "outlinewidth": 0,
             "ticks": ""
            },
            "colorscale": [
             [
              0,
              "#0d0887"
             ],
             [
              0.1111111111111111,
              "#46039f"
             ],
             [
              0.2222222222222222,
              "#7201a8"
             ],
             [
              0.3333333333333333,
              "#9c179e"
             ],
             [
              0.4444444444444444,
              "#bd3786"
             ],
             [
              0.5555555555555556,
              "#d8576b"
             ],
             [
              0.6666666666666666,
              "#ed7953"
             ],
             [
              0.7777777777777778,
              "#fb9f3a"
             ],
             [
              0.8888888888888888,
              "#fdca26"
             ],
             [
              1,
              "#f0f921"
             ]
            ],
            "type": "surface"
           }
          ],
          "table": [
           {
            "cells": {
             "fill": {
              "color": "#EBF0F8"
             },
             "line": {
              "color": "white"
             }
            },
            "header": {
             "fill": {
              "color": "#C8D4E3"
             },
             "line": {
              "color": "white"
             }
            },
            "type": "table"
           }
          ]
         },
         "layout": {
          "annotationdefaults": {
           "arrowcolor": "#2a3f5f",
           "arrowhead": 0,
           "arrowwidth": 1
          },
          "autotypenumbers": "strict",
          "coloraxis": {
           "colorbar": {
            "outlinewidth": 0,
            "ticks": ""
           }
          },
          "colorscale": {
           "diverging": [
            [
             0,
             "#8e0152"
            ],
            [
             0.1,
             "#c51b7d"
            ],
            [
             0.2,
             "#de77ae"
            ],
            [
             0.3,
             "#f1b6da"
            ],
            [
             0.4,
             "#fde0ef"
            ],
            [
             0.5,
             "#f7f7f7"
            ],
            [
             0.6,
             "#e6f5d0"
            ],
            [
             0.7,
             "#b8e186"
            ],
            [
             0.8,
             "#7fbc41"
            ],
            [
             0.9,
             "#4d9221"
            ],
            [
             1,
             "#276419"
            ]
           ],
           "sequential": [
            [
             0,
             "#0d0887"
            ],
            [
             0.1111111111111111,
             "#46039f"
            ],
            [
             0.2222222222222222,
             "#7201a8"
            ],
            [
             0.3333333333333333,
             "#9c179e"
            ],
            [
             0.4444444444444444,
             "#bd3786"
            ],
            [
             0.5555555555555556,
             "#d8576b"
            ],
            [
             0.6666666666666666,
             "#ed7953"
            ],
            [
             0.7777777777777778,
             "#fb9f3a"
            ],
            [
             0.8888888888888888,
             "#fdca26"
            ],
            [
             1,
             "#f0f921"
            ]
           ],
           "sequentialminus": [
            [
             0,
             "#0d0887"
            ],
            [
             0.1111111111111111,
             "#46039f"
            ],
            [
             0.2222222222222222,
             "#7201a8"
            ],
            [
             0.3333333333333333,
             "#9c179e"
            ],
            [
             0.4444444444444444,
             "#bd3786"
            ],
            [
             0.5555555555555556,
             "#d8576b"
            ],
            [
             0.6666666666666666,
             "#ed7953"
            ],
            [
             0.7777777777777778,
             "#fb9f3a"
            ],
            [
             0.8888888888888888,
             "#fdca26"
            ],
            [
             1,
             "#f0f921"
            ]
           ]
          },
          "colorway": [
           "#636efa",
           "#EF553B",
           "#00cc96",
           "#ab63fa",
           "#FFA15A",
           "#19d3f3",
           "#FF6692",
           "#B6E880",
           "#FF97FF",
           "#FECB52"
          ],
          "font": {
           "color": "#2a3f5f"
          },
          "geo": {
           "bgcolor": "white",
           "lakecolor": "white",
           "landcolor": "#E5ECF6",
           "showlakes": true,
           "showland": true,
           "subunitcolor": "white"
          },
          "hoverlabel": {
           "align": "left"
          },
          "hovermode": "closest",
          "mapbox": {
           "style": "light"
          },
          "paper_bgcolor": "white",
          "plot_bgcolor": "#E5ECF6",
          "polar": {
           "angularaxis": {
            "gridcolor": "white",
            "linecolor": "white",
            "ticks": ""
           },
           "bgcolor": "#E5ECF6",
           "radialaxis": {
            "gridcolor": "white",
            "linecolor": "white",
            "ticks": ""
           }
          },
          "scene": {
           "xaxis": {
            "backgroundcolor": "#E5ECF6",
            "gridcolor": "white",
            "gridwidth": 2,
            "linecolor": "white",
            "showbackground": true,
            "ticks": "",
            "zerolinecolor": "white"
           },
           "yaxis": {
            "backgroundcolor": "#E5ECF6",
            "gridcolor": "white",
            "gridwidth": 2,
            "linecolor": "white",
            "showbackground": true,
            "ticks": "",
            "zerolinecolor": "white"
           },
           "zaxis": {
            "backgroundcolor": "#E5ECF6",
            "gridcolor": "white",
            "gridwidth": 2,
            "linecolor": "white",
            "showbackground": true,
            "ticks": "",
            "zerolinecolor": "white"
           }
          },
          "shapedefaults": {
           "line": {
            "color": "#2a3f5f"
           }
          },
          "ternary": {
           "aaxis": {
            "gridcolor": "white",
            "linecolor": "white",
            "ticks": ""
           },
           "baxis": {
            "gridcolor": "white",
            "linecolor": "white",
            "ticks": ""
           },
           "bgcolor": "#E5ECF6",
           "caxis": {
            "gridcolor": "white",
            "linecolor": "white",
            "ticks": ""
           }
          },
          "title": {
           "x": 0.05
          },
          "xaxis": {
           "automargin": true,
           "gridcolor": "white",
           "linecolor": "white",
           "ticks": "",
           "title": {
            "standoff": 15
           },
           "zerolinecolor": "white",
           "zerolinewidth": 2
          },
          "yaxis": {
           "automargin": true,
           "gridcolor": "white",
           "linecolor": "white",
           "ticks": "",
           "title": {
            "standoff": 15
           },
           "zerolinecolor": "white",
           "zerolinewidth": 2
          }
         }
        }
       }
      },
      "text/html": [
       "<div>                        <script type=\"text/javascript\">window.PlotlyConfig = {MathJaxConfig: 'local'};</script>\n",
       "        <script charset=\"utf-8\" src=\"https://cdn.plot.ly/plotly-2.34.0.min.js\"></script>                <div id=\"826ccf21-e1f0-4350-a6f5-f775367e2f85\" class=\"plotly-graph-div\" style=\"height:100%; width:100%;\"></div>            <script type=\"text/javascript\">                                    window.PLOTLYENV=window.PLOTLYENV || {};                                    if (document.getElementById(\"826ccf21-e1f0-4350-a6f5-f775367e2f85\")) {                    Plotly.newPlot(                        \"826ccf21-e1f0-4350-a6f5-f775367e2f85\",                        [{\"dimensions\":[{\"label\":\"latent_dim\",\"range\":[2,4],\"values\":[4,2,4]},{\"label\":\"hidden_dim\",\"range\":[32,64],\"values\":[32,32,64]},{\"label\":\"BATCH_SIZE\",\"range\":[32,128],\"values\":[128,32,128]},{\"label\":\"LR\",\"range\":[1e-05,0.0005],\"tickformat\":\".1e\",\"values\":[0.0001,0.0005,1e-05]},{\"label\":\"comparison_metric\",\"range\":[82941.249840167,83796.57129813737],\"values\":[83796.57129813737,83787.73998786132,82941.249840167]}],\"line\":{\"color\":[83796.57129813737,83787.73998786132,82941.249840167],\"colorscale\":[[0.0,\"#fde725\"],[0.1111111111111111,\"#b5de2b\"],[0.2222222222222222,\"#6ece58\"],[0.3333333333333333,\"#35b779\"],[0.4444444444444444,\"#1f9e89\"],[0.5555555555555556,\"#26828e\"],[0.6666666666666666,\"#31688e\"],[0.7777777777777778,\"#3e4989\"],[0.8888888888888888,\"#482878\"],[1.0,\"#440154\"]],\"showscale\":true},\"type\":\"parcoords\"}],                        {\"template\":{\"data\":{\"histogram2dcontour\":[{\"type\":\"histogram2dcontour\",\"colorbar\":{\"outlinewidth\":0,\"ticks\":\"\"},\"colorscale\":[[0.0,\"#0d0887\"],[0.1111111111111111,\"#46039f\"],[0.2222222222222222,\"#7201a8\"],[0.3333333333333333,\"#9c179e\"],[0.4444444444444444,\"#bd3786\"],[0.5555555555555556,\"#d8576b\"],[0.6666666666666666,\"#ed7953\"],[0.7777777777777778,\"#fb9f3a\"],[0.8888888888888888,\"#fdca26\"],[1.0,\"#f0f921\"]]}],\"choropleth\":[{\"type\":\"choropleth\",\"colorbar\":{\"outlinewidth\":0,\"ticks\":\"\"}}],\"histogram2d\":[{\"type\":\"histogram2d\",\"colorbar\":{\"outlinewidth\":0,\"ticks\":\"\"},\"colorscale\":[[0.0,\"#0d0887\"],[0.1111111111111111,\"#46039f\"],[0.2222222222222222,\"#7201a8\"],[0.3333333333333333,\"#9c179e\"],[0.4444444444444444,\"#bd3786\"],[0.5555555555555556,\"#d8576b\"],[0.6666666666666666,\"#ed7953\"],[0.7777777777777778,\"#fb9f3a\"],[0.8888888888888888,\"#fdca26\"],[1.0,\"#f0f921\"]]}],\"heatmap\":[{\"type\":\"heatmap\",\"colorbar\":{\"outlinewidth\":0,\"ticks\":\"\"},\"colorscale\":[[0.0,\"#0d0887\"],[0.1111111111111111,\"#46039f\"],[0.2222222222222222,\"#7201a8\"],[0.3333333333333333,\"#9c179e\"],[0.4444444444444444,\"#bd3786\"],[0.5555555555555556,\"#d8576b\"],[0.6666666666666666,\"#ed7953\"],[0.7777777777777778,\"#fb9f3a\"],[0.8888888888888888,\"#fdca26\"],[1.0,\"#f0f921\"]]}],\"heatmapgl\":[{\"type\":\"heatmapgl\",\"colorbar\":{\"outlinewidth\":0,\"ticks\":\"\"},\"colorscale\":[[0.0,\"#0d0887\"],[0.1111111111111111,\"#46039f\"],[0.2222222222222222,\"#7201a8\"],[0.3333333333333333,\"#9c179e\"],[0.4444444444444444,\"#bd3786\"],[0.5555555555555556,\"#d8576b\"],[0.6666666666666666,\"#ed7953\"],[0.7777777777777778,\"#fb9f3a\"],[0.8888888888888888,\"#fdca26\"],[1.0,\"#f0f921\"]]}],\"contourcarpet\":[{\"type\":\"contourcarpet\",\"colorbar\":{\"outlinewidth\":0,\"ticks\":\"\"}}],\"contour\":[{\"type\":\"contour\",\"colorbar\":{\"outlinewidth\":0,\"ticks\":\"\"},\"colorscale\":[[0.0,\"#0d0887\"],[0.1111111111111111,\"#46039f\"],[0.2222222222222222,\"#7201a8\"],[0.3333333333333333,\"#9c179e\"],[0.4444444444444444,\"#bd3786\"],[0.5555555555555556,\"#d8576b\"],[0.6666666666666666,\"#ed7953\"],[0.7777777777777778,\"#fb9f3a\"],[0.8888888888888888,\"#fdca26\"],[1.0,\"#f0f921\"]]}],\"surface\":[{\"type\":\"surface\",\"colorbar\":{\"outlinewidth\":0,\"ticks\":\"\"},\"colorscale\":[[0.0,\"#0d0887\"],[0.1111111111111111,\"#46039f\"],[0.2222222222222222,\"#7201a8\"],[0.3333333333333333,\"#9c179e\"],[0.4444444444444444,\"#bd3786\"],[0.5555555555555556,\"#d8576b\"],[0.6666666666666666,\"#ed7953\"],[0.7777777777777778,\"#fb9f3a\"],[0.8888888888888888,\"#fdca26\"],[1.0,\"#f0f921\"]]}],\"mesh3d\":[{\"type\":\"mesh3d\",\"colorbar\":{\"outlinewidth\":0,\"ticks\":\"\"}}],\"scatter\":[{\"fillpattern\":{\"fillmode\":\"overlay\",\"size\":10,\"solidity\":0.2},\"type\":\"scatter\"}],\"parcoords\":[{\"type\":\"parcoords\",\"line\":{\"colorbar\":{\"outlinewidth\":0,\"ticks\":\"\"}}}],\"scatterpolargl\":[{\"type\":\"scatterpolargl\",\"marker\":{\"colorbar\":{\"outlinewidth\":0,\"ticks\":\"\"}}}],\"bar\":[{\"error_x\":{\"color\":\"#2a3f5f\"},\"error_y\":{\"color\":\"#2a3f5f\"},\"marker\":{\"line\":{\"color\":\"#E5ECF6\",\"width\":0.5},\"pattern\":{\"fillmode\":\"overlay\",\"size\":10,\"solidity\":0.2}},\"type\":\"bar\"}],\"scattergeo\":[{\"type\":\"scattergeo\",\"marker\":{\"colorbar\":{\"outlinewidth\":0,\"ticks\":\"\"}}}],\"scatterpolar\":[{\"type\":\"scatterpolar\",\"marker\":{\"colorbar\":{\"outlinewidth\":0,\"ticks\":\"\"}}}],\"histogram\":[{\"marker\":{\"pattern\":{\"fillmode\":\"overlay\",\"size\":10,\"solidity\":0.2}},\"type\":\"histogram\"}],\"scattergl\":[{\"type\":\"scattergl\",\"marker\":{\"colorbar\":{\"outlinewidth\":0,\"ticks\":\"\"}}}],\"scatter3d\":[{\"type\":\"scatter3d\",\"line\":{\"colorbar\":{\"outlinewidth\":0,\"ticks\":\"\"}},\"marker\":{\"colorbar\":{\"outlinewidth\":0,\"ticks\":\"\"}}}],\"scattermapbox\":[{\"type\":\"scattermapbox\",\"marker\":{\"colorbar\":{\"outlinewidth\":0,\"ticks\":\"\"}}}],\"scatterternary\":[{\"type\":\"scatterternary\",\"marker\":{\"colorbar\":{\"outlinewidth\":0,\"ticks\":\"\"}}}],\"scattercarpet\":[{\"type\":\"scattercarpet\",\"marker\":{\"colorbar\":{\"outlinewidth\":0,\"ticks\":\"\"}}}],\"carpet\":[{\"aaxis\":{\"endlinecolor\":\"#2a3f5f\",\"gridcolor\":\"white\",\"linecolor\":\"white\",\"minorgridcolor\":\"white\",\"startlinecolor\":\"#2a3f5f\"},\"baxis\":{\"endlinecolor\":\"#2a3f5f\",\"gridcolor\":\"white\",\"linecolor\":\"white\",\"minorgridcolor\":\"white\",\"startlinecolor\":\"#2a3f5f\"},\"type\":\"carpet\"}],\"table\":[{\"cells\":{\"fill\":{\"color\":\"#EBF0F8\"},\"line\":{\"color\":\"white\"}},\"header\":{\"fill\":{\"color\":\"#C8D4E3\"},\"line\":{\"color\":\"white\"}},\"type\":\"table\"}],\"barpolar\":[{\"marker\":{\"line\":{\"color\":\"#E5ECF6\",\"width\":0.5},\"pattern\":{\"fillmode\":\"overlay\",\"size\":10,\"solidity\":0.2}},\"type\":\"barpolar\"}],\"pie\":[{\"automargin\":true,\"type\":\"pie\"}]},\"layout\":{\"autotypenumbers\":\"strict\",\"colorway\":[\"#636efa\",\"#EF553B\",\"#00cc96\",\"#ab63fa\",\"#FFA15A\",\"#19d3f3\",\"#FF6692\",\"#B6E880\",\"#FF97FF\",\"#FECB52\"],\"font\":{\"color\":\"#2a3f5f\"},\"hovermode\":\"closest\",\"hoverlabel\":{\"align\":\"left\"},\"paper_bgcolor\":\"white\",\"plot_bgcolor\":\"#E5ECF6\",\"polar\":{\"bgcolor\":\"#E5ECF6\",\"angularaxis\":{\"gridcolor\":\"white\",\"linecolor\":\"white\",\"ticks\":\"\"},\"radialaxis\":{\"gridcolor\":\"white\",\"linecolor\":\"white\",\"ticks\":\"\"}},\"ternary\":{\"bgcolor\":\"#E5ECF6\",\"aaxis\":{\"gridcolor\":\"white\",\"linecolor\":\"white\",\"ticks\":\"\"},\"baxis\":{\"gridcolor\":\"white\",\"linecolor\":\"white\",\"ticks\":\"\"},\"caxis\":{\"gridcolor\":\"white\",\"linecolor\":\"white\",\"ticks\":\"\"}},\"coloraxis\":{\"colorbar\":{\"outlinewidth\":0,\"ticks\":\"\"}},\"colorscale\":{\"sequential\":[[0.0,\"#0d0887\"],[0.1111111111111111,\"#46039f\"],[0.2222222222222222,\"#7201a8\"],[0.3333333333333333,\"#9c179e\"],[0.4444444444444444,\"#bd3786\"],[0.5555555555555556,\"#d8576b\"],[0.6666666666666666,\"#ed7953\"],[0.7777777777777778,\"#fb9f3a\"],[0.8888888888888888,\"#fdca26\"],[1.0,\"#f0f921\"]],\"sequentialminus\":[[0.0,\"#0d0887\"],[0.1111111111111111,\"#46039f\"],[0.2222222222222222,\"#7201a8\"],[0.3333333333333333,\"#9c179e\"],[0.4444444444444444,\"#bd3786\"],[0.5555555555555556,\"#d8576b\"],[0.6666666666666666,\"#ed7953\"],[0.7777777777777778,\"#fb9f3a\"],[0.8888888888888888,\"#fdca26\"],[1.0,\"#f0f921\"]],\"diverging\":[[0,\"#8e0152\"],[0.1,\"#c51b7d\"],[0.2,\"#de77ae\"],[0.3,\"#f1b6da\"],[0.4,\"#fde0ef\"],[0.5,\"#f7f7f7\"],[0.6,\"#e6f5d0\"],[0.7,\"#b8e186\"],[0.8,\"#7fbc41\"],[0.9,\"#4d9221\"],[1,\"#276419\"]]},\"xaxis\":{\"gridcolor\":\"white\",\"linecolor\":\"white\",\"ticks\":\"\",\"title\":{\"standoff\":15},\"zerolinecolor\":\"white\",\"automargin\":true,\"zerolinewidth\":2},\"yaxis\":{\"gridcolor\":\"white\",\"linecolor\":\"white\",\"ticks\":\"\",\"title\":{\"standoff\":15},\"zerolinecolor\":\"white\",\"automargin\":true,\"zerolinewidth\":2},\"scene\":{\"xaxis\":{\"backgroundcolor\":\"#E5ECF6\",\"gridcolor\":\"white\",\"linecolor\":\"white\",\"showbackground\":true,\"ticks\":\"\",\"zerolinecolor\":\"white\",\"gridwidth\":2},\"yaxis\":{\"backgroundcolor\":\"#E5ECF6\",\"gridcolor\":\"white\",\"linecolor\":\"white\",\"showbackground\":true,\"ticks\":\"\",\"zerolinecolor\":\"white\",\"gridwidth\":2},\"zaxis\":{\"backgroundcolor\":\"#E5ECF6\",\"gridcolor\":\"white\",\"linecolor\":\"white\",\"showbackground\":true,\"ticks\":\"\",\"zerolinecolor\":\"white\",\"gridwidth\":2}},\"shapedefaults\":{\"line\":{\"color\":\"#2a3f5f\"}},\"annotationdefaults\":{\"arrowcolor\":\"#2a3f5f\",\"arrowhead\":0,\"arrowwidth\":1},\"geo\":{\"bgcolor\":\"white\",\"landcolor\":\"#E5ECF6\",\"subunitcolor\":\"white\",\"showland\":true,\"showlakes\":true,\"lakecolor\":\"white\"},\"title\":{\"x\":0.05},\"mapbox\":{\"style\":\"light\"}}},\"plot_bgcolor\":\"white\",\"paper_bgcolor\":\"white\"},                        {\"responsive\": true}                    )                };                            </script>        </div>"
      ],
      "text/plain": [
       "Figure({\n",
       "    'data': [{'dimensions': [{'label': 'latent_dim', 'range': [2, 4], 'values': array([4, 2, 4], dtype=object)},\n",
       "                             {'label': 'hidden_dim', 'range': [32, 64], 'values': array([32, 32, 64], dtype=object)},\n",
       "                             {'label': 'BATCH_SIZE', 'range': [32, 128], 'values': array([128, 32, 128], dtype=object)},\n",
       "                             {'label': 'LR',\n",
       "                              'range': [1e-05, 0.0005],\n",
       "                              'tickformat': '.1e',\n",
       "                              'values': array([1.e-04, 5.e-04, 1.e-05])},\n",
       "                             {'label': 'comparison_metric',\n",
       "                              'range': [82941.249840167, 83796.57129813737],\n",
       "                              'values': array([83796.57129814, 83787.73998786, 82941.24984017])}],\n",
       "              'line': {'color': array([83796.57129814, 83787.73998786, 82941.24984017]),\n",
       "                       'colorscale': [[0.0, '#fde725'], [0.1111111111111111,\n",
       "                                      '#b5de2b'], [0.2222222222222222, '#6ece58'],\n",
       "                                      [0.3333333333333333, '#35b779'],\n",
       "                                      [0.4444444444444444, '#1f9e89'],\n",
       "                                      [0.5555555555555556, '#26828e'],\n",
       "                                      [0.6666666666666666, '#31688e'],\n",
       "                                      [0.7777777777777778, '#3e4989'],\n",
       "                                      [0.8888888888888888, '#482878'], [1.0,\n",
       "                                      '#440154']],\n",
       "                       'showscale': True},\n",
       "              'type': 'parcoords'}],\n",
       "    'layout': {'paper_bgcolor': 'white', 'plot_bgcolor': 'white', 'template': '...'}\n",
       "})"
      ]
     },
     "execution_count": 619,
     "metadata": {},
     "output_type": "execute_result"
    }
   ],
   "source": [
    "import plotly.graph_objects as go\n",
    "import pandas as pd\n",
    "import numpy as np\n",
    "\n",
    "# Assuming hyperparameter_results is already defined as your DataFrame\n",
    "# hyperparameter_results = pd.DataFrame({\n",
    "#     'latent_dim': [4, 4, 4, 4, 4, 4, 4, 4, 20, 20, 20, 20, 20, 20, 20, 20],\n",
    "#     'hidden_dim': [64, 64, 64, 64, 256, 256, 256, 256, 64, 64, 64, 64, 256, 256, 256, 256],\n",
    "#     'BATCH_SIZE': [32, 32, 64, 64, 32, 32, 64, 64, 32, 32, 64, 64, 32, 32, 64, 64],\n",
    "#     'LR': [0.0001, 0.0010, 0.0001, 0.0010, 0.0001, 0.0010, 0.0001, 0.0010, 0.0001, 0.0010, 0.0001, 0.0010, 0.0001, 0.0010, 0.0001, 0.0010],\n",
    "#     'parameters': [10124.0, 10124.0, 10124.0, 10124.0, 138764.0, 138764.0, 138764.0, 138764.0, 13228.0, 13228.0, 13228.0, 13228.0, 151084.0, 151084.0, 151084.0, 151084.0],\n",
    "#     'loss': [41.682388, 30.339523, 145.888779, 178.382187, 27.375826, 18.381046, 138.252258, 117.150833, 37.039734, 25.820927, 140.117691, 153.330154, 27.640907, 27.571594, 147.525803, 142.770493]\n",
    "# })\n",
    "\n",
    "# Create the parallel coordinates plot\n",
    "fig = go.Figure(data=\n",
    "    go.Parcoords(\n",
    "        line = dict(color = hyperparameter_results['comparison_metric'],\n",
    "                    colorscale = 'Viridis_r',  # Reverse the colorscale\n",
    "                    showscale = True),\n",
    "        dimensions = list([\n",
    "            dict(range = [hyperparameter_results['latent_dim'].min(), hyperparameter_results['latent_dim'].max()],\n",
    "                 label = 'latent_dim', values = hyperparameter_results['latent_dim']),\n",
    "            dict(range = [hyperparameter_results['hidden_dim'].min(), hyperparameter_results['hidden_dim'].max()],\n",
    "                 label = 'hidden_dim', values = hyperparameter_results['hidden_dim']),\n",
    "            dict(range = [hyperparameter_results['BATCH_SIZE'].min(), hyperparameter_results['BATCH_SIZE'].max()],\n",
    "                 label = 'BATCH_SIZE', values = hyperparameter_results['BATCH_SIZE']),\n",
    "            dict(range = [hyperparameter_results['LR'].min(), hyperparameter_results['LR'].max()],\n",
    "                 tickformat = '.1e',\n",
    "                 label = 'LR', values = hyperparameter_results['LR']),\n",
    "            dict(range = [hyperparameter_results['comparison_metric'].min(), hyperparameter_results['comparison_metric'].max()],\n",
    "                 label = 'comparison_metric', values = hyperparameter_results['comparison_metric'])\n",
    "        ])\n",
    "    )\n",
    ")\n",
    "\n",
    "# Update the layout\n",
    "fig.update_layout(\n",
    "    plot_bgcolor = 'white',\n",
    "    paper_bgcolor = 'white'\n",
    ")\n",
    "\n",
    "\n",
    "# Show the plot\n",
    "# fig.show()"
   ]
  },
  {
   "cell_type": "code",
   "execution_count": null,
   "metadata": {},
   "outputs": [
    {
     "name": "stdout",
     "output_type": "stream",
     "text": [
      "latent_dim                     4\n",
      "hidden_dim                    64\n",
      "BATCH_SIZE                   128\n",
      "LR                       0.00001\n",
      "parameters               10124.0\n",
      "comparison_metric    82941.24984\n",
      "Name: 2, dtype: object\n"
     ]
    }
   ],
   "source": [
    "best_combination = hyperparameter_results.loc[hyperparameter_results['comparison_metric'].idxmin()]\n",
    "\n",
    "# Print the best combination\n",
    "print(best_combination)\n"
   ]
  },
  {
   "cell_type": "markdown",
   "metadata": {},
   "source": [
    "### twopart pickup CVAE"
   ]
  },
  {
   "cell_type": "markdown",
   "metadata": {},
   "source": [
    "### twopart dropoff CVAE"
   ]
  },
  {
   "cell_type": "markdown",
   "metadata": {},
   "source": [
    "# Generating Offline future predicted requests"
   ]
  },
  {
   "cell_type": "code",
   "execution_count": null,
   "metadata": {},
   "outputs": [
    {
     "data": {
      "text/html": [
       "<div>\n",
       "<style scoped>\n",
       "    .dataframe tbody tr th:only-of-type {\n",
       "        vertical-align: middle;\n",
       "    }\n",
       "\n",
       "    .dataframe tbody tr th {\n",
       "        vertical-align: top;\n",
       "    }\n",
       "\n",
       "    .dataframe thead th {\n",
       "        text-align: right;\n",
       "    }\n",
       "</style>\n",
       "<table border=\"1\" class=\"dataframe\">\n",
       "  <thead>\n",
       "    <tr style=\"text-align: right;\">\n",
       "      <th></th>\n",
       "      <th>dates</th>\n",
       "      <th>targets</th>\n",
       "    </tr>\n",
       "  </thead>\n",
       "  <tbody>\n",
       "    <tr>\n",
       "      <th>0</th>\n",
       "      <td>2023-02-25 00:00:00</td>\n",
       "      <td>2</td>\n",
       "    </tr>\n",
       "    <tr>\n",
       "      <th>1</th>\n",
       "      <td>2023-02-25 00:05:00</td>\n",
       "      <td>2</td>\n",
       "    </tr>\n",
       "    <tr>\n",
       "      <th>2</th>\n",
       "      <td>2023-02-25 00:10:00</td>\n",
       "      <td>2</td>\n",
       "    </tr>\n",
       "    <tr>\n",
       "      <th>3</th>\n",
       "      <td>2023-02-25 00:15:00</td>\n",
       "      <td>2</td>\n",
       "    </tr>\n",
       "    <tr>\n",
       "      <th>4</th>\n",
       "      <td>2023-02-25 00:20:00</td>\n",
       "      <td>2</td>\n",
       "    </tr>\n",
       "    <tr>\n",
       "      <th>...</th>\n",
       "      <td>...</td>\n",
       "      <td>...</td>\n",
       "    </tr>\n",
       "    <tr>\n",
       "      <th>1435</th>\n",
       "      <td>2023-03-01 23:35:00</td>\n",
       "      <td>2</td>\n",
       "    </tr>\n",
       "    <tr>\n",
       "      <th>1436</th>\n",
       "      <td>2023-03-01 23:40:00</td>\n",
       "      <td>2</td>\n",
       "    </tr>\n",
       "    <tr>\n",
       "      <th>1437</th>\n",
       "      <td>2023-03-01 23:45:00</td>\n",
       "      <td>2</td>\n",
       "    </tr>\n",
       "    <tr>\n",
       "      <th>1438</th>\n",
       "      <td>2023-03-01 23:50:00</td>\n",
       "      <td>2</td>\n",
       "    </tr>\n",
       "    <tr>\n",
       "      <th>1439</th>\n",
       "      <td>2023-03-01 23:55:00</td>\n",
       "      <td>2</td>\n",
       "    </tr>\n",
       "  </tbody>\n",
       "</table>\n",
       "<p>1440 rows × 2 columns</p>\n",
       "</div>"
      ],
      "text/plain": [
       "                    dates  targets\n",
       "0     2023-02-25 00:00:00        2\n",
       "1     2023-02-25 00:05:00        2\n",
       "2     2023-02-25 00:10:00        2\n",
       "3     2023-02-25 00:15:00        2\n",
       "4     2023-02-25 00:20:00        2\n",
       "...                   ...      ...\n",
       "1435  2023-03-01 23:35:00        2\n",
       "1436  2023-03-01 23:40:00        2\n",
       "1437  2023-03-01 23:45:00        2\n",
       "1438  2023-03-01 23:50:00        2\n",
       "1439  2023-03-01 23:55:00        2\n",
       "\n",
       "[1440 rows x 2 columns]"
      ]
     },
     "execution_count": 23,
     "metadata": {},
     "output_type": "execute_result"
    }
   ],
   "source": [
    "requests_num = pd.read_csv('final_predictions.csv')\n",
    "requests_num\n"
   ]
  },
  {
   "cell_type": "code",
   "execution_count": null,
   "metadata": {},
   "outputs": [
    {
     "name": "stderr",
     "output_type": "stream",
     "text": [
      "/tmp/ipykernel_1579508/1823903010.py:5: SettingWithCopyWarning: \n",
      "A value is trying to be set on a copy of a slice from a DataFrame.\n",
      "Try using .loc[row_indexer,col_indexer] = value instead\n",
      "\n",
      "See the caveats in the documentation: https://pandas.pydata.org/pandas-docs/stable/user_guide/indexing.html#returning-a-view-versus-a-copy\n",
      "  requests_num['Interval'] = requests_num['5 min interval'].dt.strftime('%H:%M')\n",
      "/tmp/ipykernel_1579508/1823903010.py:7: SettingWithCopyWarning: \n",
      "A value is trying to be set on a copy of a slice from a DataFrame.\n",
      "Try using .loc[row_indexer,col_indexer] = value instead\n",
      "\n",
      "See the caveats in the documentation: https://pandas.pydata.org/pandas-docs/stable/user_guide/indexing.html#returning-a-view-versus-a-copy\n",
      "  requests_num['Interval'] = requests_num['Interval'].apply(lambda x: (datetime.datetime.strptime(x, '%H:%M') - start_time).seconds // 60)\n",
      "/tmp/ipykernel_1579508/1823903010.py:8: SettingWithCopyWarning: \n",
      "A value is trying to be set on a copy of a slice from a DataFrame.\n",
      "Try using .loc[row_indexer,col_indexer] = value instead\n",
      "\n",
      "See the caveats in the documentation: https://pandas.pydata.org/pandas-docs/stable/user_guide/indexing.html#returning-a-view-versus-a-copy\n",
      "  requests_num['Work Day'] = requests_num['dates'].dt.dayofweek.apply(lambda x: 1 if x < 5 else 0)\n",
      "/tmp/ipykernel_1579508/1823903010.py:9: SettingWithCopyWarning: \n",
      "A value is trying to be set on a copy of a slice from a DataFrame.\n",
      "Try using .loc[row_indexer,col_indexer] = value instead\n",
      "\n",
      "See the caveats in the documentation: https://pandas.pydata.org/pandas-docs/stable/user_guide/indexing.html#returning-a-view-versus-a-copy\n",
      "  requests_num['Day of the Week'] = requests_num['dates'].dt.dayofweek.apply(lambda x: x + 1)\n"
     ]
    },
    {
     "data": {
      "text/html": [
       "<div>\n",
       "<style scoped>\n",
       "    .dataframe tbody tr th:only-of-type {\n",
       "        vertical-align: middle;\n",
       "    }\n",
       "\n",
       "    .dataframe tbody tr th {\n",
       "        vertical-align: top;\n",
       "    }\n",
       "\n",
       "    .dataframe thead th {\n",
       "        text-align: right;\n",
       "    }\n",
       "</style>\n",
       "<table border=\"1\" class=\"dataframe\">\n",
       "  <thead>\n",
       "    <tr style=\"text-align: right;\">\n",
       "      <th></th>\n",
       "      <th>dates</th>\n",
       "      <th>targets</th>\n",
       "      <th>Interval</th>\n",
       "      <th>Work Day</th>\n",
       "      <th>Day of the Week</th>\n",
       "    </tr>\n",
       "  </thead>\n",
       "  <tbody>\n",
       "    <tr>\n",
       "      <th>0</th>\n",
       "      <td>2023-02-28 19:00:00</td>\n",
       "      <td>2</td>\n",
       "      <td>0</td>\n",
       "      <td>1</td>\n",
       "      <td>2</td>\n",
       "    </tr>\n",
       "    <tr>\n",
       "      <th>1</th>\n",
       "      <td>2023-02-27 19:00:00</td>\n",
       "      <td>2</td>\n",
       "      <td>0</td>\n",
       "      <td>1</td>\n",
       "      <td>1</td>\n",
       "    </tr>\n",
       "    <tr>\n",
       "      <th>2</th>\n",
       "      <td>2023-03-01 19:00:00</td>\n",
       "      <td>2</td>\n",
       "      <td>0</td>\n",
       "      <td>1</td>\n",
       "      <td>3</td>\n",
       "    </tr>\n",
       "    <tr>\n",
       "      <th>3</th>\n",
       "      <td>2023-02-26 19:00:00</td>\n",
       "      <td>2</td>\n",
       "      <td>0</td>\n",
       "      <td>0</td>\n",
       "      <td>7</td>\n",
       "    </tr>\n",
       "    <tr>\n",
       "      <th>4</th>\n",
       "      <td>2023-02-25 19:00:00</td>\n",
       "      <td>2</td>\n",
       "      <td>0</td>\n",
       "      <td>0</td>\n",
       "      <td>6</td>\n",
       "    </tr>\n",
       "    <tr>\n",
       "      <th>...</th>\n",
       "      <td>...</td>\n",
       "      <td>...</td>\n",
       "      <td>...</td>\n",
       "      <td>...</td>\n",
       "      <td>...</td>\n",
       "    </tr>\n",
       "    <tr>\n",
       "      <th>415</th>\n",
       "      <td>2023-02-25 01:55:00</td>\n",
       "      <td>2</td>\n",
       "      <td>415</td>\n",
       "      <td>0</td>\n",
       "      <td>6</td>\n",
       "    </tr>\n",
       "    <tr>\n",
       "      <th>416</th>\n",
       "      <td>2023-02-26 01:55:00</td>\n",
       "      <td>2</td>\n",
       "      <td>415</td>\n",
       "      <td>0</td>\n",
       "      <td>7</td>\n",
       "    </tr>\n",
       "    <tr>\n",
       "      <th>417</th>\n",
       "      <td>2023-03-01 01:55:00</td>\n",
       "      <td>2</td>\n",
       "      <td>415</td>\n",
       "      <td>1</td>\n",
       "      <td>3</td>\n",
       "    </tr>\n",
       "    <tr>\n",
       "      <th>418</th>\n",
       "      <td>2023-02-28 01:55:00</td>\n",
       "      <td>2</td>\n",
       "      <td>415</td>\n",
       "      <td>1</td>\n",
       "      <td>2</td>\n",
       "    </tr>\n",
       "    <tr>\n",
       "      <th>419</th>\n",
       "      <td>2023-02-27 01:55:00</td>\n",
       "      <td>2</td>\n",
       "      <td>415</td>\n",
       "      <td>1</td>\n",
       "      <td>1</td>\n",
       "    </tr>\n",
       "  </tbody>\n",
       "</table>\n",
       "<p>420 rows × 5 columns</p>\n",
       "</div>"
      ],
      "text/plain": [
       "                  dates  targets  Interval  Work Day  Day of the Week\n",
       "0   2023-02-28 19:00:00        2         0         1                2\n",
       "1   2023-02-27 19:00:00        2         0         1                1\n",
       "2   2023-03-01 19:00:00        2         0         1                3\n",
       "3   2023-02-26 19:00:00        2         0         0                7\n",
       "4   2023-02-25 19:00:00        2         0         0                6\n",
       "..                  ...      ...       ...       ...              ...\n",
       "415 2023-02-25 01:55:00        2       415         0                6\n",
       "416 2023-02-26 01:55:00        2       415         0                7\n",
       "417 2023-03-01 01:55:00        2       415         1                3\n",
       "418 2023-02-28 01:55:00        2       415         1                2\n",
       "419 2023-02-27 01:55:00        2       415         1                1\n",
       "\n",
       "[420 rows x 5 columns]"
      ]
     },
     "execution_count": 24,
     "metadata": {},
     "output_type": "execute_result"
    }
   ],
   "source": [
    "requests_num['dates'] = pd.to_datetime(requests_num['dates'])\n",
    "requests_num['Time'] = requests_num['dates'].dt.time\n",
    "requests_num['5 min interval'] = requests_num['Time'].apply(lambda x: (datetime.datetime.combine(datetime.date.today(), x).replace(second=0, microsecond=0, minute=5*(x.minute//5))))\n",
    "requests_num = requests_num[(requests_num['Time'] >= datetime.time(19, 0)) | (requests_num['Time'] < datetime.time(2, 0))]\n",
    "requests_num['Interval'] = requests_num['5 min interval'].dt.strftime('%H:%M')\n",
    "start_time = datetime.datetime.strptime('19:00', '%H:%M')\n",
    "requests_num['Interval'] = requests_num['Interval'].apply(lambda x: (datetime.datetime.strptime(x, '%H:%M') - start_time).seconds // 60)\n",
    "requests_num['Work Day'] = requests_num['dates'].dt.dayofweek.apply(lambda x: 1 if x < 5 else 0)\n",
    "requests_num['Day of the Week'] = requests_num['dates'].dt.dayofweek.apply(lambda x: x + 1)\n",
    "requests_num = requests_num.reset_index(drop=True)\n",
    "requests_num.drop(columns=['Time', '5 min interval'], inplace=True)\n",
    "requests_num = requests_num.sort_values(by='Interval')\n",
    "requests_num = requests_num.reset_index(drop=True)\n",
    "\n",
    "#TODO shift the intervals correctly to predict the time\n",
    "requests_num"
   ]
  },
  {
   "cell_type": "code",
   "execution_count": null,
   "metadata": {},
   "outputs": [],
   "source": [
    "RECOMPUTE_SAVING_FILES = False\n",
    "\n",
    "if RECOMPUTE_SAVING_FILES:\n",
    "    from collections import defaultdict\n",
    "\n",
    "    parallel = 200\n",
    "    for iter in range(parallel):\n",
    "        output = defaultdict(list)\n",
    "\n",
    "        #TODO this needs to be done for a differnet number of CHAINS!\n",
    "        for row in tqdm(requests_num.to_numpy()):\n",
    "            samples = row[1]\n",
    "            new_condition = torch.FloatTensor([row[-3:]])\n",
    "            BINS = 16\n",
    "\n",
    "            data_to_plot = generate_new_data(model, new_condition, num_samples=samples)\n",
    "            for i in range(samples):\n",
    "                \n",
    "                output['Requested Pickup Time'].append(row[0])\n",
    "                output['Origin Lat'].append(data_to_plot[i, 0])\n",
    "                output['Origin Lng'].append(data_to_plot[i, 1])\n",
    "                output['Destination Lat'].append(data_to_plot[i, 2])\n",
    "                output['Destination Lng'].append(data_to_plot[i, 3])\n",
    "                \n",
    "        output_gen_model = pd.DataFrame(output)\n",
    "        output_gen_model['Number of Passengers'] = 1\n",
    "        #save this to the csv\n",
    "        output_gen_model.to_csv('final_results/generated_requests.csv', index=False)\n",
    "        output_gen_model\n",
    "\n",
    "        import pandas as pd\n",
    "        import datetime\n",
    "\n",
    "        # Ensure 'date' column is in datetime format\n",
    "        output_gen_model['Requested Pickup Time'] = pd.to_datetime(output_gen_model['Requested Pickup Time'])\n",
    "\n",
    "        # Create 'after_midnight' column\n",
    "        output_gen_model['after_midnight'] = output_gen_model['Requested Pickup Time'].dt.time.apply(lambda x: 0 if x >= datetime.time(19, 0) else 1)\n",
    "\n",
    "        # Create 'operational_date' column and take only the date component\n",
    "        output_gen_model['operational_date'] = output_gen_model.apply(\n",
    "            lambda row: (row['Requested Pickup Time'] - pd.Timedelta(days=1)).date() if row['after_midnight'] else row['Requested Pickup Time'].date(),\n",
    "            axis=1\n",
    "        )\n",
    "\n",
    "        # Sort by 'operational_date' and then by 'date'\n",
    "        output_gen_model = output_gen_model.sort_values(by=['operational_date', 'Requested Pickup Time'])\n",
    "\n",
    "        # Reset the index\n",
    "        output_gen_model = output_gen_model.reset_index(drop=True)\n",
    "\n",
    "        # Split the DataFrame based on 'operational_date'\n",
    "        grouped = output_gen_model.groupby('operational_date')\n",
    "\n",
    "        # Create a dictionary to hold the split DataFrames\n",
    "        split_dfs = {operational_date: group for operational_date, group in grouped}\n",
    "\n",
    "        # Save each split DataFrame to a separate CSV file\n",
    "        for elem, (operational_date, iter_df) in enumerate(split_dfs.items()):\n",
    "            if elem == 0 or elem == len(split_dfs.items()) - 1: #due to our system first and last days are corrupted\n",
    "                continue\n",
    "            else:\n",
    "                path = '/home/igorsadalski/Proactive_Bus_Routing/data/igor_generative_model_data'\n",
    "                save_df = iter_df.drop(columns=['after_midnight', 'operational_date'])\n",
    "                save_df.to_csv(f'for_testing/output_gen_model_{operational_date}_{iter}.csv', index=False)\n",
    "                save_df.to_csv(path + f'/output_gen_model_{operational_date}_{iter}.csv', index=False)\n",
    "                \n",
    "        split_dfs\n"
   ]
  }
 ],
 "metadata": {
  "kernelspec": {
   "display_name": "Python 3",
   "language": "python",
   "name": "python3"
  },
  "language_info": {
   "codemirror_mode": {
    "name": "ipython",
    "version": 3
   },
   "file_extension": ".py",
   "mimetype": "text/x-python",
   "name": "python",
   "nbconvert_exporter": "python",
   "pygments_lexer": "ipython3",
   "version": "3.12.4"
  }
 },
 "nbformat": 4,
 "nbformat_minor": 2
}
